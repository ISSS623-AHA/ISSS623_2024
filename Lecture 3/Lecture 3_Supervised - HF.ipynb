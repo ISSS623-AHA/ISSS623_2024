{
  "cells": [
    {
      "cell_type": "markdown",
      "metadata": {
        "id": "9ecKGXl3zkKf"
      },
      "source": [
        "# Applied Healthcare Analytics\n",
        "\n",
        "# Lecture : Supervised Learning\n",
        "\n",
        "Workshop Instructions:\n",
        "\n",
        "1. Read through the text descriptions at the top of the cell/code blocks\n",
        "2. Run the code below by selecting the code block and pressing ``Ctrl + Enter``. Note: The preceding code blocks must be run before proceeding to the next block.\n",
        "2. Think through the guiding questions and points that are raised for the step. What do you observe from the output and what do they mean?"
      ]
    },
    {
      "cell_type": "code",
      "execution_count": 1,
      "metadata": {
        "colab": {
          "base_uri": "https://localhost:8080/",
          "height": 1000
        },
        "id": "uG07eB320JXx",
        "outputId": "1d249e7e-4f02-4cdc-fc59-311f60f7b930"
      },
      "outputs": [
        {
          "name": "stdout",
          "output_type": "stream",
          "text": [
            "Defaulting to user installation because normal site-packages is not writeable\n",
            "Requirement already satisfied: ydata-profiling in c:\\users\\gmslasws\\appdata\\roaming\\python\\python312\\site-packages (4.16.1)\n",
            "Requirement already satisfied: scipy<1.16,>=1.4.1 in c:\\programdata\\anaconda3\\lib\\site-packages (from ydata-profiling) (1.13.1)\n",
            "Requirement already satisfied: pandas!=1.4.0,<3.0,>1.1 in c:\\programdata\\anaconda3\\lib\\site-packages (from ydata-profiling) (2.2.2)\n",
            "Requirement already satisfied: matplotlib<=3.10,>=3.5 in c:\\programdata\\anaconda3\\lib\\site-packages (from ydata-profiling) (3.9.2)\n",
            "Requirement already satisfied: pydantic>=2 in c:\\programdata\\anaconda3\\lib\\site-packages (from ydata-profiling) (2.8.2)\n",
            "Requirement already satisfied: PyYAML<6.1,>=5.0.0 in c:\\programdata\\anaconda3\\lib\\site-packages (from ydata-profiling) (6.0.1)\n",
            "Requirement already satisfied: jinja2<3.2,>=2.11.1 in c:\\programdata\\anaconda3\\lib\\site-packages (from ydata-profiling) (3.1.4)\n",
            "Requirement already satisfied: visions<0.8.2,>=0.7.5 in c:\\users\\gmslasws\\appdata\\roaming\\python\\python312\\site-packages (from visions[type_image_path]<0.8.2,>=0.7.5->ydata-profiling) (0.8.1)\n",
            "Requirement already satisfied: numpy<2.2,>=1.16.0 in c:\\programdata\\anaconda3\\lib\\site-packages (from ydata-profiling) (1.26.4)\n",
            "Requirement already satisfied: htmlmin==0.1.12 in c:\\users\\gmslasws\\appdata\\roaming\\python\\python312\\site-packages (from ydata-profiling) (0.1.12)\n",
            "Requirement already satisfied: phik<0.13,>=0.11.1 in c:\\users\\gmslasws\\appdata\\roaming\\python\\python312\\site-packages (from ydata-profiling) (0.12.5)\n",
            "Requirement already satisfied: requests<3,>=2.24.0 in c:\\programdata\\anaconda3\\lib\\site-packages (from ydata-profiling) (2.32.3)\n",
            "Requirement already satisfied: tqdm<5,>=4.48.2 in c:\\programdata\\anaconda3\\lib\\site-packages (from ydata-profiling) (4.66.5)\n",
            "Requirement already satisfied: seaborn<0.14,>=0.10.1 in c:\\programdata\\anaconda3\\lib\\site-packages (from ydata-profiling) (0.13.2)\n",
            "Requirement already satisfied: multimethod<2,>=1.4 in c:\\users\\gmslasws\\appdata\\roaming\\python\\python312\\site-packages (from ydata-profiling) (1.12)\n",
            "Requirement already satisfied: statsmodels<1,>=0.13.2 in c:\\programdata\\anaconda3\\lib\\site-packages (from ydata-profiling) (0.14.2)\n",
            "Requirement already satisfied: typeguard<5,>=3 in c:\\users\\gmslasws\\appdata\\roaming\\python\\python312\\site-packages (from ydata-profiling) (4.4.4)\n",
            "Requirement already satisfied: imagehash==4.3.1 in c:\\users\\gmslasws\\appdata\\roaming\\python\\python312\\site-packages (from ydata-profiling) (4.3.1)\n",
            "Requirement already satisfied: wordcloud>=1.9.3 in c:\\users\\gmslasws\\appdata\\roaming\\python\\python312\\site-packages (from ydata-profiling) (1.9.4)\n",
            "Requirement already satisfied: dacite>=1.8 in c:\\users\\gmslasws\\appdata\\roaming\\python\\python312\\site-packages (from ydata-profiling) (1.9.2)\n",
            "Requirement already satisfied: numba<=0.61,>=0.56.0 in c:\\programdata\\anaconda3\\lib\\site-packages (from ydata-profiling) (0.60.0)\n",
            "Requirement already satisfied: PyWavelets in c:\\programdata\\anaconda3\\lib\\site-packages (from imagehash==4.3.1->ydata-profiling) (1.7.0)\n",
            "Requirement already satisfied: pillow in c:\\users\\gmslasws\\appdata\\roaming\\python\\python312\\site-packages (from imagehash==4.3.1->ydata-profiling) (11.3.0)\n",
            "Requirement already satisfied: MarkupSafe>=2.0 in c:\\programdata\\anaconda3\\lib\\site-packages (from jinja2<3.2,>=2.11.1->ydata-profiling) (2.1.3)\n",
            "Requirement already satisfied: contourpy>=1.0.1 in c:\\programdata\\anaconda3\\lib\\site-packages (from matplotlib<=3.10,>=3.5->ydata-profiling) (1.2.0)\n",
            "Requirement already satisfied: cycler>=0.10 in c:\\programdata\\anaconda3\\lib\\site-packages (from matplotlib<=3.10,>=3.5->ydata-profiling) (0.11.0)\n",
            "Requirement already satisfied: fonttools>=4.22.0 in c:\\programdata\\anaconda3\\lib\\site-packages (from matplotlib<=3.10,>=3.5->ydata-profiling) (4.51.0)\n",
            "Requirement already satisfied: kiwisolver>=1.3.1 in c:\\programdata\\anaconda3\\lib\\site-packages (from matplotlib<=3.10,>=3.5->ydata-profiling) (1.4.4)\n",
            "Requirement already satisfied: packaging>=20.0 in c:\\programdata\\anaconda3\\lib\\site-packages (from matplotlib<=3.10,>=3.5->ydata-profiling) (24.1)\n",
            "Requirement already satisfied: pyparsing>=2.3.1 in c:\\programdata\\anaconda3\\lib\\site-packages (from matplotlib<=3.10,>=3.5->ydata-profiling) (3.1.2)\n",
            "Requirement already satisfied: python-dateutil>=2.7 in c:\\programdata\\anaconda3\\lib\\site-packages (from matplotlib<=3.10,>=3.5->ydata-profiling) (2.9.0.post0)\n",
            "Requirement already satisfied: llvmlite<0.44,>=0.43.0dev0 in c:\\programdata\\anaconda3\\lib\\site-packages (from numba<=0.61,>=0.56.0->ydata-profiling) (0.43.0)\n",
            "Requirement already satisfied: pytz>=2020.1 in c:\\programdata\\anaconda3\\lib\\site-packages (from pandas!=1.4.0,<3.0,>1.1->ydata-profiling) (2024.1)\n",
            "Requirement already satisfied: tzdata>=2022.7 in c:\\programdata\\anaconda3\\lib\\site-packages (from pandas!=1.4.0,<3.0,>1.1->ydata-profiling) (2023.3)\n",
            "Requirement already satisfied: joblib>=0.14.1 in c:\\programdata\\anaconda3\\lib\\site-packages (from phik<0.13,>=0.11.1->ydata-profiling) (1.4.2)\n",
            "Requirement already satisfied: annotated-types>=0.4.0 in c:\\programdata\\anaconda3\\lib\\site-packages (from pydantic>=2->ydata-profiling) (0.6.0)\n",
            "Requirement already satisfied: pydantic-core==2.20.1 in c:\\programdata\\anaconda3\\lib\\site-packages (from pydantic>=2->ydata-profiling) (2.20.1)\n",
            "Requirement already satisfied: typing-extensions>=4.6.1 in c:\\users\\gmslasws\\appdata\\roaming\\python\\python312\\site-packages (from pydantic>=2->ydata-profiling) (4.14.1)\n",
            "Requirement already satisfied: charset-normalizer<4,>=2 in c:\\programdata\\anaconda3\\lib\\site-packages (from requests<3,>=2.24.0->ydata-profiling) (3.3.2)\n",
            "Requirement already satisfied: idna<4,>=2.5 in c:\\programdata\\anaconda3\\lib\\site-packages (from requests<3,>=2.24.0->ydata-profiling) (3.7)\n",
            "Requirement already satisfied: urllib3<3,>=1.21.1 in c:\\programdata\\anaconda3\\lib\\site-packages (from requests<3,>=2.24.0->ydata-profiling) (2.2.3)\n",
            "Requirement already satisfied: certifi>=2017.4.17 in c:\\programdata\\anaconda3\\lib\\site-packages (from requests<3,>=2.24.0->ydata-profiling) (2024.8.30)\n",
            "Requirement already satisfied: patsy>=0.5.6 in c:\\programdata\\anaconda3\\lib\\site-packages (from statsmodels<1,>=0.13.2->ydata-profiling) (0.5.6)\n",
            "Requirement already satisfied: colorama in c:\\programdata\\anaconda3\\lib\\site-packages (from tqdm<5,>=4.48.2->ydata-profiling) (0.4.6)\n",
            "Requirement already satisfied: attrs>=19.3.0 in c:\\programdata\\anaconda3\\lib\\site-packages (from visions<0.8.2,>=0.7.5->visions[type_image_path]<0.8.2,>=0.7.5->ydata-profiling) (23.1.0)\n",
            "Requirement already satisfied: networkx>=2.4 in c:\\programdata\\anaconda3\\lib\\site-packages (from visions<0.8.2,>=0.7.5->visions[type_image_path]<0.8.2,>=0.7.5->ydata-profiling) (3.3)\n",
            "Requirement already satisfied: puremagic in c:\\users\\gmslasws\\appdata\\roaming\\python\\python312\\site-packages (from visions<0.8.2,>=0.7.5->visions[type_image_path]<0.8.2,>=0.7.5->ydata-profiling) (1.30)\n",
            "Requirement already satisfied: six in c:\\programdata\\anaconda3\\lib\\site-packages (from patsy>=0.5.6->statsmodels<1,>=0.13.2->ydata-profiling) (1.16.0)\n",
            "Defaulting to user installation because normal site-packages is not writeable\n",
            "Requirement already satisfied: Pillow in c:\\users\\gmslasws\\appdata\\roaming\\python\\python312\\site-packages (11.3.0)\n"
          ]
        }
      ],
      "source": [
        "!pip install ydata-profiling\n",
        "!pip install --upgrade Pillow"
      ]
    },
    {
      "cell_type": "code",
      "execution_count": 45,
      "metadata": {
        "id": "5NgyGQ2EzkKi"
      },
      "outputs": [],
      "source": [
        "# import warnings\n",
        "# warnings.filterwarnings(\"ignore\")\n",
        "import pandas as pd\n",
        "import numpy as np\n",
        "import seaborn as sns\n",
        "import matplotlib.pyplot as plt\n",
        "import time\n",
        "\n",
        "from sklearn.preprocessing import StandardScaler\n",
        "\n",
        "from ydata_profiling import ProfileReport\n",
        "\n",
        "pd.set_option('display.max_columns', 100)"
      ]
    },
    {
      "cell_type": "markdown",
      "metadata": {
        "id": "uT1Optm-zkKj"
      },
      "source": [
        "# Open Source Datasets\n",
        "\n",
        "The datasets in this notebook can be obtained from the **UCI Machine Learning Repository**\n",
        "\n",
        "1. Heart Failure Clinical Records Dataset: https://archive.ics.uci.edu/ml/datasets/Heart+failure+clinical+records\n",
        "\n",
        "**References**:\n",
        "\n",
        "1. Dua, D. and Graff, C. (2019). UCI Machine Learning Repository [http://archive.ics.uci.edu/ml]. Irvine, CA: University of California, School of Information and Computer Science.\n",
        "2. Tanvir Ahmad, Assia Munir, Sajjad Haider Bhatti, Muhammad Aftab, and Muhammad Ali Raza: \"Survival analysis of heart failure patients: a case study\". PLoS ONE 12(7), 0181001 (2017)\n",
        "3. Davide Chicco, Giuseppe Jurman: \"Machine learning can predict survival of patients with heart failure from serum creatinine and ejection fraction alone\". BMC Medical Informatics and Decision Making 20, 16 (2020). [Web Link]\n"
      ]
    },
    {
      "cell_type": "markdown",
      "metadata": {
        "id": "nvjr90J4zkKj"
      },
      "source": [
        "# 1. Read in datasets"
      ]
    },
    {
      "cell_type": "code",
      "execution_count": 46,
      "metadata": {
        "id": "1DJ3pw5pzkKk"
      },
      "outputs": [],
      "source": [
        "url = 'https://raw.githubusercontent.com/ISSS623-AHA/ISSS623_2024/refs/heads/main/Lecture%203/heart_failure_clinical_records_dataset.csv'\n",
        "hf=pd.read_csv(url)"
      ]
    },
    {
      "cell_type": "markdown",
      "metadata": {
        "id": "4sGI6hjwzkKk"
      },
      "source": [
        "# 2. Data Exploration - Data Formats\n",
        "\n",
        "The first step in any data analysis process is inspecting the dataset itself and familiarizing with the data format and presentation. Use the `.head()` and `.describe()` methods on the CKD and Heart Failure DataFrames to have a look at the values in the columns and how they are presented.\n",
        "\n",
        "Key Considerations:\n",
        "\n",
        "- Are there any missing values? How do you want to treat cases with these values?\n",
        "- Are there duplicated rows?\n",
        "- Is the data in a long or wide format?\n",
        "- Which is your target variable, or variable that you are interesting in predicting?\n",
        "- Is the dataset balanced i.e. equal proportions of examples from each class label?"
      ]
    },
    {
      "cell_type": "markdown",
      "metadata": {
        "id": "wkMXVdrZzkKl"
      },
      "source": [
        "### Heart Failure Dataset"
      ]
    },
    {
      "cell_type": "code",
      "execution_count": 47,
      "metadata": {
        "colab": {
          "base_uri": "https://localhost:8080/",
          "height": 363
        },
        "id": "TxSCQXIZzkKl",
        "outputId": "f69ac30b-3d30-43a1-ca96-d4d198107308"
      },
      "outputs": [
        {
          "data": {
            "application/vnd.microsoft.datawrangler.viewer.v0+json": {
              "columns": [
                {
                  "name": "index",
                  "rawType": "int64",
                  "type": "integer"
                },
                {
                  "name": "age",
                  "rawType": "float64",
                  "type": "float"
                },
                {
                  "name": "anaemia",
                  "rawType": "int64",
                  "type": "integer"
                },
                {
                  "name": "creatinine_phosphokinase",
                  "rawType": "int64",
                  "type": "integer"
                },
                {
                  "name": "diabetes",
                  "rawType": "int64",
                  "type": "integer"
                },
                {
                  "name": "ejection_fraction",
                  "rawType": "int64",
                  "type": "integer"
                },
                {
                  "name": "high_blood_pressure",
                  "rawType": "int64",
                  "type": "integer"
                },
                {
                  "name": "platelets",
                  "rawType": "float64",
                  "type": "float"
                },
                {
                  "name": "serum_creatinine",
                  "rawType": "float64",
                  "type": "float"
                },
                {
                  "name": "serum_sodium",
                  "rawType": "int64",
                  "type": "integer"
                },
                {
                  "name": "sex",
                  "rawType": "int64",
                  "type": "integer"
                },
                {
                  "name": "smoking",
                  "rawType": "int64",
                  "type": "integer"
                },
                {
                  "name": "time",
                  "rawType": "int64",
                  "type": "integer"
                },
                {
                  "name": "DEATH_EVENT",
                  "rawType": "int64",
                  "type": "integer"
                }
              ],
              "ref": "29d6d695-801e-4dad-b60c-cb966dbd401e",
              "rows": [
                [
                  "0",
                  "75.0",
                  "0",
                  "582",
                  "0",
                  "20",
                  "1",
                  "265000.0",
                  "1.9",
                  "130",
                  "1",
                  "0",
                  "4",
                  "1"
                ],
                [
                  "1",
                  "55.0",
                  "0",
                  "7861",
                  "0",
                  "38",
                  "0",
                  "263358.03",
                  "1.1",
                  "136",
                  "1",
                  "0",
                  "6",
                  "1"
                ],
                [
                  "2",
                  "65.0",
                  "0",
                  "146",
                  "0",
                  "20",
                  "0",
                  "162000.0",
                  "1.3",
                  "129",
                  "1",
                  "1",
                  "7",
                  "1"
                ],
                [
                  "3",
                  "50.0",
                  "1",
                  "111",
                  "0",
                  "20",
                  "0",
                  "210000.0",
                  "1.9",
                  "137",
                  "1",
                  "0",
                  "7",
                  "1"
                ],
                [
                  "4",
                  "65.0",
                  "1",
                  "160",
                  "1",
                  "20",
                  "0",
                  "327000.0",
                  "2.7",
                  "116",
                  "0",
                  "0",
                  "8",
                  "1"
                ],
                [
                  "5",
                  "90.0",
                  "1",
                  "47",
                  "0",
                  "40",
                  "1",
                  "204000.0",
                  "2.1",
                  "132",
                  "1",
                  "1",
                  "8",
                  "1"
                ],
                [
                  "6",
                  "75.0",
                  "1",
                  "246",
                  "0",
                  "15",
                  "0",
                  "127000.0",
                  "1.2",
                  "137",
                  "1",
                  "0",
                  "10",
                  "1"
                ],
                [
                  "7",
                  "60.0",
                  "1",
                  "315",
                  "1",
                  "60",
                  "0",
                  "454000.0",
                  "1.1",
                  "131",
                  "1",
                  "1",
                  "10",
                  "1"
                ],
                [
                  "8",
                  "65.0",
                  "0",
                  "157",
                  "0",
                  "65",
                  "0",
                  "263358.03",
                  "1.5",
                  "138",
                  "0",
                  "0",
                  "10",
                  "1"
                ],
                [
                  "9",
                  "80.0",
                  "1",
                  "123",
                  "0",
                  "35",
                  "1",
                  "388000.0",
                  "9.4",
                  "133",
                  "1",
                  "1",
                  "10",
                  "1"
                ]
              ],
              "shape": {
                "columns": 13,
                "rows": 10
              }
            },
            "text/html": [
              "<div>\n",
              "<style scoped>\n",
              "    .dataframe tbody tr th:only-of-type {\n",
              "        vertical-align: middle;\n",
              "    }\n",
              "\n",
              "    .dataframe tbody tr th {\n",
              "        vertical-align: top;\n",
              "    }\n",
              "\n",
              "    .dataframe thead th {\n",
              "        text-align: right;\n",
              "    }\n",
              "</style>\n",
              "<table border=\"1\" class=\"dataframe\">\n",
              "  <thead>\n",
              "    <tr style=\"text-align: right;\">\n",
              "      <th></th>\n",
              "      <th>age</th>\n",
              "      <th>anaemia</th>\n",
              "      <th>creatinine_phosphokinase</th>\n",
              "      <th>diabetes</th>\n",
              "      <th>ejection_fraction</th>\n",
              "      <th>high_blood_pressure</th>\n",
              "      <th>platelets</th>\n",
              "      <th>serum_creatinine</th>\n",
              "      <th>serum_sodium</th>\n",
              "      <th>sex</th>\n",
              "      <th>smoking</th>\n",
              "      <th>time</th>\n",
              "      <th>DEATH_EVENT</th>\n",
              "    </tr>\n",
              "  </thead>\n",
              "  <tbody>\n",
              "    <tr>\n",
              "      <th>0</th>\n",
              "      <td>75.0</td>\n",
              "      <td>0</td>\n",
              "      <td>582</td>\n",
              "      <td>0</td>\n",
              "      <td>20</td>\n",
              "      <td>1</td>\n",
              "      <td>265000.00</td>\n",
              "      <td>1.9</td>\n",
              "      <td>130</td>\n",
              "      <td>1</td>\n",
              "      <td>0</td>\n",
              "      <td>4</td>\n",
              "      <td>1</td>\n",
              "    </tr>\n",
              "    <tr>\n",
              "      <th>1</th>\n",
              "      <td>55.0</td>\n",
              "      <td>0</td>\n",
              "      <td>7861</td>\n",
              "      <td>0</td>\n",
              "      <td>38</td>\n",
              "      <td>0</td>\n",
              "      <td>263358.03</td>\n",
              "      <td>1.1</td>\n",
              "      <td>136</td>\n",
              "      <td>1</td>\n",
              "      <td>0</td>\n",
              "      <td>6</td>\n",
              "      <td>1</td>\n",
              "    </tr>\n",
              "    <tr>\n",
              "      <th>2</th>\n",
              "      <td>65.0</td>\n",
              "      <td>0</td>\n",
              "      <td>146</td>\n",
              "      <td>0</td>\n",
              "      <td>20</td>\n",
              "      <td>0</td>\n",
              "      <td>162000.00</td>\n",
              "      <td>1.3</td>\n",
              "      <td>129</td>\n",
              "      <td>1</td>\n",
              "      <td>1</td>\n",
              "      <td>7</td>\n",
              "      <td>1</td>\n",
              "    </tr>\n",
              "    <tr>\n",
              "      <th>3</th>\n",
              "      <td>50.0</td>\n",
              "      <td>1</td>\n",
              "      <td>111</td>\n",
              "      <td>0</td>\n",
              "      <td>20</td>\n",
              "      <td>0</td>\n",
              "      <td>210000.00</td>\n",
              "      <td>1.9</td>\n",
              "      <td>137</td>\n",
              "      <td>1</td>\n",
              "      <td>0</td>\n",
              "      <td>7</td>\n",
              "      <td>1</td>\n",
              "    </tr>\n",
              "    <tr>\n",
              "      <th>4</th>\n",
              "      <td>65.0</td>\n",
              "      <td>1</td>\n",
              "      <td>160</td>\n",
              "      <td>1</td>\n",
              "      <td>20</td>\n",
              "      <td>0</td>\n",
              "      <td>327000.00</td>\n",
              "      <td>2.7</td>\n",
              "      <td>116</td>\n",
              "      <td>0</td>\n",
              "      <td>0</td>\n",
              "      <td>8</td>\n",
              "      <td>1</td>\n",
              "    </tr>\n",
              "    <tr>\n",
              "      <th>5</th>\n",
              "      <td>90.0</td>\n",
              "      <td>1</td>\n",
              "      <td>47</td>\n",
              "      <td>0</td>\n",
              "      <td>40</td>\n",
              "      <td>1</td>\n",
              "      <td>204000.00</td>\n",
              "      <td>2.1</td>\n",
              "      <td>132</td>\n",
              "      <td>1</td>\n",
              "      <td>1</td>\n",
              "      <td>8</td>\n",
              "      <td>1</td>\n",
              "    </tr>\n",
              "    <tr>\n",
              "      <th>6</th>\n",
              "      <td>75.0</td>\n",
              "      <td>1</td>\n",
              "      <td>246</td>\n",
              "      <td>0</td>\n",
              "      <td>15</td>\n",
              "      <td>0</td>\n",
              "      <td>127000.00</td>\n",
              "      <td>1.2</td>\n",
              "      <td>137</td>\n",
              "      <td>1</td>\n",
              "      <td>0</td>\n",
              "      <td>10</td>\n",
              "      <td>1</td>\n",
              "    </tr>\n",
              "    <tr>\n",
              "      <th>7</th>\n",
              "      <td>60.0</td>\n",
              "      <td>1</td>\n",
              "      <td>315</td>\n",
              "      <td>1</td>\n",
              "      <td>60</td>\n",
              "      <td>0</td>\n",
              "      <td>454000.00</td>\n",
              "      <td>1.1</td>\n",
              "      <td>131</td>\n",
              "      <td>1</td>\n",
              "      <td>1</td>\n",
              "      <td>10</td>\n",
              "      <td>1</td>\n",
              "    </tr>\n",
              "    <tr>\n",
              "      <th>8</th>\n",
              "      <td>65.0</td>\n",
              "      <td>0</td>\n",
              "      <td>157</td>\n",
              "      <td>0</td>\n",
              "      <td>65</td>\n",
              "      <td>0</td>\n",
              "      <td>263358.03</td>\n",
              "      <td>1.5</td>\n",
              "      <td>138</td>\n",
              "      <td>0</td>\n",
              "      <td>0</td>\n",
              "      <td>10</td>\n",
              "      <td>1</td>\n",
              "    </tr>\n",
              "    <tr>\n",
              "      <th>9</th>\n",
              "      <td>80.0</td>\n",
              "      <td>1</td>\n",
              "      <td>123</td>\n",
              "      <td>0</td>\n",
              "      <td>35</td>\n",
              "      <td>1</td>\n",
              "      <td>388000.00</td>\n",
              "      <td>9.4</td>\n",
              "      <td>133</td>\n",
              "      <td>1</td>\n",
              "      <td>1</td>\n",
              "      <td>10</td>\n",
              "      <td>1</td>\n",
              "    </tr>\n",
              "  </tbody>\n",
              "</table>\n",
              "</div>"
            ],
            "text/plain": [
              "    age  anaemia  creatinine_phosphokinase  diabetes  ejection_fraction  \\\n",
              "0  75.0        0                       582         0                 20   \n",
              "1  55.0        0                      7861         0                 38   \n",
              "2  65.0        0                       146         0                 20   \n",
              "3  50.0        1                       111         0                 20   \n",
              "4  65.0        1                       160         1                 20   \n",
              "5  90.0        1                        47         0                 40   \n",
              "6  75.0        1                       246         0                 15   \n",
              "7  60.0        1                       315         1                 60   \n",
              "8  65.0        0                       157         0                 65   \n",
              "9  80.0        1                       123         0                 35   \n",
              "\n",
              "   high_blood_pressure  platelets  serum_creatinine  serum_sodium  sex  \\\n",
              "0                    1  265000.00               1.9           130    1   \n",
              "1                    0  263358.03               1.1           136    1   \n",
              "2                    0  162000.00               1.3           129    1   \n",
              "3                    0  210000.00               1.9           137    1   \n",
              "4                    0  327000.00               2.7           116    0   \n",
              "5                    1  204000.00               2.1           132    1   \n",
              "6                    0  127000.00               1.2           137    1   \n",
              "7                    0  454000.00               1.1           131    1   \n",
              "8                    0  263358.03               1.5           138    0   \n",
              "9                    1  388000.00               9.4           133    1   \n",
              "\n",
              "   smoking  time  DEATH_EVENT  \n",
              "0        0     4            1  \n",
              "1        0     6            1  \n",
              "2        1     7            1  \n",
              "3        0     7            1  \n",
              "4        0     8            1  \n",
              "5        1     8            1  \n",
              "6        0    10            1  \n",
              "7        1    10            1  \n",
              "8        0    10            1  \n",
              "9        1    10            1  "
            ]
          },
          "execution_count": 47,
          "metadata": {},
          "output_type": "execute_result"
        }
      ],
      "source": [
        "hf.head(10)"
      ]
    },
    {
      "cell_type": "code",
      "execution_count": null,
      "metadata": {
        "colab": {
          "base_uri": "https://localhost:8080/"
        },
        "id": "vPnt150CzkKm",
        "outputId": "8b472e09-4cf1-4396-80df-ad4ef1b53dc2"
      },
      "outputs": [
        {
          "data": {
            "text/plain": [
              "Index(['age', 'anaemia', 'creatinine_phosphokinase', 'diabetes',\n",
              "       'ejection_fraction', 'high_blood_pressure', 'platelets',\n",
              "       'serum_creatinine', 'serum_sodium', 'sex', 'smoking', 'time',\n",
              "       'DEATH_EVENT'],\n",
              "      dtype='object')"
            ]
          },
          "execution_count": 5,
          "metadata": {},
          "output_type": "execute_result"
        }
      ],
      "source": [
        "hf.columns"
      ]
    },
    {
      "cell_type": "code",
      "execution_count": 5,
      "metadata": {
        "colab": {
          "base_uri": "https://localhost:8080/"
        },
        "id": "NOMDXJ1lzkKm",
        "outputId": "86f0ac42-dd44-4593-b566-8c1de9ec8df8"
      },
      "outputs": [
        {
          "name": "stdout",
          "output_type": "stream",
          "text": [
            "<class 'pandas.core.frame.DataFrame'>\n",
            "RangeIndex: 299 entries, 0 to 298\n",
            "Data columns (total 13 columns):\n",
            " #   Column                    Non-Null Count  Dtype  \n",
            "---  ------                    --------------  -----  \n",
            " 0   age                       299 non-null    float64\n",
            " 1   anaemia                   299 non-null    int64  \n",
            " 2   creatinine_phosphokinase  299 non-null    int64  \n",
            " 3   diabetes                  299 non-null    int64  \n",
            " 4   ejection_fraction         299 non-null    int64  \n",
            " 5   high_blood_pressure       299 non-null    int64  \n",
            " 6   platelets                 299 non-null    float64\n",
            " 7   serum_creatinine          299 non-null    float64\n",
            " 8   serum_sodium              299 non-null    int64  \n",
            " 9   sex                       299 non-null    int64  \n",
            " 10  smoking                   299 non-null    int64  \n",
            " 11  time                      299 non-null    int64  \n",
            " 12  DEATH_EVENT               299 non-null    int64  \n",
            "dtypes: float64(3), int64(10)\n",
            "memory usage: 30.5 KB\n"
          ]
        }
      ],
      "source": [
        "hf.info()"
      ]
    },
    {
      "cell_type": "code",
      "execution_count": 6,
      "metadata": {
        "colab": {
          "base_uri": "https://localhost:8080/",
          "height": 300
        },
        "id": "Kl5qNnxazkKm",
        "outputId": "00614939-9f98-49e3-fe34-1596571027bd"
      },
      "outputs": [
        {
          "data": {
            "application/vnd.microsoft.datawrangler.viewer.v0+json": {
              "columns": [
                {
                  "name": "index",
                  "rawType": "object",
                  "type": "string"
                },
                {
                  "name": "age",
                  "rawType": "float64",
                  "type": "float"
                },
                {
                  "name": "anaemia",
                  "rawType": "float64",
                  "type": "float"
                },
                {
                  "name": "creatinine_phosphokinase",
                  "rawType": "float64",
                  "type": "float"
                },
                {
                  "name": "diabetes",
                  "rawType": "float64",
                  "type": "float"
                },
                {
                  "name": "ejection_fraction",
                  "rawType": "float64",
                  "type": "float"
                },
                {
                  "name": "high_blood_pressure",
                  "rawType": "float64",
                  "type": "float"
                },
                {
                  "name": "platelets",
                  "rawType": "float64",
                  "type": "float"
                },
                {
                  "name": "serum_creatinine",
                  "rawType": "float64",
                  "type": "float"
                },
                {
                  "name": "serum_sodium",
                  "rawType": "float64",
                  "type": "float"
                },
                {
                  "name": "sex",
                  "rawType": "float64",
                  "type": "float"
                },
                {
                  "name": "smoking",
                  "rawType": "float64",
                  "type": "float"
                },
                {
                  "name": "time",
                  "rawType": "float64",
                  "type": "float"
                },
                {
                  "name": "DEATH_EVENT",
                  "rawType": "float64",
                  "type": "float"
                }
              ],
              "ref": "911c2893-09a9-464d-914e-7d3814d736d4",
              "rows": [
                [
                  "count",
                  "299.0",
                  "299.0",
                  "299.0",
                  "299.0",
                  "299.0",
                  "299.0",
                  "299.0",
                  "299.0",
                  "299.0",
                  "299.0",
                  "299.0",
                  "299.0",
                  "299.0"
                ],
                [
                  "mean",
                  "60.83389297658862",
                  "0.431438127090301",
                  "581.8394648829432",
                  "0.4180602006688963",
                  "38.08361204013378",
                  "0.3511705685618729",
                  "263358.02926421404",
                  "1.3938795986622072",
                  "136.62541806020067",
                  "0.6488294314381271",
                  "0.3210702341137124",
                  "130.2608695652174",
                  "0.3210702341137124"
                ],
                [
                  "std",
                  "11.894809074044478",
                  "0.49610726813307915",
                  "970.2878807124363",
                  "0.49406706510360887",
                  "11.834840741039173",
                  "0.4781363790627452",
                  "97804.23686859828",
                  "1.034510064089853",
                  "4.412477283909233",
                  "0.47813637906274487",
                  "0.4676704280567721",
                  "77.61420795029342",
                  "0.4676704280567721"
                ],
                [
                  "min",
                  "40.0",
                  "0.0",
                  "23.0",
                  "0.0",
                  "14.0",
                  "0.0",
                  "25100.0",
                  "0.5",
                  "113.0",
                  "0.0",
                  "0.0",
                  "4.0",
                  "0.0"
                ],
                [
                  "25%",
                  "51.0",
                  "0.0",
                  "116.5",
                  "0.0",
                  "30.0",
                  "0.0",
                  "212500.0",
                  "0.9",
                  "134.0",
                  "0.0",
                  "0.0",
                  "73.0",
                  "0.0"
                ],
                [
                  "50%",
                  "60.0",
                  "0.0",
                  "250.0",
                  "0.0",
                  "38.0",
                  "0.0",
                  "262000.0",
                  "1.1",
                  "137.0",
                  "1.0",
                  "0.0",
                  "115.0",
                  "0.0"
                ],
                [
                  "75%",
                  "70.0",
                  "1.0",
                  "582.0",
                  "1.0",
                  "45.0",
                  "1.0",
                  "303500.0",
                  "1.4",
                  "140.0",
                  "1.0",
                  "1.0",
                  "203.0",
                  "1.0"
                ],
                [
                  "max",
                  "95.0",
                  "1.0",
                  "7861.0",
                  "1.0",
                  "80.0",
                  "1.0",
                  "850000.0",
                  "9.4",
                  "148.0",
                  "1.0",
                  "1.0",
                  "285.0",
                  "1.0"
                ]
              ],
              "shape": {
                "columns": 13,
                "rows": 8
              }
            },
            "text/html": [
              "<div>\n",
              "<style scoped>\n",
              "    .dataframe tbody tr th:only-of-type {\n",
              "        vertical-align: middle;\n",
              "    }\n",
              "\n",
              "    .dataframe tbody tr th {\n",
              "        vertical-align: top;\n",
              "    }\n",
              "\n",
              "    .dataframe thead th {\n",
              "        text-align: right;\n",
              "    }\n",
              "</style>\n",
              "<table border=\"1\" class=\"dataframe\">\n",
              "  <thead>\n",
              "    <tr style=\"text-align: right;\">\n",
              "      <th></th>\n",
              "      <th>age</th>\n",
              "      <th>anaemia</th>\n",
              "      <th>creatinine_phosphokinase</th>\n",
              "      <th>diabetes</th>\n",
              "      <th>ejection_fraction</th>\n",
              "      <th>high_blood_pressure</th>\n",
              "      <th>platelets</th>\n",
              "      <th>serum_creatinine</th>\n",
              "      <th>serum_sodium</th>\n",
              "      <th>sex</th>\n",
              "      <th>smoking</th>\n",
              "      <th>time</th>\n",
              "      <th>DEATH_EVENT</th>\n",
              "    </tr>\n",
              "  </thead>\n",
              "  <tbody>\n",
              "    <tr>\n",
              "      <th>count</th>\n",
              "      <td>299.000000</td>\n",
              "      <td>299.000000</td>\n",
              "      <td>299.000000</td>\n",
              "      <td>299.000000</td>\n",
              "      <td>299.000000</td>\n",
              "      <td>299.000000</td>\n",
              "      <td>299.000000</td>\n",
              "      <td>299.00000</td>\n",
              "      <td>299.000000</td>\n",
              "      <td>299.000000</td>\n",
              "      <td>299.00000</td>\n",
              "      <td>299.000000</td>\n",
              "      <td>299.00000</td>\n",
              "    </tr>\n",
              "    <tr>\n",
              "      <th>mean</th>\n",
              "      <td>60.833893</td>\n",
              "      <td>0.431438</td>\n",
              "      <td>581.839465</td>\n",
              "      <td>0.418060</td>\n",
              "      <td>38.083612</td>\n",
              "      <td>0.351171</td>\n",
              "      <td>263358.029264</td>\n",
              "      <td>1.39388</td>\n",
              "      <td>136.625418</td>\n",
              "      <td>0.648829</td>\n",
              "      <td>0.32107</td>\n",
              "      <td>130.260870</td>\n",
              "      <td>0.32107</td>\n",
              "    </tr>\n",
              "    <tr>\n",
              "      <th>std</th>\n",
              "      <td>11.894809</td>\n",
              "      <td>0.496107</td>\n",
              "      <td>970.287881</td>\n",
              "      <td>0.494067</td>\n",
              "      <td>11.834841</td>\n",
              "      <td>0.478136</td>\n",
              "      <td>97804.236869</td>\n",
              "      <td>1.03451</td>\n",
              "      <td>4.412477</td>\n",
              "      <td>0.478136</td>\n",
              "      <td>0.46767</td>\n",
              "      <td>77.614208</td>\n",
              "      <td>0.46767</td>\n",
              "    </tr>\n",
              "    <tr>\n",
              "      <th>min</th>\n",
              "      <td>40.000000</td>\n",
              "      <td>0.000000</td>\n",
              "      <td>23.000000</td>\n",
              "      <td>0.000000</td>\n",
              "      <td>14.000000</td>\n",
              "      <td>0.000000</td>\n",
              "      <td>25100.000000</td>\n",
              "      <td>0.50000</td>\n",
              "      <td>113.000000</td>\n",
              "      <td>0.000000</td>\n",
              "      <td>0.00000</td>\n",
              "      <td>4.000000</td>\n",
              "      <td>0.00000</td>\n",
              "    </tr>\n",
              "    <tr>\n",
              "      <th>25%</th>\n",
              "      <td>51.000000</td>\n",
              "      <td>0.000000</td>\n",
              "      <td>116.500000</td>\n",
              "      <td>0.000000</td>\n",
              "      <td>30.000000</td>\n",
              "      <td>0.000000</td>\n",
              "      <td>212500.000000</td>\n",
              "      <td>0.90000</td>\n",
              "      <td>134.000000</td>\n",
              "      <td>0.000000</td>\n",
              "      <td>0.00000</td>\n",
              "      <td>73.000000</td>\n",
              "      <td>0.00000</td>\n",
              "    </tr>\n",
              "    <tr>\n",
              "      <th>50%</th>\n",
              "      <td>60.000000</td>\n",
              "      <td>0.000000</td>\n",
              "      <td>250.000000</td>\n",
              "      <td>0.000000</td>\n",
              "      <td>38.000000</td>\n",
              "      <td>0.000000</td>\n",
              "      <td>262000.000000</td>\n",
              "      <td>1.10000</td>\n",
              "      <td>137.000000</td>\n",
              "      <td>1.000000</td>\n",
              "      <td>0.00000</td>\n",
              "      <td>115.000000</td>\n",
              "      <td>0.00000</td>\n",
              "    </tr>\n",
              "    <tr>\n",
              "      <th>75%</th>\n",
              "      <td>70.000000</td>\n",
              "      <td>1.000000</td>\n",
              "      <td>582.000000</td>\n",
              "      <td>1.000000</td>\n",
              "      <td>45.000000</td>\n",
              "      <td>1.000000</td>\n",
              "      <td>303500.000000</td>\n",
              "      <td>1.40000</td>\n",
              "      <td>140.000000</td>\n",
              "      <td>1.000000</td>\n",
              "      <td>1.00000</td>\n",
              "      <td>203.000000</td>\n",
              "      <td>1.00000</td>\n",
              "    </tr>\n",
              "    <tr>\n",
              "      <th>max</th>\n",
              "      <td>95.000000</td>\n",
              "      <td>1.000000</td>\n",
              "      <td>7861.000000</td>\n",
              "      <td>1.000000</td>\n",
              "      <td>80.000000</td>\n",
              "      <td>1.000000</td>\n",
              "      <td>850000.000000</td>\n",
              "      <td>9.40000</td>\n",
              "      <td>148.000000</td>\n",
              "      <td>1.000000</td>\n",
              "      <td>1.00000</td>\n",
              "      <td>285.000000</td>\n",
              "      <td>1.00000</td>\n",
              "    </tr>\n",
              "  </tbody>\n",
              "</table>\n",
              "</div>"
            ],
            "text/plain": [
              "              age     anaemia  creatinine_phosphokinase    diabetes  \\\n",
              "count  299.000000  299.000000                299.000000  299.000000   \n",
              "mean    60.833893    0.431438                581.839465    0.418060   \n",
              "std     11.894809    0.496107                970.287881    0.494067   \n",
              "min     40.000000    0.000000                 23.000000    0.000000   \n",
              "25%     51.000000    0.000000                116.500000    0.000000   \n",
              "50%     60.000000    0.000000                250.000000    0.000000   \n",
              "75%     70.000000    1.000000                582.000000    1.000000   \n",
              "max     95.000000    1.000000               7861.000000    1.000000   \n",
              "\n",
              "       ejection_fraction  high_blood_pressure      platelets  \\\n",
              "count         299.000000           299.000000     299.000000   \n",
              "mean           38.083612             0.351171  263358.029264   \n",
              "std            11.834841             0.478136   97804.236869   \n",
              "min            14.000000             0.000000   25100.000000   \n",
              "25%            30.000000             0.000000  212500.000000   \n",
              "50%            38.000000             0.000000  262000.000000   \n",
              "75%            45.000000             1.000000  303500.000000   \n",
              "max            80.000000             1.000000  850000.000000   \n",
              "\n",
              "       serum_creatinine  serum_sodium         sex    smoking        time  \\\n",
              "count         299.00000    299.000000  299.000000  299.00000  299.000000   \n",
              "mean            1.39388    136.625418    0.648829    0.32107  130.260870   \n",
              "std             1.03451      4.412477    0.478136    0.46767   77.614208   \n",
              "min             0.50000    113.000000    0.000000    0.00000    4.000000   \n",
              "25%             0.90000    134.000000    0.000000    0.00000   73.000000   \n",
              "50%             1.10000    137.000000    1.000000    0.00000  115.000000   \n",
              "75%             1.40000    140.000000    1.000000    1.00000  203.000000   \n",
              "max             9.40000    148.000000    1.000000    1.00000  285.000000   \n",
              "\n",
              "       DEATH_EVENT  \n",
              "count    299.00000  \n",
              "mean       0.32107  \n",
              "std        0.46767  \n",
              "min        0.00000  \n",
              "25%        0.00000  \n",
              "50%        0.00000  \n",
              "75%        1.00000  \n",
              "max        1.00000  "
            ]
          },
          "execution_count": 6,
          "metadata": {},
          "output_type": "execute_result"
        }
      ],
      "source": [
        "hf.describe()"
      ]
    },
    {
      "cell_type": "markdown",
      "metadata": {
        "id": "VKqBMXhKzkKn"
      },
      "source": [
        "Plotting or visualizating the dataset helps to identify initial trends or distributions that will be useful in the analysis. These variables can be plotted in many forms, each with its own use in different data types: bar chart, line chart, histogram, box plots etc.\n",
        "\n",
        "Key Considerations:\n",
        "\n",
        "- Is the target variable balanced across all classes? Are there outliers or inbalanced data?\n",
        "- Are there any missing data?\n",
        "- Are there variables with low variance (skewed distributions)? These variables may not be useful as predictors if their variance is too low.\n",
        "- What distribution does the variable take on? Is it normal, or does it have a bi-model shape?\n",
        "\n",
        "Try exploring the data with pandas_profiler"
      ]
    },
    {
      "cell_type": "code",
      "execution_count": 48,
      "metadata": {
        "colab": {
          "base_uri": "https://localhost:8080/",
          "height": 145,
          "referenced_widgets": [
            "25838fc387d1487191b65e8bafb7e644",
            "930a13c0a2774e87afdfd9a4c7530def",
            "fbfdbdd885d145bba6a10f806aa3701a",
            "4b5da9456d9d42f681bf12f26c9a93ed",
            "3dff79ff5e344b178a22baa0cb8f92a0",
            "c5a70d56157c463f93343ce7089d3043",
            "54fe26d586fa417ab9130d15550f3c59",
            "72af0eef5b88431cb9ffc3a6ff50e843",
            "510cf4a86a7a424f8688e67664a53a44",
            "a5415f6e139c4b6eb442fd4208eaa644",
            "05146537be3f45c6b7f3fd9c8858125f",
            "1a00af243e0042ed8b829493ea9ff60f",
            "b0a2cac16b194dcf97d5b254dcd21ce7",
            "64b801df8fbd47c3bf66d428337d04e6",
            "4e51bd7403ea4b668047bd06328584d4",
            "6a7162cdd114440abdf3a70369c4234c",
            "75f4ad298e274684897f850beb94c3a4",
            "9913d8adb53a443d8002679cf7f27801",
            "afd7ac3c8f4342c1acbe71f858868329",
            "720f5ed9a4474aa7b4af0422e318327a",
            "ef0fca81a568457d9651f0249136c20e",
            "b9271f1f74064709881b270f07693037",
            "f0c5ed8d7dc94592aa540879edcc9b7e",
            "56e3981bc73741c7b05bf9827854f0a3",
            "d7284a6f5b5c458da97447a14f21d403",
            "596dc05ee2b74a9f8fb42f79b69d97a6",
            "4c75b15de4c545718838275991ee69ff",
            "90928964dc004c6291f5d42ce10a8ac7",
            "94cfedc34eb243d69c328c633f62f789",
            "388996296f374caaaf4998f3f0f65358",
            "d68f6392f1cf48569c4ebf951fed445b",
            "d42de23cb8044b18ba68bc48312f9d9b",
            "e63eead567c2497d88512d51afc473cf",
            "34110da4b3034cc29d293621bc7a0a3f",
            "4264a07dd02f4363b6b4c09f6a080b31",
            "3cb8a985b40e4cb798e7f61f72b406d0",
            "1eaf5ecf62ea485ab7639b5fabfcfb40",
            "9cca4595c2494a3d96dff2cc02fc91cb",
            "08642d91417f40ea8ac2b0fdabad1bcc",
            "289c11920f754282bf6a4bf3b4750cfe",
            "43895371872d47f2a5c60dcd739ba649",
            "7010565a42f54c1eb29190aaee28393c",
            "f4b71beab9094f2d91ea3c9596d67fbb",
            "4dc137e5c67f413780fea17ab3da098e"
          ]
        },
        "id": "SY7RGGRyzkKn",
        "outputId": "32bf6989-91d4-4240-da21-445c6c36a79e"
      },
      "outputs": [
        {
          "data": {
            "application/vnd.jupyter.widget-view+json": {
              "model_id": "58d126321ee84313a1b7ce436ca662a3",
              "version_major": 2,
              "version_minor": 0
            },
            "text/plain": [
              "Summarize dataset:   0%|          | 0/5 [00:00<?, ?it/s]"
            ]
          },
          "metadata": {},
          "output_type": "display_data"
        },
        {
          "name": "stderr",
          "output_type": "stream",
          "text": [
            "100%|██████████| 13/13 [00:00<00:00, 844.72it/s]\n"
          ]
        },
        {
          "data": {
            "application/vnd.jupyter.widget-view+json": {
              "model_id": "39e1765845d6409c8a5b47377546be00",
              "version_major": 2,
              "version_minor": 0
            },
            "text/plain": [
              "Generate report structure:   0%|          | 0/1 [00:00<?, ?it/s]"
            ]
          },
          "metadata": {},
          "output_type": "display_data"
        },
        {
          "data": {
            "application/vnd.jupyter.widget-view+json": {
              "model_id": "337f47dc4a0840359fbf01d262592d10",
              "version_major": 2,
              "version_minor": 0
            },
            "text/plain": [
              "Render HTML:   0%|          | 0/1 [00:00<?, ?it/s]"
            ]
          },
          "metadata": {},
          "output_type": "display_data"
        },
        {
          "data": {
            "application/vnd.jupyter.widget-view+json": {
              "model_id": "4ea6b3a426094eb9a9e127a1261c20f3",
              "version_major": 2,
              "version_minor": 0
            },
            "text/plain": [
              "Export report to file:   0%|          | 0/1 [00:00<?, ?it/s]"
            ]
          },
          "metadata": {},
          "output_type": "display_data"
        }
      ],
      "source": [
        "profile = ProfileReport(hf,title='Heart Failure',html={'style':{'full_width':True}})\n",
        "profile.to_file('output_hf.html')\n",
        "#if using google colab, change to correct path\n",
        "#profile.to_file('/content/drive/My Drive/output_hf.html')\n"
      ]
    },
    {
      "cell_type": "markdown",
      "metadata": {
        "id": "HrLhys1FzkKn"
      },
      "source": [
        "## 2.1 Remove Duplication and Re-formatting Missing Values\n",
        "\n",
        "Missing values are common in healthcare datasets, where certain entries are missing or are not recorded for various reasons e.g. test was not done. These values can present themselves in the raw dataset in various ways: NA, NIL, ?, None...\n",
        "\n",
        "You can choose to replace these values with an `NaN` value, which is used by both Pandas and Numpy packages or a string value such as 'NA'. However, note that replacing numeric columns with a string will cause errors and incompatibility fitting these values into machine learning models since it changes the data format and type.\n",
        "\n",
        "This dataset is fairly clean with no missing values and duplication"
      ]
    },
    {
      "cell_type": "code",
      "execution_count": 49,
      "metadata": {
        "colab": {
          "base_uri": "https://localhost:8080/",
          "height": 73
        },
        "id": "Oabp8yWmzkKn",
        "outputId": "3796dbb6-6be6-4122-9d99-d3adf83fddc3"
      },
      "outputs": [
        {
          "data": {
            "application/vnd.microsoft.datawrangler.viewer.v0+json": {
              "columns": [
                {
                  "name": "index",
                  "rawType": "int64",
                  "type": "integer"
                },
                {
                  "name": "age",
                  "rawType": "float64",
                  "type": "float"
                },
                {
                  "name": "anaemia",
                  "rawType": "int64",
                  "type": "integer"
                },
                {
                  "name": "creatinine_phosphokinase",
                  "rawType": "int64",
                  "type": "integer"
                },
                {
                  "name": "diabetes",
                  "rawType": "int64",
                  "type": "integer"
                },
                {
                  "name": "ejection_fraction",
                  "rawType": "int64",
                  "type": "integer"
                },
                {
                  "name": "high_blood_pressure",
                  "rawType": "int64",
                  "type": "integer"
                },
                {
                  "name": "platelets",
                  "rawType": "float64",
                  "type": "float"
                },
                {
                  "name": "serum_creatinine",
                  "rawType": "float64",
                  "type": "float"
                },
                {
                  "name": "serum_sodium",
                  "rawType": "int64",
                  "type": "integer"
                },
                {
                  "name": "sex",
                  "rawType": "int64",
                  "type": "integer"
                },
                {
                  "name": "smoking",
                  "rawType": "int64",
                  "type": "integer"
                },
                {
                  "name": "time",
                  "rawType": "int64",
                  "type": "integer"
                },
                {
                  "name": "DEATH_EVENT",
                  "rawType": "int64",
                  "type": "integer"
                }
              ],
              "ref": "ba9e8234-ffff-4a1a-821d-79b28097c596",
              "rows": [],
              "shape": {
                "columns": 13,
                "rows": 0
              }
            },
            "text/html": [
              "<div>\n",
              "<style scoped>\n",
              "    .dataframe tbody tr th:only-of-type {\n",
              "        vertical-align: middle;\n",
              "    }\n",
              "\n",
              "    .dataframe tbody tr th {\n",
              "        vertical-align: top;\n",
              "    }\n",
              "\n",
              "    .dataframe thead th {\n",
              "        text-align: right;\n",
              "    }\n",
              "</style>\n",
              "<table border=\"1\" class=\"dataframe\">\n",
              "  <thead>\n",
              "    <tr style=\"text-align: right;\">\n",
              "      <th></th>\n",
              "      <th>age</th>\n",
              "      <th>anaemia</th>\n",
              "      <th>creatinine_phosphokinase</th>\n",
              "      <th>diabetes</th>\n",
              "      <th>ejection_fraction</th>\n",
              "      <th>high_blood_pressure</th>\n",
              "      <th>platelets</th>\n",
              "      <th>serum_creatinine</th>\n",
              "      <th>serum_sodium</th>\n",
              "      <th>sex</th>\n",
              "      <th>smoking</th>\n",
              "      <th>time</th>\n",
              "      <th>DEATH_EVENT</th>\n",
              "    </tr>\n",
              "  </thead>\n",
              "  <tbody>\n",
              "  </tbody>\n",
              "</table>\n",
              "</div>"
            ],
            "text/plain": [
              "Empty DataFrame\n",
              "Columns: [age, anaemia, creatinine_phosphokinase, diabetes, ejection_fraction, high_blood_pressure, platelets, serum_creatinine, serum_sodium, sex, smoking, time, DEATH_EVENT]\n",
              "Index: []"
            ]
          },
          "execution_count": 49,
          "metadata": {},
          "output_type": "execute_result"
        }
      ],
      "source": [
        "# Check and Remove rows that are complete duplicates\n",
        "hf[hf.duplicated(subset=None)]"
      ]
    },
    {
      "cell_type": "code",
      "execution_count": 50,
      "metadata": {
        "colab": {
          "base_uri": "https://localhost:8080/"
        },
        "id": "35thVuPazkKo",
        "outputId": "8a92f537-211d-4725-8525-339d16809a6f"
      },
      "outputs": [
        {
          "name": "stdout",
          "output_type": "stream",
          "text": [
            "Samples with HF = 96\n",
            "Samples with NO HF = 203 \n"
          ]
        }
      ],
      "source": [
        "print('Samples with HF = {0}\\nSamples with NO HF = {1} '.format(hf[hf['DEATH_EVENT']==1].shape[0],hf[hf['DEATH_EVENT']==0].shape[0]))"
      ]
    },
    {
      "cell_type": "code",
      "execution_count": 51,
      "metadata": {
        "colab": {
          "base_uri": "https://localhost:8080/",
          "height": 1000
        },
        "id": "uCWMSLREzkKo",
        "outputId": "972dd76b-650f-4cbd-da6b-e33070f4e499"
      },
      "outputs": [],
      "source": [
        "p = hf[hf['DEATH_EVENT']==1].hist(figsize=(20,20))\n"
      ]
    },
    {
      "cell_type": "code",
      "execution_count": 7,
      "metadata": {
        "colab": {
          "base_uri": "https://localhost:8080/",
          "height": 1000
        },
        "id": "oKndBJfNzkKo",
        "outputId": "95b78bab-5986-441f-c4ed-4e2d74ab7558"
      },
      "outputs": [
        {
          "data": {
            "image/png": "[encoded data removed]",
            "text/plain": [
              "<Figure size 2000x2000 with 16 Axes>"
            ]
          },
          "metadata": {},
          "output_type": "display_data"
        }
      ],
      "source": [
        "p = hf[hf['DEATH_EVENT']==0].hist(figsize=(20,20))\n"
      ]
    },
    {
      "cell_type": "code",
      "execution_count": 52,
      "metadata": {
        "colab": {
          "base_uri": "https://localhost:8080/",
          "height": 1000
        },
        "id": "5VTNPbR8zkKo",
        "outputId": "30087943-cf1e-4d78-f040-0636ab93f3cf"
      },
      "outputs": [
        {
          "data": {
            "text/plain": [
              "<seaborn.axisgrid.PairGrid at 0x13e916cf920>"
            ]
          },
          "execution_count": 52,
          "metadata": {},
          "output_type": "execute_result"
        }
      ],
      "source": [
        "sns.pairplot(hf, hue='DEATH_EVENT')"
      ]
    },
    {
      "cell_type": "markdown",
      "metadata": {
        "id": "XGGG7hMhzkKp"
      },
      "source": [
        "## 3. Data Scaling/Standardization\n",
        "Transforms the features to a standard normal distribution with mean 0 and standard 1"
      ]
    },
    {
      "cell_type": "code",
      "execution_count": 53,
      "metadata": {
        "colab": {
          "base_uri": "https://localhost:8080/"
        },
        "id": "IS85-aEPzkKp",
        "outputId": "aafdc40a-9e55-426b-94f6-5362823119b1"
      },
      "outputs": [
        {
          "name": "stdout",
          "output_type": "stream",
          "text": [
            "<class 'pandas.core.frame.DataFrame'>\n",
            "RangeIndex: 299 entries, 0 to 298\n",
            "Data columns (total 13 columns):\n",
            " #   Column                    Non-Null Count  Dtype  \n",
            "---  ------                    --------------  -----  \n",
            " 0   age                       299 non-null    float64\n",
            " 1   anaemia                   299 non-null    int64  \n",
            " 2   creatinine_phosphokinase  299 non-null    int64  \n",
            " 3   diabetes                  299 non-null    int64  \n",
            " 4   ejection_fraction         299 non-null    int64  \n",
            " 5   high_blood_pressure       299 non-null    int64  \n",
            " 6   platelets                 299 non-null    float64\n",
            " 7   serum_creatinine          299 non-null    float64\n",
            " 8   serum_sodium              299 non-null    int64  \n",
            " 9   sex                       299 non-null    int64  \n",
            " 10  smoking                   299 non-null    int64  \n",
            " 11  time                      299 non-null    int64  \n",
            " 12  DEATH_EVENT               299 non-null    int64  \n",
            "dtypes: float64(3), int64(10)\n",
            "memory usage: 30.5 KB\n"
          ]
        }
      ],
      "source": [
        "hf.info()"
      ]
    },
    {
      "cell_type": "code",
      "execution_count": 54,
      "metadata": {
        "colab": {
          "base_uri": "https://localhost:8080/"
        },
        "id": "uB4VrwlYzkKp",
        "outputId": "16a834bc-a122-41f5-d3b5-2c1ca0e52220"
      },
      "outputs": [
        {
          "name": "stdout",
          "output_type": "stream",
          "text": [
            "Standard Scaler:\n",
            "                age     platelets  serum_creatinine  serum_sodium  \\\n",
            "count  2.990000e+02  2.990000e+02      2.990000e+02  2.990000e+02   \n",
            "mean   5.703353e-16  7.723291e-17      1.425838e-16 -8.673849e-16   \n",
            "std    1.001676e+00  1.001676e+00      1.001676e+00  1.001676e+00   \n",
            "min   -1.754448e+00 -2.440155e+00     -8.655094e-01 -5.363206e+00   \n",
            "25%   -8.281242e-01 -5.208700e-01     -4.782047e-01 -5.959961e-01   \n",
            "50%   -7.022315e-02 -1.390846e-02     -2.845524e-01  8.503384e-02   \n",
            "75%    7.718891e-01  4.111199e-01      5.926150e-03  7.660638e-01   \n",
            "max    2.877170e+00  6.008180e+00      7.752020e+00  2.582144e+00   \n",
            "\n",
            "               time  \n",
            "count  2.990000e+02  \n",
            "mean  -1.901118e-16  \n",
            "std    1.001676e+00  \n",
            "min   -1.629502e+00  \n",
            "25%   -7.389995e-01  \n",
            "50%   -1.969543e-01  \n",
            "75%    9.387595e-01  \n",
            "max    1.997038e+00  \n"
          ]
        }
      ],
      "source": [
        "\n",
        "std_scaler = StandardScaler()\n",
        "\n",
        "hf[['age','platelets','serum_creatinine','serum_sodium','time']] = std_scaler.fit_transform(hf[['age','platelets','serum_creatinine','serum_sodium','time']])\n",
        "print('Standard Scaler:\\n{}'.format(hf[['age','platelets','serum_creatinine','serum_sodium','time']].describe()))\n"
      ]
    },
    {
      "cell_type": "code",
      "execution_count": 55,
      "metadata": {
        "colab": {
          "base_uri": "https://localhost:8080/",
          "height": 206
        },
        "id": "kDnc1S6MzkKq",
        "outputId": "349caaa4-d300-4a50-b284-ed0dd0d0799b"
      },
      "outputs": [
        {
          "data": {
            "application/vnd.microsoft.datawrangler.viewer.v0+json": {
              "columns": [
                {
                  "name": "index",
                  "rawType": "int64",
                  "type": "integer"
                },
                {
                  "name": "age",
                  "rawType": "float64",
                  "type": "float"
                },
                {
                  "name": "anaemia",
                  "rawType": "int64",
                  "type": "integer"
                },
                {
                  "name": "creatinine_phosphokinase",
                  "rawType": "int64",
                  "type": "integer"
                },
                {
                  "name": "diabetes",
                  "rawType": "int64",
                  "type": "integer"
                },
                {
                  "name": "ejection_fraction",
                  "rawType": "int64",
                  "type": "integer"
                },
                {
                  "name": "high_blood_pressure",
                  "rawType": "int64",
                  "type": "integer"
                },
                {
                  "name": "platelets",
                  "rawType": "float64",
                  "type": "float"
                },
                {
                  "name": "serum_creatinine",
                  "rawType": "float64",
                  "type": "float"
                },
                {
                  "name": "serum_sodium",
                  "rawType": "float64",
                  "type": "float"
                },
                {
                  "name": "sex",
                  "rawType": "int64",
                  "type": "integer"
                },
                {
                  "name": "smoking",
                  "rawType": "int64",
                  "type": "integer"
                },
                {
                  "name": "time",
                  "rawType": "float64",
                  "type": "float"
                },
                {
                  "name": "DEATH_EVENT",
                  "rawType": "int64",
                  "type": "integer"
                }
              ],
              "ref": "a8047b67-fb20-4150-8168-257a524f6dad",
              "rows": [
                [
                  "0",
                  "1.1929452305019328",
                  "0",
                  "582",
                  "0",
                  "20",
                  "1",
                  "0.01681648429088922",
                  "0.4900569873805214",
                  "-1.504036122151041",
                  "1",
                  "0",
                  "-1.6295024142525152",
                  "1"
                ],
                [
                  "1",
                  "-0.4912792759632972",
                  "0",
                  "7861",
                  "0",
                  "38",
                  "0",
                  "7.535660178453291e-09",
                  "-0.2845523523500058",
                  "-0.14197615085423837",
                  "1",
                  "0",
                  "-1.6036907368917659",
                  "1"
                ],
                [
                  "2",
                  "0.35083297726931784",
                  "0",
                  "146",
                  "0",
                  "20",
                  "0",
                  "-1.0380731335392908",
                  "-0.09090001741737401",
                  "-1.7310461173671747",
                  "1",
                  "1",
                  "-1.5907848982113915",
                  "1"
                ],
                [
                  "3",
                  "-0.9123354025796047",
                  "1",
                  "111",
                  "0",
                  "20",
                  "0",
                  "-0.5464740883368767",
                  "0.4900569873805214",
                  "0.0850338443618954",
                  "1",
                  "0",
                  "-1.5907848982113915",
                  "1"
                ],
                [
                  "4",
                  "0.35083297726931784",
                  "1",
                  "160",
                  "1",
                  "20",
                  "0",
                  "0.6517985843440072",
                  "1.264666327111049",
                  "-4.682176055176914",
                  "0",
                  "0",
                  "-1.5778790595310168",
                  "1"
                ]
              ],
              "shape": {
                "columns": 13,
                "rows": 5
              }
            },
            "text/html": [
              "<div>\n",
              "<style scoped>\n",
              "    .dataframe tbody tr th:only-of-type {\n",
              "        vertical-align: middle;\n",
              "    }\n",
              "\n",
              "    .dataframe tbody tr th {\n",
              "        vertical-align: top;\n",
              "    }\n",
              "\n",
              "    .dataframe thead th {\n",
              "        text-align: right;\n",
              "    }\n",
              "</style>\n",
              "<table border=\"1\" class=\"dataframe\">\n",
              "  <thead>\n",
              "    <tr style=\"text-align: right;\">\n",
              "      <th></th>\n",
              "      <th>age</th>\n",
              "      <th>anaemia</th>\n",
              "      <th>creatinine_phosphokinase</th>\n",
              "      <th>diabetes</th>\n",
              "      <th>ejection_fraction</th>\n",
              "      <th>high_blood_pressure</th>\n",
              "      <th>platelets</th>\n",
              "      <th>serum_creatinine</th>\n",
              "      <th>serum_sodium</th>\n",
              "      <th>sex</th>\n",
              "      <th>smoking</th>\n",
              "      <th>time</th>\n",
              "      <th>DEATH_EVENT</th>\n",
              "    </tr>\n",
              "  </thead>\n",
              "  <tbody>\n",
              "    <tr>\n",
              "      <th>0</th>\n",
              "      <td>1.192945</td>\n",
              "      <td>0</td>\n",
              "      <td>582</td>\n",
              "      <td>0</td>\n",
              "      <td>20</td>\n",
              "      <td>1</td>\n",
              "      <td>1.681648e-02</td>\n",
              "      <td>0.490057</td>\n",
              "      <td>-1.504036</td>\n",
              "      <td>1</td>\n",
              "      <td>0</td>\n",
              "      <td>-1.629502</td>\n",
              "      <td>1</td>\n",
              "    </tr>\n",
              "    <tr>\n",
              "      <th>1</th>\n",
              "      <td>-0.491279</td>\n",
              "      <td>0</td>\n",
              "      <td>7861</td>\n",
              "      <td>0</td>\n",
              "      <td>38</td>\n",
              "      <td>0</td>\n",
              "      <td>7.535660e-09</td>\n",
              "      <td>-0.284552</td>\n",
              "      <td>-0.141976</td>\n",
              "      <td>1</td>\n",
              "      <td>0</td>\n",
              "      <td>-1.603691</td>\n",
              "      <td>1</td>\n",
              "    </tr>\n",
              "    <tr>\n",
              "      <th>2</th>\n",
              "      <td>0.350833</td>\n",
              "      <td>0</td>\n",
              "      <td>146</td>\n",
              "      <td>0</td>\n",
              "      <td>20</td>\n",
              "      <td>0</td>\n",
              "      <td>-1.038073e+00</td>\n",
              "      <td>-0.090900</td>\n",
              "      <td>-1.731046</td>\n",
              "      <td>1</td>\n",
              "      <td>1</td>\n",
              "      <td>-1.590785</td>\n",
              "      <td>1</td>\n",
              "    </tr>\n",
              "    <tr>\n",
              "      <th>3</th>\n",
              "      <td>-0.912335</td>\n",
              "      <td>1</td>\n",
              "      <td>111</td>\n",
              "      <td>0</td>\n",
              "      <td>20</td>\n",
              "      <td>0</td>\n",
              "      <td>-5.464741e-01</td>\n",
              "      <td>0.490057</td>\n",
              "      <td>0.085034</td>\n",
              "      <td>1</td>\n",
              "      <td>0</td>\n",
              "      <td>-1.590785</td>\n",
              "      <td>1</td>\n",
              "    </tr>\n",
              "    <tr>\n",
              "      <th>4</th>\n",
              "      <td>0.350833</td>\n",
              "      <td>1</td>\n",
              "      <td>160</td>\n",
              "      <td>1</td>\n",
              "      <td>20</td>\n",
              "      <td>0</td>\n",
              "      <td>6.517986e-01</td>\n",
              "      <td>1.264666</td>\n",
              "      <td>-4.682176</td>\n",
              "      <td>0</td>\n",
              "      <td>0</td>\n",
              "      <td>-1.577879</td>\n",
              "      <td>1</td>\n",
              "    </tr>\n",
              "  </tbody>\n",
              "</table>\n",
              "</div>"
            ],
            "text/plain": [
              "        age  anaemia  creatinine_phosphokinase  diabetes  ejection_fraction  \\\n",
              "0  1.192945        0                       582         0                 20   \n",
              "1 -0.491279        0                      7861         0                 38   \n",
              "2  0.350833        0                       146         0                 20   \n",
              "3 -0.912335        1                       111         0                 20   \n",
              "4  0.350833        1                       160         1                 20   \n",
              "\n",
              "   high_blood_pressure     platelets  serum_creatinine  serum_sodium  sex  \\\n",
              "0                    1  1.681648e-02          0.490057     -1.504036    1   \n",
              "1                    0  7.535660e-09         -0.284552     -0.141976    1   \n",
              "2                    0 -1.038073e+00         -0.090900     -1.731046    1   \n",
              "3                    0 -5.464741e-01          0.490057      0.085034    1   \n",
              "4                    0  6.517986e-01          1.264666     -4.682176    0   \n",
              "\n",
              "   smoking      time  DEATH_EVENT  \n",
              "0        0 -1.629502            1  \n",
              "1        0 -1.603691            1  \n",
              "2        1 -1.590785            1  \n",
              "3        0 -1.590785            1  \n",
              "4        0 -1.577879            1  "
            ]
          },
          "execution_count": 55,
          "metadata": {},
          "output_type": "execute_result"
        }
      ],
      "source": [
        "hf.head()"
      ]
    },
    {
      "cell_type": "markdown",
      "metadata": {
        "id": "iz4LfwI7zkKq"
      },
      "source": [
        "# 4. Data Preparation"
      ]
    },
    {
      "cell_type": "markdown",
      "metadata": {
        "id": "4al9g7gnzkKq"
      },
      "source": [
        "Prepare Training and Testing Sets\n",
        "\n",
        "In this example, the objective is to predict whether a patient with heart failure will survive (0) or not (1) within the follow-up period, given the patient's health status and lab results. The features of the dataset are:\n",
        "\n",
        "- **age**: age of the patient (years)\n",
        "- **anaemia**: decrease of red blood cells or hemoglobin (boolean)\n",
        "- **high blood pressure**: if the patient has hypertension (boolean)\n",
        "- **creatinine phosphokinase (CPK)**: level of the CPK enzyme in the blood (mcg/L)\n",
        "- **diabetes**: if the patient has diabetes (boolean)\n",
        "- **ejection fraction**: percentage of blood leaving the heart at each contraction (percentage)\n",
        "- **platelets**: platelets in the blood (kiloplatelets/mL)\n",
        "- **sex**: woman or man (binary)\n",
        "- **serum creatinine**: level of serum creatinine in the blood (mg/dL)\n",
        "- **serum sodium**: level of serum sodium in the blood (mEq/L)\n",
        "- **smoking**: if the patient smokes or not (boolean)\n",
        "- **time**: follow-up period (days)\n",
        "- [target] **death event**: if the patient deceased during the follow-up period (boolean)\n",
        "\n",
        "Once the dataset has been cleaned, transformed and prepared for modelling, the next step is to split them up into different sets for training and testing. This can be done in Python using the `train_test_split` method from the `sklearn.model_selection`.\n",
        "\n",
        "In a typical data pipeline for model development, only the **training** set is used in the model training phase, while the **testing** set is left aside for evaluating the trained model. This ensures that the **testing** set is unseen by the model, and provides a more unbiased evaluation of the model's performance.\n"
      ]
    },
    {
      "cell_type": "markdown",
      "metadata": {
        "id": "WEz5mGp9weQg"
      },
      "source": [
        "#### Loading all common sklearn packages"
      ]
    },
    {
      "cell_type": "code",
      "execution_count": 56,
      "metadata": {
        "id": "DhDJ5DRtwaRv"
      },
      "outputs": [],
      "source": [
        "from sklearn.metrics import classification_report, f1_score, accuracy_score, precision_score, recall_score\n",
        "from sklearn.metrics import confusion_matrix, ConfusionMatrixDisplay, RocCurveDisplay, PrecisionRecallDisplay\n",
        "# from sklearn.metrics import plot_confusion_matrix, plot_roc_curve, plot_precision_recall_curve\n",
        "from sklearn.model_selection import train_test_split, RepeatedStratifiedKFold, GridSearchCV, RandomizedSearchCV"
      ]
    },
    {
      "cell_type": "code",
      "execution_count": 57,
      "metadata": {
        "colab": {
          "base_uri": "https://localhost:8080/"
        },
        "id": "iEgBX5XczkKq",
        "outputId": "26223d80-38ed-46f8-a805-e6e13d7eb654"
      },
      "outputs": [
        {
          "data": {
            "text/plain": [
              "((209, 11), (90, 11), (209,), (90,))"
            ]
          },
          "execution_count": 57,
          "metadata": {},
          "output_type": "execute_result"
        }
      ],
      "source": [
        "X = hf.drop(['DEATH_EVENT','time'],axis=1) # Drop the target variable from the feature dataframe\n",
        "y = hf['DEATH_EVENT'] # Extract the target variable\n",
        "X_train, X_test, y_train, y_test = train_test_split(X, y, test_size=0.3, random_state=42)\n",
        "\n",
        "X_train.shape, X_test.shape, y_train.shape, y_test.shape"
      ]
    },
    {
      "cell_type": "code",
      "execution_count": 58,
      "metadata": {
        "colab": {
          "base_uri": "https://localhost:8080/"
        },
        "id": "sbrSoperzkKq",
        "outputId": "7a0d5450-276b-49dc-c9d8-e75e7f73a48e"
      },
      "outputs": [
        {
          "name": "stdout",
          "output_type": "stream",
          "text": [
            "<class 'pandas.core.frame.DataFrame'>\n",
            "RangeIndex: 299 entries, 0 to 298\n",
            "Data columns (total 13 columns):\n",
            " #   Column                    Non-Null Count  Dtype  \n",
            "---  ------                    --------------  -----  \n",
            " 0   age                       299 non-null    float64\n",
            " 1   anaemia                   299 non-null    int64  \n",
            " 2   creatinine_phosphokinase  299 non-null    int64  \n",
            " 3   diabetes                  299 non-null    int64  \n",
            " 4   ejection_fraction         299 non-null    int64  \n",
            " 5   high_blood_pressure       299 non-null    int64  \n",
            " 6   platelets                 299 non-null    float64\n",
            " 7   serum_creatinine          299 non-null    float64\n",
            " 8   serum_sodium              299 non-null    float64\n",
            " 9   sex                       299 non-null    int64  \n",
            " 10  smoking                   299 non-null    int64  \n",
            " 11  time                      299 non-null    float64\n",
            " 12  DEATH_EVENT               299 non-null    int64  \n",
            "dtypes: float64(5), int64(8)\n",
            "memory usage: 30.5 KB\n"
          ]
        }
      ],
      "source": [
        "hf.info()"
      ]
    },
    {
      "cell_type": "markdown",
      "metadata": {
        "id": "i6CpkEv7zkKq"
      },
      "source": [
        "# 5. Supervised Learning"
      ]
    },
    {
      "cell_type": "markdown",
      "metadata": {
        "id": "XaC6FkkrzkKq"
      },
      "source": [
        "## 5.1 Logistic Regression Model\n",
        "\n",
        "Logistic Regression models are commonly used in healthcare studies to develop predictive models and to determine important factors related to a particular treatment or condition.\n",
        "\n",
        "The `LogisticRegression` object below from the `sklearn.linear_model` package can be used to build logistic regression models. However there are also other packages like `statsmodels` which provide more statistical reports that will be useful for interpreting the results."
      ]
    },
    {
      "cell_type": "code",
      "execution_count": 59,
      "metadata": {
        "id": "79UOQUKF5cxC"
      },
      "outputs": [],
      "source": [
        "from sklearn.linear_model import LogisticRegression"
      ]
    },
    {
      "cell_type": "code",
      "execution_count": 60,
      "metadata": {
        "colab": {
          "base_uri": "https://localhost:8080/"
        },
        "id": "sOEtZiDazkKr",
        "outputId": "2b8b5490-6a3e-4dad-866b-3a53056f24be"
      },
      "outputs": [
        {
          "name": "stderr",
          "output_type": "stream",
          "text": [
            "c:\\ProgramData\\anaconda3\\Lib\\site-packages\\sklearn\\linear_model\\_logistic.py:469: ConvergenceWarning: lbfgs failed to converge (status=1):\n",
            "STOP: TOTAL NO. of ITERATIONS REACHED LIMIT.\n",
            "\n",
            "Increase the number of iterations (max_iter) or scale the data as shown in:\n",
            "    https://scikit-learn.org/stable/modules/preprocessing.html\n",
            "Please also refer to the documentation for alternative solver options:\n",
            "    https://scikit-learn.org/stable/modules/linear_model.html#logistic-regression\n",
            "  n_iter_i = _check_optimize_result(\n"
          ]
        }
      ],
      "source": [
        "lr = LogisticRegression() # Create the LogisticRegression model\n",
        "lr.fit(X_train,y_train) # Fit and train the model on the training dataset\n",
        "y_predict = lr.predict(X_test) # Observe the prediction output from the model - is it a label or a probability?"
      ]
    },
    {
      "cell_type": "code",
      "execution_count": 61,
      "metadata": {
        "colab": {
          "base_uri": "https://localhost:8080/"
        },
        "id": "l7DWNJI3zkKr",
        "outputId": "6463246c-1b24-494e-9770-9fa7cc42edd0"
      },
      "outputs": [
        {
          "name": "stdout",
          "output_type": "stream",
          "text": [
            "Odds for age: 2.2366344014312127\n",
            "Odds for anaemia: 1.260243010799648\n",
            "Odds for creatinine_phosphokinase: 1.0002363801757896\n",
            "Odds for diabetes: 1.3323544208356106\n",
            "Odds for ejection_fraction: 0.9385932490605514\n",
            "Odds for high_blood_pressure: 1.8448665830937336\n",
            "Odds for platelets: 1.0029599088122045\n",
            "Odds for serum_creatinine: 2.36598390997941\n",
            "Odds for serum_sodium: 0.8625248854038937\n",
            "Odds for sex: 0.6282396595122577\n",
            "Odds for smoking: 1.297996909221026\n"
          ]
        }
      ],
      "source": [
        "odds = np.exp(lr.coef_)[0] # Print the odds ratio for the features (converted from the raw coefficients)\n",
        "for idx,col in enumerate(X.columns):\n",
        "    print('Odds for %s: %s' %(col,odds[idx]))"
      ]
    },
    {
      "cell_type": "code",
      "execution_count": 62,
      "metadata": {
        "colab": {
          "base_uri": "https://localhost:8080/"
        },
        "id": "AD_jiSEOzkKr",
        "outputId": "98a9e5ac-f835-4246-b49f-cdf139880464"
      },
      "outputs": [
        {
          "name": "stdout",
          "output_type": "stream",
          "text": [
            "Accuracy of model: 0.700000\n"
          ]
        }
      ],
      "source": [
        "print('Accuracy of model: %f' % (lr.score(X_test,y_test))) # Test the model on the testing set"
      ]
    },
    {
      "cell_type": "markdown",
      "metadata": {
        "id": "QpV0AmvNzkKr"
      },
      "source": [
        "### 5.1.1 Model Evaluation & Visualization\n",
        "\n",
        "Once the model has been trained, it should be evaluated on the test set that was earlier set aside and not used in the training process. Here, the model's performance can be evaluated using a few key methods:\n",
        "\n",
        "1. **Confusion Matrix**: Displays the true labels vs the predicted labels in a 2x2 matrix (for binary outcomes, n by n for multi-class outcomes) and is used to determine overall accuracy, the true positive/negative rates and the false positive/negative rates. Default threshold is 0.5.\n",
        "\n",
        "2. **ROC Curve**: Plots the true positive rate against the false positive rate. This represents the trade-off between increasing the detection rates at the expense of higher false positives and vice versa.\n",
        "\n",
        "3. **Precision-Recall Curve**: Plots the recall rates (actual cases detected) against the precision rate (relevant cases). This can be used to represent the trade-off between ensuring more actual cases are detected (higher recall) at the expense of lower proportion of relevant cases (lower precision - more false positives).\n",
        "\n",
        "Plot each of the plots below using the following code. What do you observe about the trends and shape of the curves?"
      ]
    },
    {
      "cell_type": "markdown",
      "metadata": {
        "id": "YHimYcIYzkKr"
      },
      "source": [
        "### Confusion Matrix"
      ]
    },
    {
      "cell_type": "code",
      "execution_count": 63,
      "metadata": {
        "colab": {
          "base_uri": "https://localhost:8080/",
          "height": 455
        },
        "id": "T0YEBgh_zkKr",
        "outputId": "0e4c4611-e02f-4d84-f939-4b065205a8a5"
      },
      "outputs": [],
      "source": [
        "# plot_confusion_matrix(lr, X_test, y_test)\n",
        "%matplotlib inline\n",
        "cm=confusion_matrix(y_test, y_predict, labels=lr.classes_)\n",
        "disp=ConfusionMatrixDisplay(confusion_matrix=cm, display_labels=lr.classes_)\n",
        "plt=disp.plot()"
      ]
    },
    {
      "cell_type": "markdown",
      "metadata": {
        "id": "Jb-hRO2bzkKr"
      },
      "source": [
        "### ROC Curve"
      ]
    },
    {
      "cell_type": "code",
      "execution_count": 64,
      "metadata": {
        "colab": {
          "base_uri": "https://localhost:8080/",
          "height": 466
        },
        "id": "BUgk0QxbzkKs",
        "outputId": "f078ba7d-3a53-4f66-d852-62b41a7fe08d"
      },
      "outputs": [
        {
          "data": {
            "text/plain": [
              "<sklearn.metrics._plot.roc_curve.RocCurveDisplay at 0x13ea1f86de0>"
            ]
          },
          "execution_count": 64,
          "metadata": {},
          "output_type": "execute_result"
        }
      ],
      "source": [
        "# plot_roc_curve(lr, X_test, y_test)\n",
        "RocCurveDisplay.from_estimator(lr, X_test, y_test)"
      ]
    },
    {
      "cell_type": "markdown",
      "metadata": {
        "id": "8bc6bOIvzkKs"
      },
      "source": [
        "### Precision-Recall Curve"
      ]
    },
    {
      "cell_type": "markdown",
      "metadata": {
        "id": "0jJQfJNBECn_"
      },
      "source": [
        "AUPRC can estimated by AP, or average precision.\n",
        "AP summarizes a precision-recall curve as the weighted mean of precision achieved at each threshold, with the increase in recall from the previous threshold used as the weight."
      ]
    },
    {
      "cell_type": "code",
      "execution_count": 22,
      "metadata": {
        "colab": {
          "base_uri": "https://localhost:8080/",
          "height": 466
        },
        "id": "kwYr67UJzkKs",
        "outputId": "c48be147-d22f-4580-bfda-5b955daa300c"
      },
      "outputs": [
        {
          "data": {
            "text/plain": [
              "<sklearn.metrics._plot.precision_recall_curve.PrecisionRecallDisplay at 0x13ea2467ef0>"
            ]
          },
          "execution_count": 22,
          "metadata": {},
          "output_type": "execute_result"
        }
      ],
      "source": [
        "# plot_precision_recall_curve(lr, X_test, y_test)\n",
        "y_pred = lr.predict_proba(X_test)[:, 1]\n",
        "PrecisionRecallDisplay.from_predictions(y_test,y_pred)"
      ]
    },
    {
      "cell_type": "markdown",
      "metadata": {
        "id": "-JreX1C8zkKs"
      },
      "source": [
        "### Summary"
      ]
    },
    {
      "cell_type": "code",
      "execution_count": 23,
      "metadata": {
        "colab": {
          "base_uri": "https://localhost:8080/"
        },
        "id": "MgRAeUOizkKs",
        "outputId": "2db1a4e5-c393-46bf-c036-af3c7cd77254"
      },
      "outputs": [
        {
          "name": "stdout",
          "output_type": "stream",
          "text": [
            "Test Results:\n",
            "              precision    recall  f1-score   support\n",
            "\n",
            "           0       0.68      0.94      0.79        53\n",
            "           1       0.81      0.35      0.49        37\n",
            "\n",
            "    accuracy                           0.70        90\n",
            "   macro avg       0.74      0.65      0.64        90\n",
            "weighted avg       0.73      0.70      0.67        90\n",
            "\n"
          ]
        }
      ],
      "source": [
        "print(\"Test Results:\")\n",
        "print(classification_report(y_test, y_predict))"
      ]
    },
    {
      "cell_type": "markdown",
      "metadata": {
        "id": "lbyN-IYpPdF3"
      },
      "source": [
        "**Some Insights:**\n",
        "- The model is significantly better at identifying class 0 than class 1.\n",
        "- Although the model is precise in predicting class 1 when it does predict class 1, it fails to identify many actual instances of class 1 (low recall).\n",
        "- Improving recall for class 1 without severely impacting precision could be a focus for model improvement."
      ]
    },
    {
      "cell_type": "markdown",
      "metadata": {
        "id": "vdHkeaWvzkKs"
      },
      "source": [
        "## 5.2 Interpreting Logistic Regression Model Output\n",
        "\n",
        "The `statsmodel` package provides a summary report of the model parameters and coefficients, which are useful for evaluating the important features or variables. Run the code below to train the logistic regression model using the `statsmodels` API and study the summary results. What can you learn from the report?"
      ]
    },
    {
      "cell_type": "code",
      "execution_count": 65,
      "metadata": {
        "id": "9OEh28myzkKs"
      },
      "outputs": [],
      "source": [
        "import statsmodels.api as sm"
      ]
    },
    {
      "cell_type": "code",
      "execution_count": 66,
      "metadata": {
        "colab": {
          "base_uri": "https://localhost:8080/"
        },
        "id": "ruddqM4SzkKs",
        "outputId": "89b183ad-7328-41ec-d839-84c7078e810d"
      },
      "outputs": [
        {
          "name": "stdout",
          "output_type": "stream",
          "text": [
            "         Current function value: 0.453225\n",
            "         Iterations: 35\n",
            "         Function evaluations: 43\n",
            "         Gradient evaluations: 37\n"
          ]
        },
        {
          "name": "stderr",
          "output_type": "stream",
          "text": [
            "c:\\ProgramData\\anaconda3\\Lib\\site-packages\\statsmodels\\discrete\\discrete_model.py:2385: RuntimeWarning: overflow encountered in exp\n",
            "  return 1/(1+np.exp(-X))\n",
            "c:\\ProgramData\\anaconda3\\Lib\\site-packages\\statsmodels\\discrete\\discrete_model.py:2443: RuntimeWarning: divide by zero encountered in log\n",
            "  return np.sum(np.log(self.cdf(q * linpred)))\n",
            "c:\\ProgramData\\anaconda3\\Lib\\site-packages\\statsmodels\\discrete\\discrete_model.py:2385: RuntimeWarning: overflow encountered in exp\n",
            "  return 1/(1+np.exp(-X))\n",
            "c:\\ProgramData\\anaconda3\\Lib\\site-packages\\statsmodels\\discrete\\discrete_model.py:2443: RuntimeWarning: divide by zero encountered in log\n",
            "  return np.sum(np.log(self.cdf(q * linpred)))\n",
            "c:\\ProgramData\\anaconda3\\Lib\\site-packages\\scipy\\optimize\\_optimize.py:1292: OptimizeWarning: Maximum number of iterations has been exceeded.\n",
            "  res = _minimize_bfgs(f, x0, args, fprime, callback=callback, **opts)\n",
            "c:\\ProgramData\\anaconda3\\Lib\\site-packages\\statsmodels\\base\\model.py:607: ConvergenceWarning: Maximum Likelihood optimization failed to converge. Check mle_retvals\n",
            "  warnings.warn(\"Maximum Likelihood optimization failed to \"\n"
          ]
        }
      ],
      "source": [
        "log_reg = sm.Logit(y_train, X_train).fit(method='bfgs')"
      ]
    },
    {
      "cell_type": "markdown",
      "metadata": {
        "id": "r1wgeJ9GzkKt"
      },
      "source": [
        "Run the summary and observe the logistic regression results below. Which of the variables are significant to the analysis? What do the odd ratios for those variables indicate?"
      ]
    },
    {
      "cell_type": "code",
      "execution_count": 26,
      "metadata": {
        "colab": {
          "base_uri": "https://localhost:8080/"
        },
        "id": "GcHPGBpszkKt",
        "outputId": "71cfeed6-a5b2-404d-9d82-f8249b6fdb4e"
      },
      "outputs": [
        {
          "name": "stdout",
          "output_type": "stream",
          "text": [
            "                           Logit Regression Results                           \n",
            "==============================================================================\n",
            "Dep. Variable:            DEATH_EVENT   No. Observations:                  209\n",
            "Model:                          Logit   Df Residuals:                      198\n",
            "Method:                           MLE   Df Model:                           10\n",
            "Date:                Fri, 18 Jul 2025   Pseudo R-squ.:                  0.2384\n",
            "Time:                        17:32:26   Log-Likelihood:                -94.724\n",
            "converged:                      False   LL-Null:                       -124.38\n",
            "Covariance Type:            nonrobust   LLR p-value:                 4.899e-09\n",
            "============================================================================================\n",
            "                               coef    std err          z      P>|z|      [0.025      0.975]\n",
            "--------------------------------------------------------------------------------------------\n",
            "age                          0.8061      0.205      3.938      0.000       0.405       1.207\n",
            "anaemia                      0.2794      0.375      0.745      0.456      -0.456       1.014\n",
            "creatinine_phosphokinase     0.0003      0.000      1.421      0.155      -0.000       0.001\n",
            "diabetes                     0.3107      0.369      0.842      0.400      -0.413       1.034\n",
            "ejection_fraction           -0.0449      0.011     -4.012      0.000      -0.067      -0.023\n",
            "high_blood_pressure          0.6224      0.380      1.640      0.101      -0.121       1.366\n",
            "platelets                   -0.0926      0.197     -0.471      0.638      -0.478       0.293\n",
            "serum_creatinine             0.9112      0.262      3.481      0.000       0.398       1.424\n",
            "serum_sodium                -0.1690      0.185     -0.911      0.362      -0.533       0.194\n",
            "sex                         -0.4617      0.411     -1.122      0.262      -1.268       0.344\n",
            "smoking                      0.4207      0.443      0.949      0.342      -0.448       1.289\n",
            "============================================================================================\n"
          ]
        }
      ],
      "source": [
        "print(log_reg.summary())"
      ]
    },
    {
      "cell_type": "code",
      "execution_count": 27,
      "metadata": {
        "colab": {
          "base_uri": "https://localhost:8080/"
        },
        "id": "rt8hD2HpzkKt",
        "outputId": "00773317-432a-4978-9427-0fc07fa39d49"
      },
      "outputs": [
        {
          "name": "stdout",
          "output_type": "stream",
          "text": [
            "                                5%       95%      Odds\n",
            "age                       1.499172  3.344523  2.239200\n",
            "anaemia                   0.634056  2.757513  1.322277\n",
            "creatinine_phosphokinase  0.999897  1.000645  1.000271\n",
            "diabetes                  0.661906  2.812486  1.364405\n",
            "ejection_fraction         0.935297  0.977279  0.956057\n",
            "high_blood_pressure       0.885611  3.920591  1.863362\n",
            "platelets                 0.620115  1.339998  0.911566\n",
            "serum_creatinine          1.489173  4.154355  2.487278\n",
            "serum_sodium              0.587122  1.214687  0.844494\n",
            "sex                       0.281428  1.411284  0.630218\n",
            "smoking                   0.638973  3.630361  1.523056\n"
          ]
        }
      ],
      "source": [
        "params = log_reg.params # Retrieve the odds ratio from the model\n",
        "conf = log_reg.conf_int() # Calculate the 5th and 95th CI\n",
        "conf['Odds'] = params\n",
        "conf.columns = ['5%', '95%', 'Odds']\n",
        "print(np.exp(conf))"
      ]
    },
    {
      "cell_type": "markdown",
      "metadata": {
        "id": "4le4lV_RzkKt"
      },
      "source": [
        "## 5.3 Improving Predictions - Logistic Regression with Grid Search and Hyperparameter Tuning"
      ]
    },
    {
      "cell_type": "code",
      "execution_count": 28,
      "metadata": {
        "id": "1xpAlVcJrQdT"
      },
      "outputs": [],
      "source": [
        "from sklearn.linear_model import LogisticRegression"
      ]
    },
    {
      "cell_type": "code",
      "execution_count": 29,
      "metadata": {
        "colab": {
          "base_uri": "https://localhost:8080/"
        },
        "id": "wuOKucWgzkKt",
        "outputId": "c8f17437-4c2e-43ca-99ef-fee47d6e6bed"
      },
      "outputs": [
        {
          "name": "stdout",
          "output_type": "stream",
          "text": [
            "\n",
            "Time taken = 9.51 sec\n",
            "Best score = 0.766 using params: {'C': 0.1, 'penalty': 'l2', 'solver': 'newton-cg'}\n"
          ]
        }
      ],
      "source": [
        "t0 = time.time()\n",
        "clf = LogisticRegression()\n",
        "solver = ['newton-cg', 'lbfgs', 'liblinear']\n",
        "penalty = ['l2']\n",
        "C = [100, 10, 1, 0.1, 0.01]\n",
        "grid = dict(solver=solver, penalty=penalty, C=C)\n",
        "cv = RepeatedStratifiedKFold(n_splits=5, n_repeats=3, random_state=123)\n",
        "grid_search = GridSearchCV(estimator=clf, cv=cv, param_grid=grid, scoring='accuracy', n_jobs=-1, error_score=0)\n",
        "grid_result = grid_search.fit(X_train, y_train)\n",
        "print(f'\\nTime taken = {round(time.time() - t0, 2)} sec')\n",
        "\n",
        "print(f'Best score = {round(grid_result.best_score_, 3)} using params: {grid_result.best_params_}')"
      ]
    },
    {
      "cell_type": "code",
      "execution_count": 30,
      "metadata": {
        "id": "VZRDmTYXzkKt"
      },
      "outputs": [],
      "source": [
        "final_lr = LogisticRegression(C = 0.1, penalty= 'l2', solver= 'newton-cg') # Create the LogisticRegression model\n",
        "final_lr.fit(X_train,y_train) # Fit and train the model on the training dataset\n",
        "y_final_predict = final_lr.predict(X_test) # Observe the prediction output from the model - is it a label or a probability?"
      ]
    },
    {
      "cell_type": "code",
      "execution_count": 31,
      "metadata": {
        "colab": {
          "base_uri": "https://localhost:8080/"
        },
        "id": "X3V-O5JLzkKt",
        "outputId": "16c052d9-f726-4cd1-ae1f-f04f4e619115"
      },
      "outputs": [
        {
          "name": "stdout",
          "output_type": "stream",
          "text": [
            "Odds for age: 1.7715335655723152\n",
            "Odds for anaemia: 1.0480501822112016\n",
            "Odds for creatinine_phosphokinase: 1.0001206960824849\n",
            "Odds for diabetes: 1.0394578848296205\n",
            "Odds for ejection_fraction: 0.9349963783473075\n",
            "Odds for high_blood_pressure: 1.1848062161172188\n",
            "Odds for platelets: 0.9759811866241207\n",
            "Odds for serum_creatinine: 1.8526418337555441\n",
            "Odds for serum_sodium: 0.8921802265296509\n",
            "Odds for sex: 0.7651010432186632\n",
            "Odds for smoking: 0.9938052484751166\n",
            "Accuracy of model: 0.677778\n"
          ]
        }
      ],
      "source": [
        "coef = np.exp(final_lr.coef_)[0] # Print the odds ratio for the features (converted from the raw coefficients)\n",
        "for idx,col in enumerate(X.columns):\n",
        "    print('Odds for %s: %s' %(col,coef[idx]))\n",
        "print('Accuracy of model: %f' % (final_lr.score(X_test,y_test))) # Test the model on the testing set"
      ]
    },
    {
      "cell_type": "code",
      "execution_count": 32,
      "metadata": {
        "id": "lt1sMIR7zkKu"
      },
      "outputs": [],
      "source": [
        "feature_importance=pd.DataFrame(X.columns,columns=['feature'])\n",
        "feature_importance['importance']=coef"
      ]
    },
    {
      "cell_type": "code",
      "execution_count": 33,
      "metadata": {
        "id": "2fHRMyFszkKu"
      },
      "outputs": [],
      "source": [
        "feature_importance = feature_importance.sort_values(by = [\"importance\"], ascending=True)"
      ]
    },
    {
      "cell_type": "code",
      "execution_count": 34,
      "metadata": {
        "colab": {
          "base_uri": "https://localhost:8080/",
          "height": 430
        },
        "id": "xkb21S9kzkKu",
        "outputId": "6e589285-525e-458b-fbc0-ea3a79473b74"
      },
      "outputs": [],
      "source": [
        "ax = feature_importance.plot.barh(x='feature', y='importance')"
      ]
    },
    {
      "cell_type": "markdown",
      "metadata": {
        "id": "aIyQYtHPzkKu"
      },
      "source": [
        "# 6. Decision Tree"
      ]
    },
    {
      "cell_type": "markdown",
      "metadata": {
        "id": "iEMToRi1zkKu"
      },
      "source": [
        "## 6.1 Building a basic decision tree with pre-specified hyperparameter"
      ]
    },
    {
      "cell_type": "code",
      "execution_count": 35,
      "metadata": {
        "id": "sdsZfH8lzkKu"
      },
      "outputs": [],
      "source": [
        "from sklearn.tree import DecisionTreeClassifier"
      ]
    },
    {
      "cell_type": "code",
      "execution_count": 36,
      "metadata": {
        "colab": {
          "base_uri": "https://localhost:8080/"
        },
        "id": "oAk27GPvzkKu",
        "outputId": "5bb38853-6d70-4842-82cf-f80e60353136"
      },
      "outputs": [
        {
          "name": "stdout",
          "output_type": "stream",
          "text": [
            "[1 0 1 1 0 0 1 0 1 0 0 0 1 0 0 1 0 0 0 0 1 1 1 1 0 0 1 0 1 0 0 0 1 1 1 0 0\n",
            " 1 0 0 0 1 0 0 1 0 1 0 0 0 1 0 1 0 0 0 0 1 0 1 1 1 1 0 1 0 0 1 1 0 1 0 0 1\n",
            " 0 0 0 0 0 0 1 0 0 0 0 0 0 0 1 1]\n",
            "Accuracy of decision tree classifier on test set: 0.71\n"
          ]
        }
      ],
      "source": [
        "dTree = DecisionTreeClassifier(criterion='entropy', class_weight='balanced', max_depth = 5)\n",
        "dTree.fit(X_train, y_train)\n",
        "y_predict = dTree.predict(X_test)\n",
        "print(y_predict)\n",
        "print('Accuracy of decision tree classifier on test set: {:.2f}'.format(dTree.score(X_test, y_test)))\n"
      ]
    },
    {
      "cell_type": "code",
      "execution_count": 40,
      "metadata": {
        "colab": {
          "base_uri": "https://localhost:8080/",
          "height": 449
        },
        "id": "UvOWVxLqECoB",
        "outputId": "8b6ecbeb-1da2-4b6c-b612-c64fb8e33fff"
      },
      "outputs": [],
      "source": [
        "cm=confusion_matrix(y_test, y_predict, labels=dTree.classes_)\n",
        "disp=ConfusionMatrixDisplay(confusion_matrix=cm, display_labels=dTree.classes_)\n",
        "plt=disp.plot()"
      ]
    },
    {
      "cell_type": "code",
      "execution_count": 38,
      "metadata": {
        "colab": {
          "base_uri": "https://localhost:8080/",
          "height": 466
        },
        "id": "nZIFE79BzkKv",
        "outputId": "ac389ed3-921e-4d8c-e9b2-8044a91108af"
      },
      "outputs": [
        {
          "data": {
            "text/plain": [
              "<sklearn.metrics._plot.roc_curve.RocCurveDisplay at 0x13ea45339b0>"
            ]
          },
          "execution_count": 38,
          "metadata": {},
          "output_type": "execute_result"
        }
      ],
      "source": [
        "# plot_roc_curve(dTree, X_test, y_test)\n",
        "RocCurveDisplay.from_estimator(dTree, X_test, y_test)"
      ]
    },
    {
      "cell_type": "code",
      "execution_count": 39,
      "metadata": {
        "colab": {
          "base_uri": "https://localhost:8080/",
          "height": 466
        },
        "id": "WSeDk1NpECoB",
        "outputId": "caa2731f-b667-4a03-ff50-816ab0cfb15b"
      },
      "outputs": [
        {
          "data": {
            "text/plain": [
              "<sklearn.metrics._plot.roc_curve.RocCurveDisplay at 0x13ea4228e60>"
            ]
          },
          "execution_count": 39,
          "metadata": {},
          "output_type": "execute_result"
        }
      ],
      "source": [
        "# plot_roc_curve(dTree, X_test, y_test,pos_label=0)\n",
        "RocCurveDisplay.from_estimator(dTree, X_test, y_test,pos_label=0)"
      ]
    },
    {
      "cell_type": "code",
      "execution_count": 41,
      "metadata": {
        "colab": {
          "base_uri": "https://localhost:8080/",
          "height": 466
        },
        "id": "cdV8qWUYzkKv",
        "outputId": "b9dcfc97-0de6-4e33-b319-f00eca316c3e"
      },
      "outputs": [
        {
          "data": {
            "text/plain": [
              "<sklearn.metrics._plot.precision_recall_curve.PrecisionRecallDisplay at 0x13ea464ede0>"
            ]
          },
          "execution_count": 41,
          "metadata": {},
          "output_type": "execute_result"
        }
      ],
      "source": [
        "\n",
        "y_pred = dTree.predict_proba(X_test)[:, 1]\n",
        "PrecisionRecallDisplay.from_predictions(y_test,y_pred)"
      ]
    },
    {
      "cell_type": "code",
      "execution_count": 41,
      "metadata": {
        "colab": {
          "base_uri": "https://localhost:8080/",
          "height": 466
        },
        "id": "KYQIA8PrzkKv",
        "outputId": "df6fe8d8-3634-4201-828e-50a223db0735"
      },
      "outputs": [
        {
          "data": {
            "text/plain": [
              "<sklearn.metrics._plot.precision_recall_curve.PrecisionRecallDisplay at 0x79c8613ae110>"
            ]
          },
          "execution_count": 41,
          "metadata": {},
          "output_type": "execute_result"
        },
        {
          "data": {
            "image/png": "[encoded data removed]",
            "text/plain": [
              "<Figure size 640x480 with 1 Axes>"
            ]
          },
          "metadata": {},
          "output_type": "display_data"
        }
      ],
      "source": [
        "# plot_precision_recall_curve(dTree, X_test, y_test,pos_label=0)\n",
        "PrecisionRecallDisplay.from_predictions(y_test,y_pred,pos_label=0)"
      ]
    },
    {
      "cell_type": "code",
      "execution_count": 42,
      "metadata": {
        "colab": {
          "base_uri": "https://localhost:8080/"
        },
        "id": "SoalJUMszkKv",
        "outputId": "d574a19b-930a-4888-b3d9-b622f0bb307d"
      },
      "outputs": [
        {
          "name": "stdout",
          "output_type": "stream",
          "text": [
            "Test Results:\n",
            "              precision    recall  f1-score   support\n",
            "\n",
            "           0       0.75      0.77      0.76        53\n",
            "           1       0.66      0.62      0.64        37\n",
            "\n",
            "    accuracy                           0.71        90\n",
            "   macro avg       0.70      0.70      0.70        90\n",
            "weighted avg       0.71      0.71      0.71        90\n",
            "\n"
          ]
        }
      ],
      "source": [
        "print(\"Test Results:\")\n",
        "print(classification_report(y_test, y_predict))"
      ]
    },
    {
      "cell_type": "markdown",
      "metadata": {
        "id": "agwo4whdzkKv"
      },
      "source": [
        "# 6.2 Improving the Decision Tree with Hyperparameter Tuning"
      ]
    },
    {
      "cell_type": "markdown",
      "metadata": {
        "id": "9wxF__ewzkKv"
      },
      "source": [
        "## Decision Tree with Grid Search, Random Search and Hyperparameter Tuning"
      ]
    },
    {
      "cell_type": "markdown",
      "metadata": {
        "id": "ssP12LvowqJA"
      },
      "source": [
        "### 6.2.1 Repeated Stratified Grid Search"
      ]
    },
    {
      "cell_type": "markdown",
      "metadata": {
        "id": "zNFeMzm6wd7J"
      },
      "source": []
    },
    {
      "cell_type": "code",
      "execution_count": 44,
      "metadata": {
        "colab": {
          "base_uri": "https://localhost:8080/"
        },
        "id": "SdrCk3oFwZI6",
        "outputId": "946d0997-354d-457e-dda6-5e38f6163387"
      },
      "outputs": [
        {
          "name": "stdout",
          "output_type": "stream",
          "text": [
            "Fitting 15 folds for each of 126 candidates, totalling 1890 fits\n"
          ]
        },
        {
          "name": "stderr",
          "output_type": "stream",
          "text": [
            "c:\\ProgramData\\anaconda3\\Lib\\site-packages\\sklearn\\model_selection\\_validation.py:540: FitFailedWarning: \n",
            "630 fits failed out of a total of 1890.\n",
            "The score on these train-test partitions for these parameters will be set to nan.\n",
            "If these failures are not expected, you can try to debug them by setting error_score='raise'.\n",
            "\n",
            "Below are more details about the failures:\n",
            "--------------------------------------------------------------------------------\n",
            "630 fits failed with the following error:\n",
            "Traceback (most recent call last):\n",
            "  File \"c:\\ProgramData\\anaconda3\\Lib\\site-packages\\sklearn\\model_selection\\_validation.py\", line 888, in _fit_and_score\n",
            "    estimator.fit(X_train, y_train, **fit_params)\n",
            "  File \"c:\\ProgramData\\anaconda3\\Lib\\site-packages\\sklearn\\base.py\", line 1466, in wrapper\n",
            "    estimator._validate_params()\n",
            "  File \"c:\\ProgramData\\anaconda3\\Lib\\site-packages\\sklearn\\base.py\", line 666, in _validate_params\n",
            "    validate_parameter_constraints(\n",
            "  File \"c:\\ProgramData\\anaconda3\\Lib\\site-packages\\sklearn\\utils\\_param_validation.py\", line 95, in validate_parameter_constraints\n",
            "    raise InvalidParameterError(\n",
            "sklearn.utils._param_validation.InvalidParameterError: The 'max_features' parameter of DecisionTreeClassifier must be an int in the range [1, inf), a float in the range (0.0, 1.0], a str among {'sqrt', 'log2'} or None. Got 'auto' instead.\n",
            "\n",
            "  warnings.warn(some_fits_failed_message, FitFailedWarning)\n",
            "c:\\ProgramData\\anaconda3\\Lib\\site-packages\\sklearn\\model_selection\\_search.py:1102: UserWarning: One or more of the test scores are non-finite: [       nan 0.71459543 0.71459543        nan 0.71935734 0.71459543\n",
            "        nan 0.71935734 0.71777003        nan 0.72094464 0.71777003\n",
            "        nan 0.71459543 0.71777003        nan 0.71459543 0.71618273\n",
            "        nan 0.71459543 0.71935734        nan 0.73054588 0.73236547\n",
            "        nan 0.73372048 0.72578397        nan 0.73875339 0.72094464\n",
            "        nan 0.72431281 0.73712737        nan 0.72899729 0.72431281\n",
            "        nan 0.70983353 0.73228804        nan 0.74018583 0.73855981\n",
            "        nan 0.77042199 0.76740225        nan 0.76713124 0.7498645\n",
            "        nan 0.76566009 0.75776229        nan 0.76387921 0.76732482\n",
            "        nan 0.70991096 0.72249322        nan 0.72884243 0.76562137\n",
            "        nan 0.7527681  0.75598142        nan 0.75296167 0.7559427\n",
            "        nan 0.78013937 0.76415021        nan 0.73224932 0.72245451\n",
            "        nan 0.74800619 0.72408053        nan 0.72408053 0.74947735\n",
            "        nan 0.71173055 0.70030972        nan 0.71804104 0.72431281\n",
            "        nan 0.75776229 0.76271777        nan 0.76415021 0.75617499\n",
            "        nan 0.75447154 0.74963221        nan 0.74963221 0.75137437\n",
            "        nan 0.728765   0.72098335        nan 0.71943477 0.73554007\n",
            "        nan 0.71757646 0.68908246        nan 0.74819977 0.75768486\n",
            "        nan 0.74653504 0.72264808        nan 0.73217189 0.72578397\n",
            "        nan 0.74003097 0.7258614         nan 0.72748742 0.72891986\n",
            "        nan 0.74336043 0.72094464        nan 0.72423539 0.67622919]\n",
            "  warnings.warn(\n"
          ]
        },
        {
          "name": "stdout",
          "output_type": "stream",
          "text": [
            "Fitting 15 folds for each of 126 candidates, totalling 1890 fits\n",
            "\n",
            "Time taken = 9.09 sec\n",
            "Best score = 0.777 using params: {'ccp_alpha': 0.01, 'criterion': 'gini', 'max_depth': 8, 'max_features': 'log2'}\n"
          ]
        },
        {
          "name": "stderr",
          "output_type": "stream",
          "text": [
            "c:\\ProgramData\\anaconda3\\Lib\\site-packages\\sklearn\\model_selection\\_validation.py:540: FitFailedWarning: \n",
            "630 fits failed out of a total of 1890.\n",
            "The score on these train-test partitions for these parameters will be set to nan.\n",
            "If these failures are not expected, you can try to debug them by setting error_score='raise'.\n",
            "\n",
            "Below are more details about the failures:\n",
            "--------------------------------------------------------------------------------\n",
            "630 fits failed with the following error:\n",
            "Traceback (most recent call last):\n",
            "  File \"c:\\ProgramData\\anaconda3\\Lib\\site-packages\\sklearn\\model_selection\\_validation.py\", line 888, in _fit_and_score\n",
            "    estimator.fit(X_train, y_train, **fit_params)\n",
            "  File \"c:\\ProgramData\\anaconda3\\Lib\\site-packages\\sklearn\\base.py\", line 1466, in wrapper\n",
            "    estimator._validate_params()\n",
            "  File \"c:\\ProgramData\\anaconda3\\Lib\\site-packages\\sklearn\\base.py\", line 666, in _validate_params\n",
            "    validate_parameter_constraints(\n",
            "  File \"c:\\ProgramData\\anaconda3\\Lib\\site-packages\\sklearn\\utils\\_param_validation.py\", line 95, in validate_parameter_constraints\n",
            "    raise InvalidParameterError(\n",
            "sklearn.utils._param_validation.InvalidParameterError: The 'max_features' parameter of DecisionTreeClassifier must be an int in the range [1, inf), a float in the range (0.0, 1.0], a str among {'sqrt', 'log2'} or None. Got 'auto' instead.\n",
            "\n",
            "  warnings.warn(some_fits_failed_message, FitFailedWarning)\n",
            "c:\\ProgramData\\anaconda3\\Lib\\site-packages\\sklearn\\model_selection\\_search.py:1102: UserWarning: One or more of the test scores are non-finite: [       nan 0.71618273 0.71935734        nan 0.71618273 0.71618273\n",
            "        nan 0.71935734 0.71618273        nan 0.71935734 0.71777003\n",
            "        nan 0.71777003 0.71300813        nan 0.71935734 0.72094464\n",
            "        nan 0.71935734 0.71777003        nan 0.73697251 0.73054588\n",
            "        nan 0.73379791 0.72578397        nan 0.71149826 0.74181185\n",
            "        nan 0.71784746 0.72907472        nan 0.73054588 0.72737127\n",
            "        nan 0.72419667 0.74665118        nan 0.72578397 0.72578397\n",
            "        nan 0.76260163 0.76082075        nan 0.77030585 0.74018583\n",
            "        nan 0.7414247  0.74157956        nan 0.74351529 0.76562137\n",
            "        nan 0.74188928 0.76724739        nan 0.74812234 0.77692605\n",
            "        nan 0.74177313 0.7625242         nan 0.77367402 0.74978707\n",
            "        nan 0.74649632 0.7672861         nan 0.76403407 0.73526907\n",
            "        nan 0.71606659 0.72098335        nan 0.74355401 0.72431281\n",
            "        nan 0.74812234 0.71467286        nan 0.72419667 0.70991096\n",
            "        nan 0.76883469 0.71958962        nan 0.77351916 0.74967093\n",
            "        nan 0.72264808 0.75447154        nan 0.7271777  0.7559427\n",
            "        nan 0.74970964 0.74796748        nan 0.71955091 0.72404181\n",
            "        nan 0.72729384 0.70325203        nan 0.75780101 0.73701123\n",
            "        nan 0.73368177 0.76085947        nan 0.74800619 0.73697251\n",
            "        nan 0.73526907 0.7656988         nan 0.73356562 0.72748742\n",
            "        nan 0.7031746  0.72264808        nan 0.71633759 0.72106078]\n",
            "  warnings.warn(\n"
          ]
        }
      ],
      "source": [
        "t0 = time.time()\n",
        "clf=DecisionTreeClassifier()\n",
        "max_features = ['auto', 'sqrt', 'log2']\n",
        "class_weight='balanced'\n",
        "ccp_alpha=[0.1, .01, .001]\n",
        "max_depth=[3,4, 5, 6, 7, 8, 9]\n",
        "criterion = ['gini', 'entropy']\n",
        "grid = dict(max_features=max_features, ccp_alpha=ccp_alpha, max_depth=max_depth,criterion=criterion)\n",
        "cv = RepeatedStratifiedKFold(n_splits=5, n_repeats=3, random_state=123)\n",
        "grid_search = GridSearchCV(estimator=clf, param_grid=grid, cv=cv, scoring='accuracy',verbose=True)\n",
        "grid_search.fit(X_train, y_train)\n",
        "grid_result = grid_search.fit(X_train, y_train)\n",
        "\n",
        "print(f'\\nTime taken = {round(time.time() - t0, 2)} sec')\n",
        "\n",
        "print(f'Best score = {round(grid_result.best_score_, 3)} using params: {grid_result.best_params_}')"
      ]
    },
    {
      "cell_type": "markdown",
      "metadata": {
        "id": "Ofg0SqHKwuB1"
      },
      "source": [
        "### 6.2.1 Randomized Search"
      ]
    },
    {
      "cell_type": "code",
      "execution_count": null,
      "metadata": {
        "colab": {
          "base_uri": "https://localhost:8080/"
        },
        "id": "wlaEgbIjzkKw",
        "outputId": "c82ba3c4-5fd6-49ae-d365-681cb63a5a70"
      },
      "outputs": [
        {
          "name": "stdout",
          "output_type": "stream",
          "text": [
            "\n",
            "Time taken = 27.94 sec\n",
            "Best score = 0.799 using params: {'class_weight': 'balanced', 'criterion': 'gini', 'max_depth': 1, 'min_samples_leaf': 2}\n"
          ]
        }
      ],
      "source": [
        "from scipy.stats import randint\n",
        "param_dist = {\"max_depth\": randint(1, 9),\n",
        "              \"min_samples_leaf\": randint(1, 9),\n",
        "              \"criterion\": [\"gini\", \"entropy\"],\n",
        "              \"class_weight\": ['balanced']}\n",
        "rand_search = RandomizedSearchCV(estimator=clf, param_distributions=param_dist, scoring='accuracy', n_iter=100, n_jobs=-1, error_score=0)\n",
        "rand_result = rand_search.fit(X_train, y_train)\n",
        "print(f'\\nTime taken = {round(time.time() - t0, 2)} sec')\n",
        "\n",
        "print(f'Best score = {round(rand_result.best_score_, 3)} using params: {rand_result.best_params_}')"
      ]
    },
    {
      "cell_type": "code",
      "execution_count": null,
      "metadata": {
        "colab": {
          "base_uri": "https://localhost:8080/",
          "height": 475
        },
        "id": "fMAR4bX6zkKw",
        "outputId": "27813ab7-4b33-4bb8-e6f1-4ff9b84c9c8d"
      },
      "outputs": [
        {
          "name": "stdout",
          "output_type": "stream",
          "text": [
            "Accuracy of decision tree classifier (grid search) on test set: 0.67\n",
            "Accuracy of decision tree classifier (random search) on test set: 0.64\n",
            "Accuracy of decision tree classifier (initial parameter) on test set: 0.71\n"
          ]
        },
        {
          "data": {
            "application/vnd.google.colaboratory.intrinsic+json": {
              "repr_error": "0",
              "type": "dataframe",
              "variable_name": "X_test_compare"
            },
            "text/html": [
              "\n",
              "  <div id=\"df-26e48c51-228a-4587-aa06-b81516a622bd\" class=\"colab-df-container\">\n",
              "    <div>\n",
              "<style scoped>\n",
              "    .dataframe tbody tr th:only-of-type {\n",
              "        vertical-align: middle;\n",
              "    }\n",
              "\n",
              "    .dataframe tbody tr th {\n",
              "        vertical-align: top;\n",
              "    }\n",
              "\n",
              "    .dataframe thead th {\n",
              "        text-align: right;\n",
              "    }\n",
              "</style>\n",
              "<table border=\"1\" class=\"dataframe\">\n",
              "  <thead>\n",
              "    <tr style=\"text-align: right;\">\n",
              "      <th></th>\n",
              "      <th>age</th>\n",
              "      <th>anaemia</th>\n",
              "      <th>creatinine_phosphokinase</th>\n",
              "      <th>diabetes</th>\n",
              "      <th>ejection_fraction</th>\n",
              "      <th>high_blood_pressure</th>\n",
              "      <th>platelets</th>\n",
              "      <th>serum_creatinine</th>\n",
              "      <th>serum_sodium</th>\n",
              "      <th>sex</th>\n",
              "      <th>smoking</th>\n",
              "      <th>DEATH_EVENT</th>\n",
              "    </tr>\n",
              "  </thead>\n",
              "  <tbody>\n",
              "    <tr>\n",
              "      <th>281</th>\n",
              "      <td>0.771889</td>\n",
              "      <td>0</td>\n",
              "      <td>582</td>\n",
              "      <td>0</td>\n",
              "      <td>40</td>\n",
              "      <td>0</td>\n",
              "      <td>-2.174896e+00</td>\n",
              "      <td>1.264666</td>\n",
              "      <td>-0.141976</td>\n",
              "      <td>1</td>\n",
              "      <td>1</td>\n",
              "      <td>0</td>\n",
              "    </tr>\n",
              "    <tr>\n",
              "      <th>265</th>\n",
              "      <td>-0.912335</td>\n",
              "      <td>1</td>\n",
              "      <td>298</td>\n",
              "      <td>0</td>\n",
              "      <td>35</td>\n",
              "      <td>0</td>\n",
              "      <td>1.010256e+00</td>\n",
              "      <td>-0.478205</td>\n",
              "      <td>0.766064</td>\n",
              "      <td>1</td>\n",
              "      <td>1</td>\n",
              "      <td>0</td>\n",
              "    </tr>\n",
              "    <tr>\n",
              "      <th>164</th>\n",
              "      <td>-1.333392</td>\n",
              "      <td>0</td>\n",
              "      <td>2442</td>\n",
              "      <td>1</td>\n",
              "      <td>30</td>\n",
              "      <td>0</td>\n",
              "      <td>7.234901e-01</td>\n",
              "      <td>-0.284552</td>\n",
              "      <td>0.539054</td>\n",
              "      <td>1</td>\n",
              "      <td>0</td>\n",
              "      <td>1</td>\n",
              "    </tr>\n",
              "    <tr>\n",
              "      <th>9</th>\n",
              "      <td>1.614001</td>\n",
              "      <td>1</td>\n",
              "      <td>123</td>\n",
              "      <td>0</td>\n",
              "      <td>35</td>\n",
              "      <td>1</td>\n",
              "      <td>1.276539e+00</td>\n",
              "      <td>7.752020</td>\n",
              "      <td>-0.823006</td>\n",
              "      <td>1</td>\n",
              "      <td>1</td>\n",
              "      <td>1</td>\n",
              "    </tr>\n",
              "    <tr>\n",
              "      <th>77</th>\n",
              "      <td>-1.586025</td>\n",
              "      <td>0</td>\n",
              "      <td>102</td>\n",
              "      <td>1</td>\n",
              "      <td>40</td>\n",
              "      <td>0</td>\n",
              "      <td>-2.699496e-01</td>\n",
              "      <td>-0.187726</td>\n",
              "      <td>0.766064</td>\n",
              "      <td>1</td>\n",
              "      <td>0</td>\n",
              "      <td>0</td>\n",
              "    </tr>\n",
              "    <tr>\n",
              "      <th>...</th>\n",
              "      <td>...</td>\n",
              "      <td>...</td>\n",
              "      <td>...</td>\n",
              "      <td>...</td>\n",
              "      <td>...</td>\n",
              "      <td>...</td>\n",
              "      <td>...</td>\n",
              "      <td>...</td>\n",
              "      <td>...</td>\n",
              "      <td>...</td>\n",
              "      <td>...</td>\n",
              "      <td>...</td>\n",
              "    </tr>\n",
              "    <tr>\n",
              "      <th>132</th>\n",
              "      <td>-1.249180</td>\n",
              "      <td>0</td>\n",
              "      <td>719</td>\n",
              "      <td>0</td>\n",
              "      <td>40</td>\n",
              "      <td>1</td>\n",
              "      <td>7.535660e-09</td>\n",
              "      <td>-0.207091</td>\n",
              "      <td>0.085034</td>\n",
              "      <td>0</td>\n",
              "      <td>0</td>\n",
              "      <td>0</td>\n",
              "    </tr>\n",
              "    <tr>\n",
              "      <th>72</th>\n",
              "      <td>2.035057</td>\n",
              "      <td>0</td>\n",
              "      <td>5882</td>\n",
              "      <td>0</td>\n",
              "      <td>35</td>\n",
              "      <td>0</td>\n",
              "      <td>-2.084997e-01</td>\n",
              "      <td>-0.381379</td>\n",
              "      <td>-1.050016</td>\n",
              "      <td>1</td>\n",
              "      <td>1</td>\n",
              "      <td>1</td>\n",
              "    </tr>\n",
              "    <tr>\n",
              "      <th>15</th>\n",
              "      <td>1.782424</td>\n",
              "      <td>1</td>\n",
              "      <td>379</td>\n",
              "      <td>0</td>\n",
              "      <td>50</td>\n",
              "      <td>0</td>\n",
              "      <td>-2.215863e+00</td>\n",
              "      <td>-0.090900</td>\n",
              "      <td>-0.141976</td>\n",
              "      <td>1</td>\n",
              "      <td>0</td>\n",
              "      <td>1</td>\n",
              "    </tr>\n",
              "    <tr>\n",
              "      <th>10</th>\n",
              "      <td>1.192945</td>\n",
              "      <td>1</td>\n",
              "      <td>81</td>\n",
              "      <td>0</td>\n",
              "      <td>38</td>\n",
              "      <td>1</td>\n",
              "      <td>1.071706e+00</td>\n",
              "      <td>2.523407</td>\n",
              "      <td>-1.277026</td>\n",
              "      <td>1</td>\n",
              "      <td>1</td>\n",
              "      <td>1</td>\n",
              "    </tr>\n",
              "    <tr>\n",
              "      <th>157</th>\n",
              "      <td>-0.912335</td>\n",
              "      <td>0</td>\n",
              "      <td>250</td>\n",
              "      <td>0</td>\n",
              "      <td>25</td>\n",
              "      <td>0</td>\n",
              "      <td>-1.390846e-02</td>\n",
              "      <td>-0.381379</td>\n",
              "      <td>-0.141976</td>\n",
              "      <td>1</td>\n",
              "      <td>1</td>\n",
              "      <td>0</td>\n",
              "    </tr>\n",
              "  </tbody>\n",
              "</table>\n",
              "<p>90 rows × 12 columns</p>\n",
              "</div>\n",
              "    <div class=\"colab-df-buttons\">\n",
              "\n",
              "  <div class=\"colab-df-container\">\n",
              "    <button class=\"colab-df-convert\" onclick=\"convertToInteractive('df-26e48c51-228a-4587-aa06-b81516a622bd')\"\n",
              "            title=\"Convert this dataframe to an interactive table.\"\n",
              "            style=\"display:none;\">\n",
              "\n",
              "  <svg xmlns=\"http://www.w3.org/2000/svg\" height=\"24px\" viewBox=\"0 -960 960 960\">\n",
              "    <path d=\"M120-120v-720h720v720H120Zm60-500h600v-160H180v160Zm220 220h160v-160H400v160Zm0 220h160v-160H400v160ZM180-400h160v-160H180v160Zm440 0h160v-160H620v160ZM180-180h160v-160H180v160Zm440 0h160v-160H620v160Z\"/>\n",
              "  </svg>\n",
              "    </button>\n",
              "\n",
              "  <style>\n",
              "    .colab-df-container {\n",
              "      display:flex;\n",
              "      gap: 12px;\n",
              "    }\n",
              "\n",
              "    .colab-df-convert {\n",
              "      background-color: #E8F0FE;\n",
              "      border: none;\n",
              "      border-radius: 50%;\n",
              "      cursor: pointer;\n",
              "      display: none;\n",
              "      fill: #1967D2;\n",
              "      height: 32px;\n",
              "      padding: 0 0 0 0;\n",
              "      width: 32px;\n",
              "    }\n",
              "\n",
              "    .colab-df-convert:hover {\n",
              "      background-color: #E2EBFA;\n",
              "      box-shadow: 0px 1px 2px rgba(60, 64, 67, 0.3), 0px 1px 3px 1px rgba(60, 64, 67, 0.15);\n",
              "      fill: #174EA6;\n",
              "    }\n",
              "\n",
              "    .colab-df-buttons div {\n",
              "      margin-bottom: 4px;\n",
              "    }\n",
              "\n",
              "    [theme=dark] .colab-df-convert {\n",
              "      background-color: #3B4455;\n",
              "      fill: #D2E3FC;\n",
              "    }\n",
              "\n",
              "    [theme=dark] .colab-df-convert:hover {\n",
              "      background-color: #434B5C;\n",
              "      box-shadow: 0px 1px 3px 1px rgba(0, 0, 0, 0.15);\n",
              "      filter: drop-shadow(0px 1px 2px rgba(0, 0, 0, 0.3));\n",
              "      fill: #FFFFFF;\n",
              "    }\n",
              "  </style>\n",
              "\n",
              "    <script>\n",
              "      const buttonEl =\n",
              "        document.querySelector('#df-26e48c51-228a-4587-aa06-b81516a622bd button.colab-df-convert');\n",
              "      buttonEl.style.display =\n",
              "        google.colab.kernel.accessAllowed ? 'block' : 'none';\n",
              "\n",
              "      async function convertToInteractive(key) {\n",
              "        const element = document.querySelector('#df-26e48c51-228a-4587-aa06-b81516a622bd');\n",
              "        const dataTable =\n",
              "          await google.colab.kernel.invokeFunction('convertToInteractive',\n",
              "                                                    [key], {});\n",
              "        if (!dataTable) return;\n",
              "\n",
              "        const docLinkHtml = 'Like what you see? Visit the ' +\n",
              "          '<a target=\"_blank\" href=https://colab.research.google.com/notebooks/data_table.ipynb>data table notebook</a>'\n",
              "          + ' to learn more about interactive tables.';\n",
              "        element.innerHTML = '';\n",
              "        dataTable['output_type'] = 'display_data';\n",
              "        await google.colab.output.renderOutput(dataTable, element);\n",
              "        const docLink = document.createElement('div');\n",
              "        docLink.innerHTML = docLinkHtml;\n",
              "        element.appendChild(docLink);\n",
              "      }\n",
              "    </script>\n",
              "  </div>\n",
              "\n",
              "\n",
              "<div id=\"df-e7e7ddf2-1a1f-4a56-9de5-bc0d46247bdf\">\n",
              "  <button class=\"colab-df-quickchart\" onclick=\"quickchart('df-e7e7ddf2-1a1f-4a56-9de5-bc0d46247bdf')\"\n",
              "            title=\"Suggest charts\"\n",
              "            style=\"display:none;\">\n",
              "\n",
              "<svg xmlns=\"http://www.w3.org/2000/svg\" height=\"24px\"viewBox=\"0 0 24 24\"\n",
              "     width=\"24px\">\n",
              "    <g>\n",
              "        <path d=\"M19 3H5c-1.1 0-2 .9-2 2v14c0 1.1.9 2 2 2h14c1.1 0 2-.9 2-2V5c0-1.1-.9-2-2-2zM9 17H7v-7h2v7zm4 0h-2V7h2v10zm4 0h-2v-4h2v4z\"/>\n",
              "    </g>\n",
              "</svg>\n",
              "  </button>\n",
              "\n",
              "<style>\n",
              "  .colab-df-quickchart {\n",
              "      --bg-color: #E8F0FE;\n",
              "      --fill-color: #1967D2;\n",
              "      --hover-bg-color: #E2EBFA;\n",
              "      --hover-fill-color: #174EA6;\n",
              "      --disabled-fill-color: #AAA;\n",
              "      --disabled-bg-color: #DDD;\n",
              "  }\n",
              "\n",
              "  [theme=dark] .colab-df-quickchart {\n",
              "      --bg-color: #3B4455;\n",
              "      --fill-color: #D2E3FC;\n",
              "      --hover-bg-color: #434B5C;\n",
              "      --hover-fill-color: #FFFFFF;\n",
              "      --disabled-bg-color: #3B4455;\n",
              "      --disabled-fill-color: #666;\n",
              "  }\n",
              "\n",
              "  .colab-df-quickchart {\n",
              "    background-color: var(--bg-color);\n",
              "    border: none;\n",
              "    border-radius: 50%;\n",
              "    cursor: pointer;\n",
              "    display: none;\n",
              "    fill: var(--fill-color);\n",
              "    height: 32px;\n",
              "    padding: 0;\n",
              "    width: 32px;\n",
              "  }\n",
              "\n",
              "  .colab-df-quickchart:hover {\n",
              "    background-color: var(--hover-bg-color);\n",
              "    box-shadow: 0 1px 2px rgba(60, 64, 67, 0.3), 0 1px 3px 1px rgba(60, 64, 67, 0.15);\n",
              "    fill: var(--button-hover-fill-color);\n",
              "  }\n",
              "\n",
              "  .colab-df-quickchart-complete:disabled,\n",
              "  .colab-df-quickchart-complete:disabled:hover {\n",
              "    background-color: var(--disabled-bg-color);\n",
              "    fill: var(--disabled-fill-color);\n",
              "    box-shadow: none;\n",
              "  }\n",
              "\n",
              "  .colab-df-spinner {\n",
              "    border: 2px solid var(--fill-color);\n",
              "    border-color: transparent;\n",
              "    border-bottom-color: var(--fill-color);\n",
              "    animation:\n",
              "      spin 1s steps(1) infinite;\n",
              "  }\n",
              "\n",
              "  @keyframes spin {\n",
              "    0% {\n",
              "      border-color: transparent;\n",
              "      border-bottom-color: var(--fill-color);\n",
              "      border-left-color: var(--fill-color);\n",
              "    }\n",
              "    20% {\n",
              "      border-color: transparent;\n",
              "      border-left-color: var(--fill-color);\n",
              "      border-top-color: var(--fill-color);\n",
              "    }\n",
              "    30% {\n",
              "      border-color: transparent;\n",
              "      border-left-color: var(--fill-color);\n",
              "      border-top-color: var(--fill-color);\n",
              "      border-right-color: var(--fill-color);\n",
              "    }\n",
              "    40% {\n",
              "      border-color: transparent;\n",
              "      border-right-color: var(--fill-color);\n",
              "      border-top-color: var(--fill-color);\n",
              "    }\n",
              "    60% {\n",
              "      border-color: transparent;\n",
              "      border-right-color: var(--fill-color);\n",
              "    }\n",
              "    80% {\n",
              "      border-color: transparent;\n",
              "      border-right-color: var(--fill-color);\n",
              "      border-bottom-color: var(--fill-color);\n",
              "    }\n",
              "    90% {\n",
              "      border-color: transparent;\n",
              "      border-bottom-color: var(--fill-color);\n",
              "    }\n",
              "  }\n",
              "</style>\n",
              "\n",
              "  <script>\n",
              "    async function quickchart(key) {\n",
              "      const quickchartButtonEl =\n",
              "        document.querySelector('#' + key + ' button');\n",
              "      quickchartButtonEl.disabled = true;  // To prevent multiple clicks.\n",
              "      quickchartButtonEl.classList.add('colab-df-spinner');\n",
              "      try {\n",
              "        const charts = await google.colab.kernel.invokeFunction(\n",
              "            'suggestCharts', [key], {});\n",
              "      } catch (error) {\n",
              "        console.error('Error during call to suggestCharts:', error);\n",
              "      }\n",
              "      quickchartButtonEl.classList.remove('colab-df-spinner');\n",
              "      quickchartButtonEl.classList.add('colab-df-quickchart-complete');\n",
              "    }\n",
              "    (() => {\n",
              "      let quickchartButtonEl =\n",
              "        document.querySelector('#df-e7e7ddf2-1a1f-4a56-9de5-bc0d46247bdf button');\n",
              "      quickchartButtonEl.style.display =\n",
              "        google.colab.kernel.accessAllowed ? 'block' : 'none';\n",
              "    })();\n",
              "  </script>\n",
              "</div>\n",
              "\n",
              "  <div id=\"id_e94d0efa-e7e7-425e-b7d1-b0067aa8a5f9\">\n",
              "    <style>\n",
              "      .colab-df-generate {\n",
              "        background-color: #E8F0FE;\n",
              "        border: none;\n",
              "        border-radius: 50%;\n",
              "        cursor: pointer;\n",
              "        display: none;\n",
              "        fill: #1967D2;\n",
              "        height: 32px;\n",
              "        padding: 0 0 0 0;\n",
              "        width: 32px;\n",
              "      }\n",
              "\n",
              "      .colab-df-generate:hover {\n",
              "        background-color: #E2EBFA;\n",
              "        box-shadow: 0px 1px 2px rgba(60, 64, 67, 0.3), 0px 1px 3px 1px rgba(60, 64, 67, 0.15);\n",
              "        fill: #174EA6;\n",
              "      }\n",
              "\n",
              "      [theme=dark] .colab-df-generate {\n",
              "        background-color: #3B4455;\n",
              "        fill: #D2E3FC;\n",
              "      }\n",
              "\n",
              "      [theme=dark] .colab-df-generate:hover {\n",
              "        background-color: #434B5C;\n",
              "        box-shadow: 0px 1px 3px 1px rgba(0, 0, 0, 0.15);\n",
              "        filter: drop-shadow(0px 1px 2px rgba(0, 0, 0, 0.3));\n",
              "        fill: #FFFFFF;\n",
              "      }\n",
              "    </style>\n",
              "    <button class=\"colab-df-generate\" onclick=\"generateWithVariable('X_test_compare')\"\n",
              "            title=\"Generate code using this dataframe.\"\n",
              "            style=\"display:none;\">\n",
              "\n",
              "  <svg xmlns=\"http://www.w3.org/2000/svg\" height=\"24px\"viewBox=\"0 0 24 24\"\n",
              "       width=\"24px\">\n",
              "    <path d=\"M7,19H8.4L18.45,9,17,7.55,7,17.6ZM5,21V16.75L18.45,3.32a2,2,0,0,1,2.83,0l1.4,1.43a1.91,1.91,0,0,1,.58,1.4,1.91,1.91,0,0,1-.58,1.4L9.25,21ZM18.45,9,17,7.55Zm-12,3A5.31,5.31,0,0,0,4.9,8.1,5.31,5.31,0,0,0,1,6.5,5.31,5.31,0,0,0,4.9,4.9,5.31,5.31,0,0,0,6.5,1,5.31,5.31,0,0,0,8.1,4.9,5.31,5.31,0,0,0,12,6.5,5.46,5.46,0,0,0,6.5,12Z\"/>\n",
              "  </svg>\n",
              "    </button>\n",
              "    <script>\n",
              "      (() => {\n",
              "      const buttonEl =\n",
              "        document.querySelector('#id_e94d0efa-e7e7-425e-b7d1-b0067aa8a5f9 button.colab-df-generate');\n",
              "      buttonEl.style.display =\n",
              "        google.colab.kernel.accessAllowed ? 'block' : 'none';\n",
              "\n",
              "      buttonEl.onclick = () => {\n",
              "        google.colab.notebook.generateWithVariable('X_test_compare');\n",
              "      }\n",
              "      })();\n",
              "    </script>\n",
              "  </div>\n",
              "\n",
              "    </div>\n",
              "  </div>\n"
            ],
            "text/plain": [
              "          age  anaemia  creatinine_phosphokinase  diabetes  ejection_fraction  \\\n",
              "281  0.771889        0                       582         0                 40   \n",
              "265 -0.912335        1                       298         0                 35   \n",
              "164 -1.333392        0                      2442         1                 30   \n",
              "9    1.614001        1                       123         0                 35   \n",
              "77  -1.586025        0                       102         1                 40   \n",
              "..        ...      ...                       ...       ...                ...   \n",
              "132 -1.249180        0                       719         0                 40   \n",
              "72   2.035057        0                      5882         0                 35   \n",
              "15   1.782424        1                       379         0                 50   \n",
              "10   1.192945        1                        81         0                 38   \n",
              "157 -0.912335        0                       250         0                 25   \n",
              "\n",
              "     high_blood_pressure     platelets  serum_creatinine  serum_sodium  sex  \\\n",
              "281                    0 -2.174896e+00          1.264666     -0.141976    1   \n",
              "265                    0  1.010256e+00         -0.478205      0.766064    1   \n",
              "164                    0  7.234901e-01         -0.284552      0.539054    1   \n",
              "9                      1  1.276539e+00          7.752020     -0.823006    1   \n",
              "77                     0 -2.699496e-01         -0.187726      0.766064    1   \n",
              "..                   ...           ...               ...           ...  ...   \n",
              "132                    1  7.535660e-09         -0.207091      0.085034    0   \n",
              "72                     0 -2.084997e-01         -0.381379     -1.050016    1   \n",
              "15                     0 -2.215863e+00         -0.090900     -0.141976    1   \n",
              "10                     1  1.071706e+00          2.523407     -1.277026    1   \n",
              "157                    0 -1.390846e-02         -0.381379     -0.141976    1   \n",
              "\n",
              "     smoking DEATH_EVENT  \n",
              "281        1           0  \n",
              "265        1           0  \n",
              "164        0           1  \n",
              "9          1           1  \n",
              "77         0           0  \n",
              "..       ...         ...  \n",
              "132        0           0  \n",
              "72         1           1  \n",
              "15         0           1  \n",
              "10         1           1  \n",
              "157        1           0  \n",
              "\n",
              "[90 rows x 12 columns]"
            ]
          },
          "execution_count": 49,
          "metadata": {},
          "output_type": "execute_result"
        }
      ],
      "source": [
        "y_test_df=y_test.copy()\n",
        "\n",
        "grid_Tree = DecisionTreeClassifier(criterion='gini', ccp_alpha=0.01, max_depth = 8, max_features = 'log2')\n",
        "grid_Tree.fit(X_train, y_train)\n",
        "y_grid_prediction = grid_Tree.predict(X_test)\n",
        "y_test_df['grid_preds'] = y_grid_prediction\n",
        "\n",
        "randsearch_Tree = DecisionTreeClassifier(criterion='gini', max_depth= 1, min_samples_leaf= 6)\n",
        "randsearch_Tree.fit(X_train, y_train)\n",
        "y_randsearch_prediction = randsearch_Tree.predict(X_test)\n",
        "y_test_df['randsearch_preds'] = y_randsearch_prediction\n",
        "\n",
        "dTree = DecisionTreeClassifier(criterion='entropy', class_weight='balanced', max_depth = 5)\n",
        "dTree.fit(X_train, y_train)\n",
        "y_prediction = dTree.predict(X_test)\n",
        "y_test_df['original_preds'] = y_prediction\n",
        "\n",
        "X_test_compare=pd.merge(X_test,y_test_df, how='left',left_index=True,right_index=True)\n",
        "\n",
        "print('Accuracy of decision tree classifier (grid search) on test set: {:.2f}'.format(grid_Tree.score(X_test, y_test)))\n",
        "print('Accuracy of decision tree classifier (random search) on test set: {:.2f}'.format(randsearch_Tree.score(X_test, y_test)))\n",
        "print('Accuracy of decision tree classifier (initial parameter) on test set: {:.2f}'.format(dTree.score(X_test, y_test)))\n",
        "X_test_compare"
      ]
    },
    {
      "cell_type": "code",
      "execution_count": null,
      "metadata": {
        "colab": {
          "base_uri": "https://localhost:8080/"
        },
        "id": "cN5CEkLazkKw",
        "outputId": "d0e9d38a-b469-4cfa-92af-915279ee8660"
      },
      "outputs": [
        {
          "name": "stdout",
          "output_type": "stream",
          "text": [
            "Test Results:\n",
            "              precision    recall  f1-score   support\n",
            "\n",
            "           0       0.75      0.77      0.76        53\n",
            "           1       0.66      0.62      0.64        37\n",
            "\n",
            "    accuracy                           0.71        90\n",
            "   macro avg       0.70      0.70      0.70        90\n",
            "weighted avg       0.71      0.71      0.71        90\n",
            "\n"
          ]
        }
      ],
      "source": [
        "print(\"Test Results:\")\n",
        "print(classification_report(y_test, y_prediction))"
      ]
    },
    {
      "cell_type": "code",
      "execution_count": null,
      "metadata": {
        "colab": {
          "base_uri": "https://localhost:8080/",
          "height": 449
        },
        "id": "t1yfs_2-ECoC",
        "outputId": "ed271a4d-ae5d-4ea9-8b86-5f65972a0864"
      },
      "outputs": [
        {
          "data": {
            "image/png": "[encoded data removed]",
            "text/plain": [
              "<Figure size 640x480 with 2 Axes>"
            ]
          },
          "metadata": {},
          "output_type": "display_data"
        }
      ],
      "source": [
        "cm=confusion_matrix(y_test, y_prediction, labels=dTree.classes_)\n",
        "disp=ConfusionMatrixDisplay(confusion_matrix=cm, display_labels=dTree.classes_)\n",
        "plt=disp.plot()"
      ]
    },
    {
      "cell_type": "markdown",
      "metadata": {
        "id": "Qcvwod8azkKw"
      },
      "source": [
        "## 6.3 Improving Predictions with Ensemble Classifiers"
      ]
    },
    {
      "cell_type": "markdown",
      "metadata": {
        "id": "OuQkBdDEzkKw"
      },
      "source": [
        "## 6.3.1 Bagging Classifiers"
      ]
    },
    {
      "cell_type": "markdown",
      "metadata": {
        "id": "090L2eCnzkKw"
      },
      "source": [
        "### Bagging Classifiers - Ensemble Classifiers\n",
        "https://scikit-learn.org/stable/modules/generated/sklearn.ensemble.BaggingClassifier.html"
      ]
    },
    {
      "cell_type": "code",
      "execution_count": 43,
      "metadata": {
        "id": "SmjOb0UlzkKw"
      },
      "outputs": [],
      "source": [
        "from sklearn.ensemble import BaggingClassifier, RandomForestClassifier, GradientBoostingClassifier"
      ]
    },
    {
      "cell_type": "code",
      "execution_count": null,
      "metadata": {
        "colab": {
          "base_uri": "https://localhost:8080/"
        },
        "id": "xpJx9SDHzkKx",
        "outputId": "e7ac4665-f5e6-4257-fb46-0ff3144fbdcc"
      },
      "outputs": [
        {
          "name": "stdout",
          "output_type": "stream",
          "text": [
            "\n",
            "Time taken = 107.54 sec\n",
            "Best score = 0.7657375145180024 using params: {'oob_score': True, 'n_estimators': 100}\n"
          ]
        }
      ],
      "source": [
        "t0 = time.time()\n",
        "\n",
        "cv = RepeatedStratifiedKFold(n_splits=5, n_repeats=3, random_state=123)\n",
        "n_estimators = [100, 200, 300, 400, 500]\n",
        "oob_score = [True, False]\n",
        "grid = dict(n_estimators=n_estimators, oob_score=oob_score)\n",
        "clf = BaggingClassifier()\n",
        "\n",
        "rand_search = RandomizedSearchCV(estimator=clf, cv=cv, param_distributions=grid, scoring='accuracy', n_iter=10, n_jobs=-1, error_score=0)\n",
        "rand_result = rand_search.fit(X_train, y_train)\n",
        "\n",
        "print(f'\\nTime taken = {round(time.time() - t0, 2)} sec')\n",
        "print(f'Best score = {rand_result.best_score_} using params: {rand_result.best_params_}')"
      ]
    },
    {
      "cell_type": "markdown",
      "metadata": {
        "id": "vmrLFuldzkKy"
      },
      "source": [
        "### Random Forest (Intelligent Bagging)"
      ]
    },
    {
      "cell_type": "code",
      "execution_count": null,
      "metadata": {
        "colab": {
          "base_uri": "https://localhost:8080/"
        },
        "id": "fQjdFArazkKy",
        "outputId": "49dbd456-ce63-4569-fd9c-6eca8b41c817"
      },
      "outputs": [
        {
          "name": "stdout",
          "output_type": "stream",
          "text": [
            "\n",
            "Time taken = 74.18 sec\n",
            "Best score = 0.7849787069299264 using params: {'max_depth': 7, 'n_estimators': 400, 'oob_score': True}\n"
          ]
        }
      ],
      "source": [
        "t0 = time.time()\n",
        "\n",
        "cv = RepeatedStratifiedKFold(n_splits=5, n_repeats=3, random_state=123)\n",
        "n_estimators = [100, 200, 300, 400, 500]\n",
        "max_depth=randint(1, 9)\n",
        "oob_score = [True, False]\n",
        "grid = dict(n_estimators=n_estimators, oob_score=oob_score, max_depth=max_depth)\n",
        "clf = RandomForestClassifier()\n",
        "\n",
        "rand_search = RandomizedSearchCV(estimator=clf, cv=cv, param_distributions=grid, scoring='accuracy', n_jobs=-1)\n",
        "rand_result = rand_search.fit(X_train, y_train)\n",
        "\n",
        "print(f'\\nTime taken = {round(time.time() - t0, 2)} sec')\n",
        "print(f'Best score = {rand_result.best_score_} using params: {rand_result.best_params_}')\n"
      ]
    },
    {
      "cell_type": "code",
      "execution_count": null,
      "metadata": {
        "colab": {
          "base_uri": "https://localhost:8080/"
        },
        "id": "Wg1ZFJsBzkKy",
        "outputId": "3ebed215-7791-4a39-abf3-f2c1ee4b0a83"
      },
      "outputs": [
        {
          "name": "stdout",
          "output_type": "stream",
          "text": [
            "Test Results:\n",
            "              precision    recall  f1-score   support\n",
            "\n",
            "           0       0.66      0.89      0.76        53\n",
            "           1       0.68      0.35      0.46        37\n",
            "\n",
            "    accuracy                           0.67        90\n",
            "   macro avg       0.67      0.62      0.61        90\n",
            "weighted avg       0.67      0.67      0.64        90\n",
            "\n"
          ]
        }
      ],
      "source": [
        "rf_Tree = RandomForestClassifier(n_estimators=400, max_depth = 5,oob_score=True)\n",
        "rf_Tree.fit(X_train, y_train)\n",
        "y_prediction = rf_Tree.predict(X_test)\n",
        "\n",
        "print(\"Test Results:\")\n",
        "print(classification_report(y_test, y_prediction))"
      ]
    },
    {
      "cell_type": "code",
      "execution_count": null,
      "metadata": {
        "colab": {
          "base_uri": "https://localhost:8080/",
          "height": 449
        },
        "id": "JEXJ9ZaPECoD",
        "outputId": "dca87a8a-b638-456f-8299-bb35e50bf34f"
      },
      "outputs": [
        {
          "data": {
            "image/png": "[encoded data removed]",
            "text/plain": [
              "<Figure size 640x480 with 2 Axes>"
            ]
          },
          "metadata": {},
          "output_type": "display_data"
        }
      ],
      "source": [
        "cm=confusion_matrix(y_test, y_prediction, labels=rf_Tree.classes_)\n",
        "disp=ConfusionMatrixDisplay(confusion_matrix=cm, display_labels=rf_Tree.classes_)\n",
        "plt=disp.plot()"
      ]
    },
    {
      "cell_type": "markdown",
      "metadata": {
        "id": "G60DMzjwzkKz"
      },
      "source": [
        "## 6.3.2 Boosting Classifiers"
      ]
    },
    {
      "cell_type": "markdown",
      "metadata": {
        "id": "DrMQItfLzkKz"
      },
      "source": [
        "### Boosting Classifiers - XG Boost (Note: Takes 10 mins to run)\n"
      ]
    },
    {
      "cell_type": "code",
      "execution_count": null,
      "metadata": {
        "colab": {
          "background_save": true
        },
        "id": "gXAk1ROPzkKz",
        "outputId": "72365507-163a-47b3-a3cf-7fc92ef09458"
      },
      "outputs": [
        {
          "name": "stdout",
          "output_type": "stream",
          "text": [
            "Best score = 0.7800232288037166 using params: {'subsample': 0.2, 'n_estimators': 200, 'max_depth': 9, 'learning_rate': 0.01}\n"
          ]
        }
      ],
      "source": [
        "cv = RepeatedStratifiedKFold(n_splits=5, n_repeats=3, random_state=123)\n",
        "n_estimators = np.arange(100, 1300, 100)\n",
        "learning_rate = [0.01, 0.11, 0.01]\n",
        "subsample = np.arange(0.1, 1.1, 0.1)\n",
        "max_depth = np.arange(2, 15, 1)\n",
        "# oob_score = [True, False]\n",
        "\n",
        "grid = dict(n_estimators=n_estimators, learning_rate=learning_rate, subsample=subsample, max_depth=max_depth)\n",
        "clf = GradientBoostingClassifier()\n",
        "rand_search= RandomizedSearchCV(estimator=clf, cv=cv, param_distributions=grid, scoring='accuracy', n_iter=100, n_jobs=-1, error_score=0)\n",
        "xgb_result=rand_search.fit(X_train, y_train)\n",
        "# hp_tune(x=x_train, y=y_train, clf=clf, grid=grid)\n",
        "print(f'Best score = {xgb_result.best_score_} using params: {xgb_result.best_params_}')"
      ]
    },
    {
      "cell_type": "code",
      "execution_count": null,
      "metadata": {
        "colab": {
          "background_save": true
        },
        "id": "FkL7UywFzkKz",
        "outputId": "16e17085-30ec-4b92-b8a7-0545aa0da431"
      },
      "outputs": [
        {
          "name": "stdout",
          "output_type": "stream",
          "text": [
            "Test Results:\n",
            "              precision    recall  f1-score   support\n",
            "\n",
            "           0       0.68      0.87      0.76        53\n",
            "           1       0.68      0.41      0.51        37\n",
            "\n",
            "    accuracy                           0.68        90\n",
            "   macro avg       0.68      0.64      0.63        90\n",
            "weighted avg       0.68      0.68      0.66        90\n",
            "\n"
          ]
        }
      ],
      "source": [
        "xgb_Tree = GradientBoostingClassifier(subsample=0.2, n_estimators=200, max_depth = 11,learning_rate=0.01)\n",
        "xgb_Tree.fit(X_train, y_train)\n",
        "y_prediction = xgb_Tree.predict(X_test)\n",
        "\n",
        "print(\"Test Results:\")\n",
        "print(classification_report(y_test, y_prediction))"
      ]
    },
    {
      "cell_type": "code",
      "execution_count": null,
      "metadata": {
        "colab": {
          "background_save": true
        },
        "id": "J8vJUwegECoD",
        "outputId": "8e856af5-3a23-4e04-ec5f-a8e061a5daab"
      },
      "outputs": [
        {
          "data": {
            "image/png": "[encoded data removed]",
            "text/plain": [
              "<Figure size 640x480 with 2 Axes>"
            ]
          },
          "metadata": {},
          "output_type": "display_data"
        }
      ],
      "source": [
        "cm=confusion_matrix(y_test, y_prediction, labels=xgb_Tree.classes_)\n",
        "disp=ConfusionMatrixDisplay(confusion_matrix=cm, display_labels=xgb_Tree.classes_)\n",
        "plt=disp.plot()"
      ]
    }
  ],
  "metadata": {
    "colab": {
      "provenance": []
    },
    "kernelspec": {
      "display_name": "base",
      "language": "python",
      "name": "python3"
    },
    "language_info": {
      "codemirror_mode": {
        "name": "ipython",
        "version": 3
      },
      "file_extension": ".py",
      "mimetype": "text/x-python",
      "name": "python",
      "nbconvert_exporter": "python",
      "pygments_lexer": "ipython3",
      "version": "3.12.7"
    },
    "widgets": {
      "application/vnd.jupyter.widget-state+json": {
        "05146537be3f45c6b7f3fd9c8858125f": {
          "model_module": "@jupyter-widgets/controls",
          "model_module_version": "1.5.0",
          "model_name": "DescriptionStyleModel",
          "state": {
            "_model_module": "@jupyter-widgets/controls",
            "_model_module_version": "1.5.0",
            "_model_name": "DescriptionStyleModel",
            "_view_count": null,
            "_view_module": "@jupyter-widgets/base",
            "_view_module_version": "1.2.0",
            "_view_name": "StyleView",
            "description_width": ""
          }
        },
        "08642d91417f40ea8ac2b0fdabad1bcc": {
          "model_module": "@jupyter-widgets/base",
          "model_module_version": "1.2.0",
          "model_name": "LayoutModel",
          "state": {
            "_model_module": "@jupyter-widgets/base",
            "_model_module_version": "1.2.0",
            "_model_name": "LayoutModel",
            "_view_count": null,
            "_view_module": "@jupyter-widgets/base",
            "_view_module_version": "1.2.0",
            "_view_name": "LayoutView",
            "align_content": null,
            "align_items": null,
            "align_self": null,
            "border": null,
            "bottom": null,
            "display": null,
            "flex": null,
            "flex_flow": null,
            "grid_area": null,
            "grid_auto_columns": null,
            "grid_auto_flow": null,
            "grid_auto_rows": null,
            "grid_column": null,
            "grid_gap": null,
            "grid_row": null,
            "grid_template_areas": null,
            "grid_template_columns": null,
            "grid_template_rows": null,
            "height": null,
            "justify_content": null,
            "justify_items": null,
            "left": null,
            "margin": null,
            "max_height": null,
            "max_width": null,
            "min_height": null,
            "min_width": null,
            "object_fit": null,
            "object_position": null,
            "order": null,
            "overflow": null,
            "overflow_x": null,
            "overflow_y": null,
            "padding": null,
            "right": null,
            "top": null,
            "visibility": null,
            "width": null
          }
        },
        "1a00af243e0042ed8b829493ea9ff60f": {
          "model_module": "@jupyter-widgets/controls",
          "model_module_version": "1.5.0",
          "model_name": "HBoxModel",
          "state": {
            "_dom_classes": [],
            "_model_module": "@jupyter-widgets/controls",
            "_model_module_version": "1.5.0",
            "_model_name": "HBoxModel",
            "_view_count": null,
            "_view_module": "@jupyter-widgets/controls",
            "_view_module_version": "1.5.0",
            "_view_name": "HBoxView",
            "box_style": "",
            "children": [
              "IPY_MODEL_b0a2cac16b194dcf97d5b254dcd21ce7",
              "IPY_MODEL_64b801df8fbd47c3bf66d428337d04e6",
              "IPY_MODEL_4e51bd7403ea4b668047bd06328584d4"
            ],
            "layout": "IPY_MODEL_6a7162cdd114440abdf3a70369c4234c"
          }
        },
        "1eaf5ecf62ea485ab7639b5fabfcfb40": {
          "model_module": "@jupyter-widgets/controls",
          "model_module_version": "1.5.0",
          "model_name": "HTMLModel",
          "state": {
            "_dom_classes": [],
            "_model_module": "@jupyter-widgets/controls",
            "_model_module_version": "1.5.0",
            "_model_name": "HTMLModel",
            "_view_count": null,
            "_view_module": "@jupyter-widgets/controls",
            "_view_module_version": "1.5.0",
            "_view_name": "HTMLView",
            "description": "",
            "description_tooltip": null,
            "layout": "IPY_MODEL_f4b71beab9094f2d91ea3c9596d67fbb",
            "placeholder": "​",
            "style": "IPY_MODEL_4dc137e5c67f413780fea17ab3da098e",
            "value": " 1/1 [00:00&lt;00:00, 30.63it/s]"
          }
        },
        "25838fc387d1487191b65e8bafb7e644": {
          "model_module": "@jupyter-widgets/controls",
          "model_module_version": "1.5.0",
          "model_name": "HBoxModel",
          "state": {
            "_dom_classes": [],
            "_model_module": "@jupyter-widgets/controls",
            "_model_module_version": "1.5.0",
            "_model_name": "HBoxModel",
            "_view_count": null,
            "_view_module": "@jupyter-widgets/controls",
            "_view_module_version": "1.5.0",
            "_view_name": "HBoxView",
            "box_style": "",
            "children": [
              "IPY_MODEL_930a13c0a2774e87afdfd9a4c7530def",
              "IPY_MODEL_fbfdbdd885d145bba6a10f806aa3701a",
              "IPY_MODEL_4b5da9456d9d42f681bf12f26c9a93ed"
            ],
            "layout": "IPY_MODEL_3dff79ff5e344b178a22baa0cb8f92a0"
          }
        },
        "289c11920f754282bf6a4bf3b4750cfe": {
          "model_module": "@jupyter-widgets/controls",
          "model_module_version": "1.5.0",
          "model_name": "DescriptionStyleModel",
          "state": {
            "_model_module": "@jupyter-widgets/controls",
            "_model_module_version": "1.5.0",
            "_model_name": "DescriptionStyleModel",
            "_view_count": null,
            "_view_module": "@jupyter-widgets/base",
            "_view_module_version": "1.2.0",
            "_view_name": "StyleView",
            "description_width": ""
          }
        },
        "34110da4b3034cc29d293621bc7a0a3f": {
          "model_module": "@jupyter-widgets/controls",
          "model_module_version": "1.5.0",
          "model_name": "HBoxModel",
          "state": {
            "_dom_classes": [],
            "_model_module": "@jupyter-widgets/controls",
            "_model_module_version": "1.5.0",
            "_model_name": "HBoxModel",
            "_view_count": null,
            "_view_module": "@jupyter-widgets/controls",
            "_view_module_version": "1.5.0",
            "_view_name": "HBoxView",
            "box_style": "",
            "children": [
              "IPY_MODEL_4264a07dd02f4363b6b4c09f6a080b31",
              "IPY_MODEL_3cb8a985b40e4cb798e7f61f72b406d0",
              "IPY_MODEL_1eaf5ecf62ea485ab7639b5fabfcfb40"
            ],
            "layout": "IPY_MODEL_9cca4595c2494a3d96dff2cc02fc91cb"
          }
        },
        "388996296f374caaaf4998f3f0f65358": {
          "model_module": "@jupyter-widgets/base",
          "model_module_version": "1.2.0",
          "model_name": "LayoutModel",
          "state": {
            "_model_module": "@jupyter-widgets/base",
            "_model_module_version": "1.2.0",
            "_model_name": "LayoutModel",
            "_view_count": null,
            "_view_module": "@jupyter-widgets/base",
            "_view_module_version": "1.2.0",
            "_view_name": "LayoutView",
            "align_content": null,
            "align_items": null,
            "align_self": null,
            "border": null,
            "bottom": null,
            "display": null,
            "flex": null,
            "flex_flow": null,
            "grid_area": null,
            "grid_auto_columns": null,
            "grid_auto_flow": null,
            "grid_auto_rows": null,
            "grid_column": null,
            "grid_gap": null,
            "grid_row": null,
            "grid_template_areas": null,
            "grid_template_columns": null,
            "grid_template_rows": null,
            "height": null,
            "justify_content": null,
            "justify_items": null,
            "left": null,
            "margin": null,
            "max_height": null,
            "max_width": null,
            "min_height": null,
            "min_width": null,
            "object_fit": null,
            "object_position": null,
            "order": null,
            "overflow": null,
            "overflow_x": null,
            "overflow_y": null,
            "padding": null,
            "right": null,
            "top": null,
            "visibility": null,
            "width": null
          }
        },
        "3cb8a985b40e4cb798e7f61f72b406d0": {
          "model_module": "@jupyter-widgets/controls",
          "model_module_version": "1.5.0",
          "model_name": "FloatProgressModel",
          "state": {
            "_dom_classes": [],
            "_model_module": "@jupyter-widgets/controls",
            "_model_module_version": "1.5.0",
            "_model_name": "FloatProgressModel",
            "_view_count": null,
            "_view_module": "@jupyter-widgets/controls",
            "_view_module_version": "1.5.0",
            "_view_name": "ProgressView",
            "bar_style": "success",
            "description": "",
            "description_tooltip": null,
            "layout": "IPY_MODEL_43895371872d47f2a5c60dcd739ba649",
            "max": 1,
            "min": 0,
            "orientation": "horizontal",
            "style": "IPY_MODEL_7010565a42f54c1eb29190aaee28393c",
            "value": 1
          }
        },
        "3dff79ff5e344b178a22baa0cb8f92a0": {
          "model_module": "@jupyter-widgets/base",
          "model_module_version": "1.2.0",
          "model_name": "LayoutModel",
          "state": {
            "_model_module": "@jupyter-widgets/base",
            "_model_module_version": "1.2.0",
            "_model_name": "LayoutModel",
            "_view_count": null,
            "_view_module": "@jupyter-widgets/base",
            "_view_module_version": "1.2.0",
            "_view_name": "LayoutView",
            "align_content": null,
            "align_items": null,
            "align_self": null,
            "border": null,
            "bottom": null,
            "display": null,
            "flex": null,
            "flex_flow": null,
            "grid_area": null,
            "grid_auto_columns": null,
            "grid_auto_flow": null,
            "grid_auto_rows": null,
            "grid_column": null,
            "grid_gap": null,
            "grid_row": null,
            "grid_template_areas": null,
            "grid_template_columns": null,
            "grid_template_rows": null,
            "height": null,
            "justify_content": null,
            "justify_items": null,
            "left": null,
            "margin": null,
            "max_height": null,
            "max_width": null,
            "min_height": null,
            "min_width": null,
            "object_fit": null,
            "object_position": null,
            "order": null,
            "overflow": null,
            "overflow_x": null,
            "overflow_y": null,
            "padding": null,
            "right": null,
            "top": null,
            "visibility": null,
            "width": null
          }
        },
        "4264a07dd02f4363b6b4c09f6a080b31": {
          "model_module": "@jupyter-widgets/controls",
          "model_module_version": "1.5.0",
          "model_name": "HTMLModel",
          "state": {
            "_dom_classes": [],
            "_model_module": "@jupyter-widgets/controls",
            "_model_module_version": "1.5.0",
            "_model_name": "HTMLModel",
            "_view_count": null,
            "_view_module": "@jupyter-widgets/controls",
            "_view_module_version": "1.5.0",
            "_view_name": "HTMLView",
            "description": "",
            "description_tooltip": null,
            "layout": "IPY_MODEL_08642d91417f40ea8ac2b0fdabad1bcc",
            "placeholder": "​",
            "style": "IPY_MODEL_289c11920f754282bf6a4bf3b4750cfe",
            "value": "Export report to file: 100%"
          }
        },
        "43895371872d47f2a5c60dcd739ba649": {
          "model_module": "@jupyter-widgets/base",
          "model_module_version": "1.2.0",
          "model_name": "LayoutModel",
          "state": {
            "_model_module": "@jupyter-widgets/base",
            "_model_module_version": "1.2.0",
            "_model_name": "LayoutModel",
            "_view_count": null,
            "_view_module": "@jupyter-widgets/base",
            "_view_module_version": "1.2.0",
            "_view_name": "LayoutView",
            "align_content": null,
            "align_items": null,
            "align_self": null,
            "border": null,
            "bottom": null,
            "display": null,
            "flex": null,
            "flex_flow": null,
            "grid_area": null,
            "grid_auto_columns": null,
            "grid_auto_flow": null,
            "grid_auto_rows": null,
            "grid_column": null,
            "grid_gap": null,
            "grid_row": null,
            "grid_template_areas": null,
            "grid_template_columns": null,
            "grid_template_rows": null,
            "height": null,
            "justify_content": null,
            "justify_items": null,
            "left": null,
            "margin": null,
            "max_height": null,
            "max_width": null,
            "min_height": null,
            "min_width": null,
            "object_fit": null,
            "object_position": null,
            "order": null,
            "overflow": null,
            "overflow_x": null,
            "overflow_y": null,
            "padding": null,
            "right": null,
            "top": null,
            "visibility": null,
            "width": null
          }
        },
        "4b5da9456d9d42f681bf12f26c9a93ed": {
          "model_module": "@jupyter-widgets/controls",
          "model_module_version": "1.5.0",
          "model_name": "HTMLModel",
          "state": {
            "_dom_classes": [],
            "_model_module": "@jupyter-widgets/controls",
            "_model_module_version": "1.5.0",
            "_model_name": "HTMLModel",
            "_view_count": null,
            "_view_module": "@jupyter-widgets/controls",
            "_view_module_version": "1.5.0",
            "_view_name": "HTMLView",
            "description": "",
            "description_tooltip": null,
            "layout": "IPY_MODEL_a5415f6e139c4b6eb442fd4208eaa644",
            "placeholder": "​",
            "style": "IPY_MODEL_05146537be3f45c6b7f3fd9c8858125f",
            "value": " 71/71 [00:40&lt;00:00,  2.01it/s, Completed]"
          }
        },
        "4c75b15de4c545718838275991ee69ff": {
          "model_module": "@jupyter-widgets/base",
          "model_module_version": "1.2.0",
          "model_name": "LayoutModel",
          "state": {
            "_model_module": "@jupyter-widgets/base",
            "_model_module_version": "1.2.0",
            "_model_name": "LayoutModel",
            "_view_count": null,
            "_view_module": "@jupyter-widgets/base",
            "_view_module_version": "1.2.0",
            "_view_name": "LayoutView",
            "align_content": null,
            "align_items": null,
            "align_self": null,
            "border": null,
            "bottom": null,
            "display": null,
            "flex": null,
            "flex_flow": null,
            "grid_area": null,
            "grid_auto_columns": null,
            "grid_auto_flow": null,
            "grid_auto_rows": null,
            "grid_column": null,
            "grid_gap": null,
            "grid_row": null,
            "grid_template_areas": null,
            "grid_template_columns": null,
            "grid_template_rows": null,
            "height": null,
            "justify_content": null,
            "justify_items": null,
            "left": null,
            "margin": null,
            "max_height": null,
            "max_width": null,
            "min_height": null,
            "min_width": null,
            "object_fit": null,
            "object_position": null,
            "order": null,
            "overflow": null,
            "overflow_x": null,
            "overflow_y": null,
            "padding": null,
            "right": null,
            "top": null,
            "visibility": null,
            "width": null
          }
        },
        "4dc137e5c67f413780fea17ab3da098e": {
          "model_module": "@jupyter-widgets/controls",
          "model_module_version": "1.5.0",
          "model_name": "DescriptionStyleModel",
          "state": {
            "_model_module": "@jupyter-widgets/controls",
            "_model_module_version": "1.5.0",
            "_model_name": "DescriptionStyleModel",
            "_view_count": null,
            "_view_module": "@jupyter-widgets/base",
            "_view_module_version": "1.2.0",
            "_view_name": "StyleView",
            "description_width": ""
          }
        },
        "4e51bd7403ea4b668047bd06328584d4": {
          "model_module": "@jupyter-widgets/controls",
          "model_module_version": "1.5.0",
          "model_name": "HTMLModel",
          "state": {
            "_dom_classes": [],
            "_model_module": "@jupyter-widgets/controls",
            "_model_module_version": "1.5.0",
            "_model_name": "HTMLModel",
            "_view_count": null,
            "_view_module": "@jupyter-widgets/controls",
            "_view_module_version": "1.5.0",
            "_view_name": "HTMLView",
            "description": "",
            "description_tooltip": null,
            "layout": "IPY_MODEL_ef0fca81a568457d9651f0249136c20e",
            "placeholder": "​",
            "style": "IPY_MODEL_b9271f1f74064709881b270f07693037",
            "value": " 1/1 [00:09&lt;00:00,  9.91s/it]"
          }
        },
        "510cf4a86a7a424f8688e67664a53a44": {
          "model_module": "@jupyter-widgets/controls",
          "model_module_version": "1.5.0",
          "model_name": "ProgressStyleModel",
          "state": {
            "_model_module": "@jupyter-widgets/controls",
            "_model_module_version": "1.5.0",
            "_model_name": "ProgressStyleModel",
            "_view_count": null,
            "_view_module": "@jupyter-widgets/base",
            "_view_module_version": "1.2.0",
            "_view_name": "StyleView",
            "bar_color": null,
            "description_width": ""
          }
        },
        "54fe26d586fa417ab9130d15550f3c59": {
          "model_module": "@jupyter-widgets/controls",
          "model_module_version": "1.5.0",
          "model_name": "DescriptionStyleModel",
          "state": {
            "_model_module": "@jupyter-widgets/controls",
            "_model_module_version": "1.5.0",
            "_model_name": "DescriptionStyleModel",
            "_view_count": null,
            "_view_module": "@jupyter-widgets/base",
            "_view_module_version": "1.2.0",
            "_view_name": "StyleView",
            "description_width": ""
          }
        },
        "56e3981bc73741c7b05bf9827854f0a3": {
          "model_module": "@jupyter-widgets/controls",
          "model_module_version": "1.5.0",
          "model_name": "HTMLModel",
          "state": {
            "_dom_classes": [],
            "_model_module": "@jupyter-widgets/controls",
            "_model_module_version": "1.5.0",
            "_model_name": "HTMLModel",
            "_view_count": null,
            "_view_module": "@jupyter-widgets/controls",
            "_view_module_version": "1.5.0",
            "_view_name": "HTMLView",
            "description": "",
            "description_tooltip": null,
            "layout": "IPY_MODEL_90928964dc004c6291f5d42ce10a8ac7",
            "placeholder": "​",
            "style": "IPY_MODEL_94cfedc34eb243d69c328c633f62f789",
            "value": "Render HTML: 100%"
          }
        },
        "596dc05ee2b74a9f8fb42f79b69d97a6": {
          "model_module": "@jupyter-widgets/controls",
          "model_module_version": "1.5.0",
          "model_name": "HTMLModel",
          "state": {
            "_dom_classes": [],
            "_model_module": "@jupyter-widgets/controls",
            "_model_module_version": "1.5.0",
            "_model_name": "HTMLModel",
            "_view_count": null,
            "_view_module": "@jupyter-widgets/controls",
            "_view_module_version": "1.5.0",
            "_view_name": "HTMLView",
            "description": "",
            "description_tooltip": null,
            "layout": "IPY_MODEL_d42de23cb8044b18ba68bc48312f9d9b",
            "placeholder": "​",
            "style": "IPY_MODEL_e63eead567c2497d88512d51afc473cf",
            "value": " 1/1 [00:01&lt;00:00,  1.70s/it]"
          }
        },
        "64b801df8fbd47c3bf66d428337d04e6": {
          "model_module": "@jupyter-widgets/controls",
          "model_module_version": "1.5.0",
          "model_name": "FloatProgressModel",
          "state": {
            "_dom_classes": [],
            "_model_module": "@jupyter-widgets/controls",
            "_model_module_version": "1.5.0",
            "_model_name": "FloatProgressModel",
            "_view_count": null,
            "_view_module": "@jupyter-widgets/controls",
            "_view_module_version": "1.5.0",
            "_view_name": "ProgressView",
            "bar_style": "success",
            "description": "",
            "description_tooltip": null,
            "layout": "IPY_MODEL_afd7ac3c8f4342c1acbe71f858868329",
            "max": 1,
            "min": 0,
            "orientation": "horizontal",
            "style": "IPY_MODEL_720f5ed9a4474aa7b4af0422e318327a",
            "value": 1
          }
        },
        "6a7162cdd114440abdf3a70369c4234c": {
          "model_module": "@jupyter-widgets/base",
          "model_module_version": "1.2.0",
          "model_name": "LayoutModel",
          "state": {
            "_model_module": "@jupyter-widgets/base",
            "_model_module_version": "1.2.0",
            "_model_name": "LayoutModel",
            "_view_count": null,
            "_view_module": "@jupyter-widgets/base",
            "_view_module_version": "1.2.0",
            "_view_name": "LayoutView",
            "align_content": null,
            "align_items": null,
            "align_self": null,
            "border": null,
            "bottom": null,
            "display": null,
            "flex": null,
            "flex_flow": null,
            "grid_area": null,
            "grid_auto_columns": null,
            "grid_auto_flow": null,
            "grid_auto_rows": null,
            "grid_column": null,
            "grid_gap": null,
            "grid_row": null,
            "grid_template_areas": null,
            "grid_template_columns": null,
            "grid_template_rows": null,
            "height": null,
            "justify_content": null,
            "justify_items": null,
            "left": null,
            "margin": null,
            "max_height": null,
            "max_width": null,
            "min_height": null,
            "min_width": null,
            "object_fit": null,
            "object_position": null,
            "order": null,
            "overflow": null,
            "overflow_x": null,
            "overflow_y": null,
            "padding": null,
            "right": null,
            "top": null,
            "visibility": null,
            "width": null
          }
        },
        "7010565a42f54c1eb29190aaee28393c": {
          "model_module": "@jupyter-widgets/controls",
          "model_module_version": "1.5.0",
          "model_name": "ProgressStyleModel",
          "state": {
            "_model_module": "@jupyter-widgets/controls",
            "_model_module_version": "1.5.0",
            "_model_name": "ProgressStyleModel",
            "_view_count": null,
            "_view_module": "@jupyter-widgets/base",
            "_view_module_version": "1.2.0",
            "_view_name": "StyleView",
            "bar_color": null,
            "description_width": ""
          }
        },
        "720f5ed9a4474aa7b4af0422e318327a": {
          "model_module": "@jupyter-widgets/controls",
          "model_module_version": "1.5.0",
          "model_name": "ProgressStyleModel",
          "state": {
            "_model_module": "@jupyter-widgets/controls",
            "_model_module_version": "1.5.0",
            "_model_name": "ProgressStyleModel",
            "_view_count": null,
            "_view_module": "@jupyter-widgets/base",
            "_view_module_version": "1.2.0",
            "_view_name": "StyleView",
            "bar_color": null,
            "description_width": ""
          }
        },
        "72af0eef5b88431cb9ffc3a6ff50e843": {
          "model_module": "@jupyter-widgets/base",
          "model_module_version": "1.2.0",
          "model_name": "LayoutModel",
          "state": {
            "_model_module": "@jupyter-widgets/base",
            "_model_module_version": "1.2.0",
            "_model_name": "LayoutModel",
            "_view_count": null,
            "_view_module": "@jupyter-widgets/base",
            "_view_module_version": "1.2.0",
            "_view_name": "LayoutView",
            "align_content": null,
            "align_items": null,
            "align_self": null,
            "border": null,
            "bottom": null,
            "display": null,
            "flex": null,
            "flex_flow": null,
            "grid_area": null,
            "grid_auto_columns": null,
            "grid_auto_flow": null,
            "grid_auto_rows": null,
            "grid_column": null,
            "grid_gap": null,
            "grid_row": null,
            "grid_template_areas": null,
            "grid_template_columns": null,
            "grid_template_rows": null,
            "height": null,
            "justify_content": null,
            "justify_items": null,
            "left": null,
            "margin": null,
            "max_height": null,
            "max_width": null,
            "min_height": null,
            "min_width": null,
            "object_fit": null,
            "object_position": null,
            "order": null,
            "overflow": null,
            "overflow_x": null,
            "overflow_y": null,
            "padding": null,
            "right": null,
            "top": null,
            "visibility": null,
            "width": null
          }
        },
        "75f4ad298e274684897f850beb94c3a4": {
          "model_module": "@jupyter-widgets/base",
          "model_module_version": "1.2.0",
          "model_name": "LayoutModel",
          "state": {
            "_model_module": "@jupyter-widgets/base",
            "_model_module_version": "1.2.0",
            "_model_name": "LayoutModel",
            "_view_count": null,
            "_view_module": "@jupyter-widgets/base",
            "_view_module_version": "1.2.0",
            "_view_name": "LayoutView",
            "align_content": null,
            "align_items": null,
            "align_self": null,
            "border": null,
            "bottom": null,
            "display": null,
            "flex": null,
            "flex_flow": null,
            "grid_area": null,
            "grid_auto_columns": null,
            "grid_auto_flow": null,
            "grid_auto_rows": null,
            "grid_column": null,
            "grid_gap": null,
            "grid_row": null,
            "grid_template_areas": null,
            "grid_template_columns": null,
            "grid_template_rows": null,
            "height": null,
            "justify_content": null,
            "justify_items": null,
            "left": null,
            "margin": null,
            "max_height": null,
            "max_width": null,
            "min_height": null,
            "min_width": null,
            "object_fit": null,
            "object_position": null,
            "order": null,
            "overflow": null,
            "overflow_x": null,
            "overflow_y": null,
            "padding": null,
            "right": null,
            "top": null,
            "visibility": null,
            "width": null
          }
        },
        "90928964dc004c6291f5d42ce10a8ac7": {
          "model_module": "@jupyter-widgets/base",
          "model_module_version": "1.2.0",
          "model_name": "LayoutModel",
          "state": {
            "_model_module": "@jupyter-widgets/base",
            "_model_module_version": "1.2.0",
            "_model_name": "LayoutModel",
            "_view_count": null,
            "_view_module": "@jupyter-widgets/base",
            "_view_module_version": "1.2.0",
            "_view_name": "LayoutView",
            "align_content": null,
            "align_items": null,
            "align_self": null,
            "border": null,
            "bottom": null,
            "display": null,
            "flex": null,
            "flex_flow": null,
            "grid_area": null,
            "grid_auto_columns": null,
            "grid_auto_flow": null,
            "grid_auto_rows": null,
            "grid_column": null,
            "grid_gap": null,
            "grid_row": null,
            "grid_template_areas": null,
            "grid_template_columns": null,
            "grid_template_rows": null,
            "height": null,
            "justify_content": null,
            "justify_items": null,
            "left": null,
            "margin": null,
            "max_height": null,
            "max_width": null,
            "min_height": null,
            "min_width": null,
            "object_fit": null,
            "object_position": null,
            "order": null,
            "overflow": null,
            "overflow_x": null,
            "overflow_y": null,
            "padding": null,
            "right": null,
            "top": null,
            "visibility": null,
            "width": null
          }
        },
        "930a13c0a2774e87afdfd9a4c7530def": {
          "model_module": "@jupyter-widgets/controls",
          "model_module_version": "1.5.0",
          "model_name": "HTMLModel",
          "state": {
            "_dom_classes": [],
            "_model_module": "@jupyter-widgets/controls",
            "_model_module_version": "1.5.0",
            "_model_name": "HTMLModel",
            "_view_count": null,
            "_view_module": "@jupyter-widgets/controls",
            "_view_module_version": "1.5.0",
            "_view_name": "HTMLView",
            "description": "",
            "description_tooltip": null,
            "layout": "IPY_MODEL_c5a70d56157c463f93343ce7089d3043",
            "placeholder": "​",
            "style": "IPY_MODEL_54fe26d586fa417ab9130d15550f3c59",
            "value": "Summarize dataset: 100%"
          }
        },
        "94cfedc34eb243d69c328c633f62f789": {
          "model_module": "@jupyter-widgets/controls",
          "model_module_version": "1.5.0",
          "model_name": "DescriptionStyleModel",
          "state": {
            "_model_module": "@jupyter-widgets/controls",
            "_model_module_version": "1.5.0",
            "_model_name": "DescriptionStyleModel",
            "_view_count": null,
            "_view_module": "@jupyter-widgets/base",
            "_view_module_version": "1.2.0",
            "_view_name": "StyleView",
            "description_width": ""
          }
        },
        "9913d8adb53a443d8002679cf7f27801": {
          "model_module": "@jupyter-widgets/controls",
          "model_module_version": "1.5.0",
          "model_name": "DescriptionStyleModel",
          "state": {
            "_model_module": "@jupyter-widgets/controls",
            "_model_module_version": "1.5.0",
            "_model_name": "DescriptionStyleModel",
            "_view_count": null,
            "_view_module": "@jupyter-widgets/base",
            "_view_module_version": "1.2.0",
            "_view_name": "StyleView",
            "description_width": ""
          }
        },
        "9cca4595c2494a3d96dff2cc02fc91cb": {
          "model_module": "@jupyter-widgets/base",
          "model_module_version": "1.2.0",
          "model_name": "LayoutModel",
          "state": {
            "_model_module": "@jupyter-widgets/base",
            "_model_module_version": "1.2.0",
            "_model_name": "LayoutModel",
            "_view_count": null,
            "_view_module": "@jupyter-widgets/base",
            "_view_module_version": "1.2.0",
            "_view_name": "LayoutView",
            "align_content": null,
            "align_items": null,
            "align_self": null,
            "border": null,
            "bottom": null,
            "display": null,
            "flex": null,
            "flex_flow": null,
            "grid_area": null,
            "grid_auto_columns": null,
            "grid_auto_flow": null,
            "grid_auto_rows": null,
            "grid_column": null,
            "grid_gap": null,
            "grid_row": null,
            "grid_template_areas": null,
            "grid_template_columns": null,
            "grid_template_rows": null,
            "height": null,
            "justify_content": null,
            "justify_items": null,
            "left": null,
            "margin": null,
            "max_height": null,
            "max_width": null,
            "min_height": null,
            "min_width": null,
            "object_fit": null,
            "object_position": null,
            "order": null,
            "overflow": null,
            "overflow_x": null,
            "overflow_y": null,
            "padding": null,
            "right": null,
            "top": null,
            "visibility": null,
            "width": null
          }
        },
        "a5415f6e139c4b6eb442fd4208eaa644": {
          "model_module": "@jupyter-widgets/base",
          "model_module_version": "1.2.0",
          "model_name": "LayoutModel",
          "state": {
            "_model_module": "@jupyter-widgets/base",
            "_model_module_version": "1.2.0",
            "_model_name": "LayoutModel",
            "_view_count": null,
            "_view_module": "@jupyter-widgets/base",
            "_view_module_version": "1.2.0",
            "_view_name": "LayoutView",
            "align_content": null,
            "align_items": null,
            "align_self": null,
            "border": null,
            "bottom": null,
            "display": null,
            "flex": null,
            "flex_flow": null,
            "grid_area": null,
            "grid_auto_columns": null,
            "grid_auto_flow": null,
            "grid_auto_rows": null,
            "grid_column": null,
            "grid_gap": null,
            "grid_row": null,
            "grid_template_areas": null,
            "grid_template_columns": null,
            "grid_template_rows": null,
            "height": null,
            "justify_content": null,
            "justify_items": null,
            "left": null,
            "margin": null,
            "max_height": null,
            "max_width": null,
            "min_height": null,
            "min_width": null,
            "object_fit": null,
            "object_position": null,
            "order": null,
            "overflow": null,
            "overflow_x": null,
            "overflow_y": null,
            "padding": null,
            "right": null,
            "top": null,
            "visibility": null,
            "width": null
          }
        },
        "afd7ac3c8f4342c1acbe71f858868329": {
          "model_module": "@jupyter-widgets/base",
          "model_module_version": "1.2.0",
          "model_name": "LayoutModel",
          "state": {
            "_model_module": "@jupyter-widgets/base",
            "_model_module_version": "1.2.0",
            "_model_name": "LayoutModel",
            "_view_count": null,
            "_view_module": "@jupyter-widgets/base",
            "_view_module_version": "1.2.0",
            "_view_name": "LayoutView",
            "align_content": null,
            "align_items": null,
            "align_self": null,
            "border": null,
            "bottom": null,
            "display": null,
            "flex": null,
            "flex_flow": null,
            "grid_area": null,
            "grid_auto_columns": null,
            "grid_auto_flow": null,
            "grid_auto_rows": null,
            "grid_column": null,
            "grid_gap": null,
            "grid_row": null,
            "grid_template_areas": null,
            "grid_template_columns": null,
            "grid_template_rows": null,
            "height": null,
            "justify_content": null,
            "justify_items": null,
            "left": null,
            "margin": null,
            "max_height": null,
            "max_width": null,
            "min_height": null,
            "min_width": null,
            "object_fit": null,
            "object_position": null,
            "order": null,
            "overflow": null,
            "overflow_x": null,
            "overflow_y": null,
            "padding": null,
            "right": null,
            "top": null,
            "visibility": null,
            "width": null
          }
        },
        "b0a2cac16b194dcf97d5b254dcd21ce7": {
          "model_module": "@jupyter-widgets/controls",
          "model_module_version": "1.5.0",
          "model_name": "HTMLModel",
          "state": {
            "_dom_classes": [],
            "_model_module": "@jupyter-widgets/controls",
            "_model_module_version": "1.5.0",
            "_model_name": "HTMLModel",
            "_view_count": null,
            "_view_module": "@jupyter-widgets/controls",
            "_view_module_version": "1.5.0",
            "_view_name": "HTMLView",
            "description": "",
            "description_tooltip": null,
            "layout": "IPY_MODEL_75f4ad298e274684897f850beb94c3a4",
            "placeholder": "​",
            "style": "IPY_MODEL_9913d8adb53a443d8002679cf7f27801",
            "value": "Generate report structure: 100%"
          }
        },
        "b9271f1f74064709881b270f07693037": {
          "model_module": "@jupyter-widgets/controls",
          "model_module_version": "1.5.0",
          "model_name": "DescriptionStyleModel",
          "state": {
            "_model_module": "@jupyter-widgets/controls",
            "_model_module_version": "1.5.0",
            "_model_name": "DescriptionStyleModel",
            "_view_count": null,
            "_view_module": "@jupyter-widgets/base",
            "_view_module_version": "1.2.0",
            "_view_name": "StyleView",
            "description_width": ""
          }
        },
        "c5a70d56157c463f93343ce7089d3043": {
          "model_module": "@jupyter-widgets/base",
          "model_module_version": "1.2.0",
          "model_name": "LayoutModel",
          "state": {
            "_model_module": "@jupyter-widgets/base",
            "_model_module_version": "1.2.0",
            "_model_name": "LayoutModel",
            "_view_count": null,
            "_view_module": "@jupyter-widgets/base",
            "_view_module_version": "1.2.0",
            "_view_name": "LayoutView",
            "align_content": null,
            "align_items": null,
            "align_self": null,
            "border": null,
            "bottom": null,
            "display": null,
            "flex": null,
            "flex_flow": null,
            "grid_area": null,
            "grid_auto_columns": null,
            "grid_auto_flow": null,
            "grid_auto_rows": null,
            "grid_column": null,
            "grid_gap": null,
            "grid_row": null,
            "grid_template_areas": null,
            "grid_template_columns": null,
            "grid_template_rows": null,
            "height": null,
            "justify_content": null,
            "justify_items": null,
            "left": null,
            "margin": null,
            "max_height": null,
            "max_width": null,
            "min_height": null,
            "min_width": null,
            "object_fit": null,
            "object_position": null,
            "order": null,
            "overflow": null,
            "overflow_x": null,
            "overflow_y": null,
            "padding": null,
            "right": null,
            "top": null,
            "visibility": null,
            "width": null
          }
        },
        "d42de23cb8044b18ba68bc48312f9d9b": {
          "model_module": "@jupyter-widgets/base",
          "model_module_version": "1.2.0",
          "model_name": "LayoutModel",
          "state": {
            "_model_module": "@jupyter-widgets/base",
            "_model_module_version": "1.2.0",
            "_model_name": "LayoutModel",
            "_view_count": null,
            "_view_module": "@jupyter-widgets/base",
            "_view_module_version": "1.2.0",
            "_view_name": "LayoutView",
            "align_content": null,
            "align_items": null,
            "align_self": null,
            "border": null,
            "bottom": null,
            "display": null,
            "flex": null,
            "flex_flow": null,
            "grid_area": null,
            "grid_auto_columns": null,
            "grid_auto_flow": null,
            "grid_auto_rows": null,
            "grid_column": null,
            "grid_gap": null,
            "grid_row": null,
            "grid_template_areas": null,
            "grid_template_columns": null,
            "grid_template_rows": null,
            "height": null,
            "justify_content": null,
            "justify_items": null,
            "left": null,
            "margin": null,
            "max_height": null,
            "max_width": null,
            "min_height": null,
            "min_width": null,
            "object_fit": null,
            "object_position": null,
            "order": null,
            "overflow": null,
            "overflow_x": null,
            "overflow_y": null,
            "padding": null,
            "right": null,
            "top": null,
            "visibility": null,
            "width": null
          }
        },
        "d68f6392f1cf48569c4ebf951fed445b": {
          "model_module": "@jupyter-widgets/controls",
          "model_module_version": "1.5.0",
          "model_name": "ProgressStyleModel",
          "state": {
            "_model_module": "@jupyter-widgets/controls",
            "_model_module_version": "1.5.0",
            "_model_name": "ProgressStyleModel",
            "_view_count": null,
            "_view_module": "@jupyter-widgets/base",
            "_view_module_version": "1.2.0",
            "_view_name": "StyleView",
            "bar_color": null,
            "description_width": ""
          }
        },
        "d7284a6f5b5c458da97447a14f21d403": {
          "model_module": "@jupyter-widgets/controls",
          "model_module_version": "1.5.0",
          "model_name": "FloatProgressModel",
          "state": {
            "_dom_classes": [],
            "_model_module": "@jupyter-widgets/controls",
            "_model_module_version": "1.5.0",
            "_model_name": "FloatProgressModel",
            "_view_count": null,
            "_view_module": "@jupyter-widgets/controls",
            "_view_module_version": "1.5.0",
            "_view_name": "ProgressView",
            "bar_style": "success",
            "description": "",
            "description_tooltip": null,
            "layout": "IPY_MODEL_388996296f374caaaf4998f3f0f65358",
            "max": 1,
            "min": 0,
            "orientation": "horizontal",
            "style": "IPY_MODEL_d68f6392f1cf48569c4ebf951fed445b",
            "value": 1
          }
        },
        "e63eead567c2497d88512d51afc473cf": {
          "model_module": "@jupyter-widgets/controls",
          "model_module_version": "1.5.0",
          "model_name": "DescriptionStyleModel",
          "state": {
            "_model_module": "@jupyter-widgets/controls",
            "_model_module_version": "1.5.0",
            "_model_name": "DescriptionStyleModel",
            "_view_count": null,
            "_view_module": "@jupyter-widgets/base",
            "_view_module_version": "1.2.0",
            "_view_name": "StyleView",
            "description_width": ""
          }
        },
        "ef0fca81a568457d9651f0249136c20e": {
          "model_module": "@jupyter-widgets/base",
          "model_module_version": "1.2.0",
          "model_name": "LayoutModel",
          "state": {
            "_model_module": "@jupyter-widgets/base",
            "_model_module_version": "1.2.0",
            "_model_name": "LayoutModel",
            "_view_count": null,
            "_view_module": "@jupyter-widgets/base",
            "_view_module_version": "1.2.0",
            "_view_name": "LayoutView",
            "align_content": null,
            "align_items": null,
            "align_self": null,
            "border": null,
            "bottom": null,
            "display": null,
            "flex": null,
            "flex_flow": null,
            "grid_area": null,
            "grid_auto_columns": null,
            "grid_auto_flow": null,
            "grid_auto_rows": null,
            "grid_column": null,
            "grid_gap": null,
            "grid_row": null,
            "grid_template_areas": null,
            "grid_template_columns": null,
            "grid_template_rows": null,
            "height": null,
            "justify_content": null,
            "justify_items": null,
            "left": null,
            "margin": null,
            "max_height": null,
            "max_width": null,
            "min_height": null,
            "min_width": null,
            "object_fit": null,
            "object_position": null,
            "order": null,
            "overflow": null,
            "overflow_x": null,
            "overflow_y": null,
            "padding": null,
            "right": null,
            "top": null,
            "visibility": null,
            "width": null
          }
        },
        "f0c5ed8d7dc94592aa540879edcc9b7e": {
          "model_module": "@jupyter-widgets/controls",
          "model_module_version": "1.5.0",
          "model_name": "HBoxModel",
          "state": {
            "_dom_classes": [],
            "_model_module": "@jupyter-widgets/controls",
            "_model_module_version": "1.5.0",
            "_model_name": "HBoxModel",
            "_view_count": null,
            "_view_module": "@jupyter-widgets/controls",
            "_view_module_version": "1.5.0",
            "_view_name": "HBoxView",
            "box_style": "",
            "children": [
              "IPY_MODEL_56e3981bc73741c7b05bf9827854f0a3",
              "IPY_MODEL_d7284a6f5b5c458da97447a14f21d403",
              "IPY_MODEL_596dc05ee2b74a9f8fb42f79b69d97a6"
            ],
            "layout": "IPY_MODEL_4c75b15de4c545718838275991ee69ff"
          }
        },
        "f4b71beab9094f2d91ea3c9596d67fbb": {
          "model_module": "@jupyter-widgets/base",
          "model_module_version": "1.2.0",
          "model_name": "LayoutModel",
          "state": {
            "_model_module": "@jupyter-widgets/base",
            "_model_module_version": "1.2.0",
            "_model_name": "LayoutModel",
            "_view_count": null,
            "_view_module": "@jupyter-widgets/base",
            "_view_module_version": "1.2.0",
            "_view_name": "LayoutView",
            "align_content": null,
            "align_items": null,
            "align_self": null,
            "border": null,
            "bottom": null,
            "display": null,
            "flex": null,
            "flex_flow": null,
            "grid_area": null,
            "grid_auto_columns": null,
            "grid_auto_flow": null,
            "grid_auto_rows": null,
            "grid_column": null,
            "grid_gap": null,
            "grid_row": null,
            "grid_template_areas": null,
            "grid_template_columns": null,
            "grid_template_rows": null,
            "height": null,
            "justify_content": null,
            "justify_items": null,
            "left": null,
            "margin": null,
            "max_height": null,
            "max_width": null,
            "min_height": null,
            "min_width": null,
            "object_fit": null,
            "object_position": null,
            "order": null,
            "overflow": null,
            "overflow_x": null,
            "overflow_y": null,
            "padding": null,
            "right": null,
            "top": null,
            "visibility": null,
            "width": null
          }
        },
        "fbfdbdd885d145bba6a10f806aa3701a": {
          "model_module": "@jupyter-widgets/controls",
          "model_module_version": "1.5.0",
          "model_name": "FloatProgressModel",
          "state": {
            "_dom_classes": [],
            "_model_module": "@jupyter-widgets/controls",
            "_model_module_version": "1.5.0",
            "_model_name": "FloatProgressModel",
            "_view_count": null,
            "_view_module": "@jupyter-widgets/controls",
            "_view_module_version": "1.5.0",
            "_view_name": "ProgressView",
            "bar_style": "success",
            "description": "",
            "description_tooltip": null,
            "layout": "IPY_MODEL_72af0eef5b88431cb9ffc3a6ff50e843",
            "max": 5,
            "min": 0,
            "orientation": "horizontal",
            "style": "IPY_MODEL_510cf4a86a7a424f8688e67664a53a44",
            "value": 5
          }
        }
      }
    }
  },
  "nbformat": 4,
  "nbformat_minor": 0
}
