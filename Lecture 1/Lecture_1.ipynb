{
  "cells": [
    {
      "cell_type": "markdown",
      "metadata": {
        "id": "r2Mzm-ho47uS"
      },
      "source": [
        "# 1. Basic Python Concepts\n",
        "\n",
        "## 1.1 Printing and Variables"
      ]
    },
    {
      "cell_type": "code",
      "execution_count": 1,
      "metadata": {
        "colab": {
          "base_uri": "https://localhost:8080/"
        },
        "id": "AUFTGBIR47uV",
        "outputId": "a673a7eb-8439-4bea-e727-47b2c23b5625"
      },
      "outputs": [
        {
          "name": "stdout",
          "output_type": "stream",
          "text": [
            "Welcome to Applied Healthcare Analytics!\n"
          ]
        }
      ],
      "source": [
        "# Printing text\n",
        "print(\"Welcome to Applied Healthcare Analytics!\")"
      ]
    },
    {
      "cell_type": "code",
      "execution_count": 2,
      "metadata": {
        "colab": {
          "base_uri": "https://localhost:8080/"
        },
        "id": "ZpnxiZso47uW",
        "outputId": "6657a13a-ca6a-42f4-c4bc-b2efa40b8839"
      },
      "outputs": [
        {
          "name": "stdout",
          "output_type": "stream",
          "text": [
            "Addition: 30.5, Multiplication: 205.0\n"
          ]
        }
      ],
      "source": [
        "# Variables and Data Types\n",
        "integer_var = 10\n",
        "float_var = 20.5\n",
        "string_var = \"Hello, Python\"\n",
        "boolean_var = True\n",
        "\n",
        "# Basic Arithmetic Operations\n",
        "addition = integer_var + float_var\n",
        "multiplication = integer_var * float_var\n",
        "\n",
        "print(f\"Addition: {addition}, Multiplication: {multiplication}\")"
      ]
    },
    {
      "cell_type": "markdown",
      "metadata": {
        "id": "qmuOpQ3P47uX"
      },
      "source": [
        "## 1.2 Lists, Tuples, and Dictionaries"
      ]
    },
    {
      "cell_type": "code",
      "execution_count": 3,
      "metadata": {
        "colab": {
          "base_uri": "https://localhost:8080/"
        },
        "id": "IqujgyP247uX",
        "outputId": "b3859f9a-4cc9-44f0-a535-9ad0a20b3ca9"
      },
      "outputs": [
        {
          "name": "stdout",
          "output_type": "stream",
          "text": [
            "['Cardiology', 'Neurology', 'Orthopedics']\n",
            "['Cardiology', 'Neurology', 'Orthopedics', 'Pediatrics']\n"
          ]
        }
      ],
      "source": [
        "# Lists: mutable, ordered collection of items in Python.\n",
        "healthcare_services = [\"Cardiology\", \"Neurology\", \"Orthopedics\"]\n",
        "print(healthcare_services)\n",
        "\n",
        "# Appending to lists\n",
        "healthcare_services.append(\"Pediatrics\")\n",
        "print(healthcare_services)"
      ]
    },
    {
      "cell_type": "code",
      "execution_count": 4,
      "metadata": {
        "colab": {
          "base_uri": "https://localhost:8080/"
        },
        "id": "pRwweIea47uX",
        "outputId": "5681cbd7-56a6-4409-e54c-af2153f07e4a"
      },
      "outputs": [
        {
          "name": "stdout",
          "output_type": "stream",
          "text": [
            "('John Doe', 29, 'Male')\n"
          ]
        }
      ],
      "source": [
        "# Tuples: A tuple is an immutable sequence type in Python. Once created, the elements within a tuple cannot be changed, added, or removed.\n",
        "# Tuples are useful for storing related pieces of information that should not be modified.\n",
        "patient_info = (\"John Doe\", 29, \"Male\")\n",
        "print(patient_info)"
      ]
    },
    {
      "cell_type": "code",
      "execution_count": 5,
      "metadata": {
        "colab": {
          "base_uri": "https://localhost:8080/"
        },
        "id": "ee0-tm1847uY",
        "outputId": "5023ad8e-c6b8-4a5a-e06b-f457b34583f2"
      },
      "outputs": [
        {
          "name": "stdout",
          "output_type": "stream",
          "text": [
            "29\n",
            "John Doe       29\n",
            "Jane Smith     35\n",
            "Emily Davis    45\n",
            "dtype: int64\n",
            "John Doe: 29\n",
            "Jane Smith: 35\n",
            "Emily Davis: 45\n",
            "Michael Brown: 50\n"
          ]
        }
      ],
      "source": [
        "# Series: one-dimensional array-like object provided by Pandas.\n",
        "# can hold any data type\n",
        "# Has an associated array of data labels (index).\n",
        "import pandas as pd\n",
        "\n",
        "# Creating a Series\n",
        "patient_ages = pd.Series([29, 34, 45], index=[\"John Doe\", \"Jane Smith\", \"Emily Davis\"])\n",
        "# Accessing elements in a Series\n",
        "print(patient_ages[\"John Doe\"])  # Output: 29\n",
        "\n",
        "# Modifying elements in a Series\n",
        "patient_ages[\"Jane Smith\"] = 35\n",
        "print(patient_ages)\n",
        "\n",
        "# Adding elements to a Series\n",
        "patient_ages[\"Michael Brown\"] = 50\n",
        "\n",
        "# Iterating over a Series\n",
        "for name, age in patient_ages.items():\n",
        "    print(f\"{name}: {age}\")"
      ]
    },
    {
      "cell_type": "code",
      "execution_count": 6,
      "metadata": {
        "colab": {
          "base_uri": "https://localhost:8080/"
        },
        "id": "Nbgbm9-s47uY",
        "outputId": "87a71883-d6f4-423e-e11b-4fca0f9e574d"
      },
      "outputs": [
        {
          "name": "stdout",
          "output_type": "stream",
          "text": [
            "Series of Tuples:\n",
            "Patient 1         (John Doe, 29, Male)\n",
            "Patient 2     (Jane Smith, 34, Female)\n",
            "Patient 3    (Emily Davis, 45, Female)\n",
            "dtype: object\n",
            "\n",
            "Accessing elements in the Series of tuples:\n",
            "('John Doe', 29, 'Male')\n",
            "34\n",
            "\n",
            "Iterating over the Series of tuples:\n",
            "Patient 1: Name: John Doe, Age: 29, Gender: Male\n",
            "Patient 2: Name: Jane Smith, Age: 34, Gender: Female\n",
            "Patient 3: Name: Emily Davis, Age: 45, Gender: Female\n"
          ]
        }
      ],
      "source": [
        "# A Series in Pandas can hold any data type, including tuples.\n",
        "# Creating a Series of tuples\n",
        "patient_data = pd.Series([\n",
        "    (\"John Doe\", 29, \"Male\"),\n",
        "    (\"Jane Smith\", 34, \"Female\"),\n",
        "    (\"Emily Davis\", 45, \"Female\")\n",
        "], index=[\"Patient 1\", \"Patient 2\", \"Patient 3\"])\n",
        "\n",
        "# Display the Series\n",
        "print(\"Series of Tuples:\")\n",
        "print(patient_data)\n",
        "\n",
        "# Accessing elements in the Series of tuples\n",
        "print(\"\\nAccessing elements in the Series of tuples:\")\n",
        "print(patient_data[\"Patient 1\"])  # Output: ('John Doe', 29, 'Male')\n",
        "print(patient_data[\"Patient 2\"][1])  # Output: 34  (age of Jane Smith)\n",
        "\n",
        "# Iterating over the Series of tuples\n",
        "print(\"\\nIterating over the Series of tuples:\")\n",
        "for index, patient in patient_data.items():\n",
        "    print(f\"{index}: Name: {patient[0]}, Age: {patient[1]}, Gender: {patient[2]}\")"
      ]
    },
    {
      "cell_type": "code",
      "execution_count": 7,
      "metadata": {
        "colab": {
          "base_uri": "https://localhost:8080/"
        },
        "id": "KgXnKB8P47uZ",
        "outputId": "5c946d51-9c85-4719-a6e0-9dcfd378da62"
      },
      "outputs": [
        {
          "name": "stdout",
          "output_type": "stream",
          "text": [
            "('John Doe', 29, 'Male')\n",
            "Jane Smith\n",
            "Female\n"
          ]
        }
      ],
      "source": [
        "# List of tuples is a list where each element is a tuple. List is for more general usage in Python. Does not require Pandas.\n",
        "# This structure is useful for storing a collection of records, where each record is a tuple of related information.\n",
        "patients = [\n",
        "    (\"John Doe\", 29, \"Male\"),\n",
        "    (\"Jane Smith\", 34, \"Female\"),\n",
        "    (\"Emily Davis\", 45, \"Female\")\n",
        "]\n",
        "# Accessing elements in the list of tuples\n",
        "print(patients[0])       # Output: ('John Doe', 29, 'Male')\n",
        "print(patients[1][0])    # Output: Jane Smith\n",
        "print(patients[2][2])    # Output: Female"
      ]
    },
    {
      "cell_type": "code",
      "execution_count": 8,
      "metadata": {
        "colab": {
          "base_uri": "https://localhost:8080/"
        },
        "id": "L2E2iweV47uZ",
        "outputId": "bb27b945-4ff2-4e67-9878-589bc17eb75a"
      },
      "outputs": [
        {
          "name": "stdout",
          "output_type": "stream",
          "text": [
            "John Doe\n",
            "['Hypertension', 'Diabetes']\n"
          ]
        }
      ],
      "source": [
        "# Dictionaries with key-value pairs\n",
        "patient_record = {\n",
        "    \"Name\": \"John Doe\",\n",
        "    \"Age\": 29,\n",
        "    \"Gender\": \"Male\",\n",
        "    \"Conditions\": [\"Hypertension\", \"Diabetes\"]\n",
        "}\n",
        "# Accessing the dictionary\n",
        "print(patient_record[\"Name\"])\n",
        "\n",
        "print(patient_record[\"Conditions\"])"
      ]
    },
    {
      "cell_type": "code",
      "execution_count": 9,
      "metadata": {
        "id": "NNISzGE047uZ"
      },
      "outputs": [],
      "source": [
        "# List of Dictionaries with multiple patient records\n",
        "# Each dictionary represents a patient record with keys such as \"Name\", \"Age\", \"Gender\", and \"Conditions\".\n",
        "# The patient_records list contains these dictionaries.\n",
        "patient_records = [\n",
        "    {\n",
        "        \"Name\": \"John Doe\",\n",
        "        \"Age\": 29,\n",
        "        \"Gender\": \"Male\",\n",
        "        \"Conditions\": [\"Hypertension\", \"Diabetes\"]\n",
        "    },\n",
        "    {\n",
        "        \"Name\": \"Jane Smith\",\n",
        "        \"Age\": 34,\n",
        "        \"Gender\": \"Female\",\n",
        "        \"Conditions\": [\"Asthma\"]\n",
        "    },\n",
        "    {\n",
        "        \"Name\": \"Emily Davis\",\n",
        "        \"Age\": 45,\n",
        "        \"Gender\": \"Female\",\n",
        "        \"Conditions\": [\"Chronic Kidney Disease\", \"Hypertension\"]\n",
        "    }\n",
        "]"
      ]
    },
    {
      "cell_type": "code",
      "execution_count": 10,
      "metadata": {
        "colab": {
          "base_uri": "https://localhost:8080/"
        },
        "id": "xqOFD1ky47ua",
        "outputId": "50c7d17d-2eba-402e-f68f-e4b6a5deb200"
      },
      "outputs": [
        {
          "name": "stdout",
          "output_type": "stream",
          "text": [
            "Name: John Doe\n",
            "Age: 29\n",
            "Gender: Male\n",
            "Conditions: Hypertension, Diabetes\n",
            "\n",
            "Name: Jane Smith\n",
            "Age: 34\n",
            "Gender: Female\n",
            "Conditions: Asthma\n",
            "\n",
            "Name: Emily Davis\n",
            "Age: 45\n",
            "Gender: Female\n",
            "Conditions: Chronic Kidney Disease, Hypertension\n",
            "\n"
          ]
        }
      ],
      "source": [
        "# Accessing and printing patient records\n",
        "for record in patient_records:\n",
        "    print(f\"Name: {record['Name']}\")\n",
        "    print(f\"Age: {record['Age']}\")\n",
        "    print(f\"Gender: {record['Gender']}\")\n",
        "    print(f\"Conditions: {', '.join(record['Conditions'])}\")\n",
        "    print()  # Add a blank line between records for better readability"
      ]
    },
    {
      "cell_type": "code",
      "execution_count": 11,
      "metadata": {
        "colab": {
          "base_uri": "https://localhost:8080/"
        },
        "id": "2upHwnqJ47ua",
        "outputId": "cddcb83e-8659-4154-e8d6-cb1595c52b96"
      },
      "outputs": [
        {
          "name": "stdout",
          "output_type": "stream",
          "text": [
            "['John Doe', 'Jane Smith', 'Emily Davis']\n",
            "[29, 34, 45]\n",
            "[('John Doe', 29), ('Jane Smith', 34), ('Emily Davis', 45)]\n",
            "['Jane Smith', 'Emily Davis']\n"
          ]
        }
      ],
      "source": [
        "# List comprehension: List comprehensions in Python provide a concise way to create lists.\n",
        "# basic structure of a list comprehension is: [expression for item in iterable if condition]\n",
        "\n",
        "# To create a list of names from the patient_records:\n",
        "names = [patient[\"Name\"] for patient in patient_records]\n",
        "print(names)\n",
        "\n",
        "# To create a list of ages from the patient_records:\n",
        "ages = [patient[\"Age\"] for patient in patient_records]\n",
        "print(ages)\n",
        "\n",
        "# To create a list of tuples where each tuple contains the name and age of a patient:\n",
        "name_age_tuples = [(patient[\"Name\"], patient[\"Age\"]) for patient in patient_records]\n",
        "print(name_age_tuples)\n",
        "\n",
        "# To create a list of names of female patients (with 'Gender' == 'Female'):\n",
        "female_names = [patient[\"Name\"] for patient in patient_records if patient[\"Gender\"] == \"Female\"]\n",
        "print(female_names)\n",
        "\n"
      ]
    },
    {
      "cell_type": "markdown",
      "metadata": {
        "id": "0r0R_Qyl47ua"
      },
      "source": [
        "# 1.3 Logical Flows - Conditionals and Loops"
      ]
    },
    {
      "cell_type": "code",
      "execution_count": 12,
      "metadata": {
        "colab": {
          "base_uri": "https://localhost:8080/"
        },
        "id": "0oSawOh047ua",
        "outputId": "367d42c1-04bc-4444-b71c-d81e1df3f0bc"
      },
      "outputs": [
        {
          "name": "stdout",
          "output_type": "stream",
          "text": [
            "Adult Patient\n"
          ]
        }
      ],
      "source": [
        "# Conditionals\n",
        "age = 29\n",
        "if age < 18:\n",
        "    print(\"Pediatric Patient\")\n",
        "elif 18 <= age < 65:\n",
        "    print(\"Adult Patient\")\n",
        "else:\n",
        "    print(\"Senior Patient\")"
      ]
    },
    {
      "cell_type": "code",
      "execution_count": 13,
      "metadata": {
        "colab": {
          "base_uri": "https://localhost:8080/"
        },
        "id": "Zk9bTpjJ47ua",
        "outputId": "b550c243-94d3-4b9b-bcf5-cb1f8e03f927"
      },
      "outputs": [
        {
          "name": "stdout",
          "output_type": "stream",
          "text": [
            "Cardiology\n",
            "Neurology\n",
            "Orthopedics\n",
            "Pediatrics\n",
            "0\n",
            "1\n",
            "2\n",
            "3\n",
            "4\n"
          ]
        }
      ],
      "source": [
        "# Loops -  for and while\n",
        "for service in healthcare_services:\n",
        "    print(service)\n",
        "\n",
        "count = 0\n",
        "while count < 5:\n",
        "    print(count)\n",
        "    count += 1"
      ]
    },
    {
      "cell_type": "markdown",
      "metadata": {
        "id": "Inv_Rc4A47ub"
      },
      "source": [
        "# 1.4 Define and Calling Functions"
      ]
    },
    {
      "cell_type": "code",
      "execution_count": 14,
      "metadata": {
        "colab": {
          "base_uri": "https://localhost:8080/"
        },
        "id": "cKCcBlj047ub",
        "outputId": "66030043-45e7-4c5a-e70f-812f8bbe39b5"
      },
      "outputs": [
        {
          "name": "stdout",
          "output_type": "stream",
          "text": [
            "Patient BMI: 22.86\n"
          ]
        }
      ],
      "source": [
        "def calculate_bmi(weight, height):\n",
        "    bmi = weight / (height ** 2)\n",
        "    return bmi\n",
        "\n",
        "patient_bmi = calculate_bmi(70, 1.75)\n",
        "print(f\"Patient BMI: {patient_bmi:.2f}\")"
      ]
    },
    {
      "cell_type": "markdown",
      "metadata": {
        "id": "-oEwxftP47ub"
      },
      "source": [
        "# 2. Packages and Reading/Writing Files"
      ]
    },
    {
      "cell_type": "markdown",
      "metadata": {
        "id": "iEYgk2xb47ub"
      },
      "source": [
        "## 2.1 Read/Write CSV files"
      ]
    },
    {
      "cell_type": "code",
      "execution_count": 15,
      "metadata": {
        "colab": {
          "base_uri": "https://localhost:8080/"
        },
        "id": "AK9PZzCU47ub",
        "outputId": "3e3e2e42-43ab-4b39-a733-a188ebd425e5"
      },
      "outputs": [
        {
          "name": "stdout",
          "output_type": "stream",
          "text": [
            "Defaulting to user installation because normal site-packages is not writeable\n",
            "Requirement already satisfied: numpy in c:\\programdata\\anaconda3\\lib\\site-packages (1.26.4)\n",
            "Requirement already satisfied: pandas in c:\\programdata\\anaconda3\\lib\\site-packages (2.2.2)\n",
            "Requirement already satisfied: python-dateutil>=2.8.2 in c:\\programdata\\anaconda3\\lib\\site-packages (from pandas) (2.9.0.post0)\n",
            "Requirement already satisfied: pytz>=2020.1 in c:\\programdata\\anaconda3\\lib\\site-packages (from pandas) (2024.1)\n",
            "Requirement already satisfied: tzdata>=2022.7 in c:\\programdata\\anaconda3\\lib\\site-packages (from pandas) (2023.3)\n",
            "Requirement already satisfied: six>=1.5 in c:\\programdata\\anaconda3\\lib\\site-packages (from python-dateutil>=2.8.2->pandas) (1.16.0)\n"
          ]
        }
      ],
      "source": [
        "# Installing Packages\n",
        "!pip install numpy pandas"
      ]
    },
    {
      "cell_type": "code",
      "execution_count": 16,
      "metadata": {
        "id": "T5vSfVzA47ub"
      },
      "outputs": [],
      "source": [
        "# Importing libraries\n",
        "import numpy as np\n",
        "import pandas as pd"
      ]
    },
    {
      "cell_type": "code",
      "execution_count": 17,
      "metadata": {
        "colab": {
          "base_uri": "https://localhost:8080/",
          "height": 235
        },
        "id": "KdnY4r7447ub",
        "outputId": "e2b917fa-14a9-40f1-8708-2b6f8b65e057"
      },
      "outputs": [
        {
          "data": {
            "application/vnd.microsoft.datawrangler.viewer.v0+json": {
              "columns": [
                {
                  "name": "index",
                  "rawType": "int64",
                  "type": "integer"
                },
                {
                  "name": "age",
                  "rawType": "object",
                  "type": "string"
                },
                {
                  "name": "bp",
                  "rawType": "object",
                  "type": "string"
                },
                {
                  "name": "sg",
                  "rawType": "object",
                  "type": "string"
                },
                {
                  "name": "al",
                  "rawType": "object",
                  "type": "string"
                },
                {
                  "name": "su",
                  "rawType": "object",
                  "type": "string"
                },
                {
                  "name": "rbc",
                  "rawType": "object",
                  "type": "string"
                },
                {
                  "name": "pc",
                  "rawType": "object",
                  "type": "string"
                },
                {
                  "name": "pcc",
                  "rawType": "object",
                  "type": "string"
                },
                {
                  "name": "ba",
                  "rawType": "object",
                  "type": "string"
                },
                {
                  "name": "bgr",
                  "rawType": "object",
                  "type": "string"
                },
                {
                  "name": "bu",
                  "rawType": "object",
                  "type": "string"
                },
                {
                  "name": "sc",
                  "rawType": "object",
                  "type": "string"
                },
                {
                  "name": "sod",
                  "rawType": "object",
                  "type": "string"
                },
                {
                  "name": "pot",
                  "rawType": "object",
                  "type": "string"
                },
                {
                  "name": "hemo",
                  "rawType": "object",
                  "type": "string"
                },
                {
                  "name": "pcv",
                  "rawType": "object",
                  "type": "string"
                },
                {
                  "name": "wbcc",
                  "rawType": "object",
                  "type": "string"
                },
                {
                  "name": "rbcc",
                  "rawType": "object",
                  "type": "string"
                },
                {
                  "name": "htn",
                  "rawType": "object",
                  "type": "string"
                },
                {
                  "name": "dm",
                  "rawType": "object",
                  "type": "string"
                },
                {
                  "name": "cad",
                  "rawType": "object",
                  "type": "string"
                },
                {
                  "name": "appet",
                  "rawType": "object",
                  "type": "string"
                },
                {
                  "name": "pe",
                  "rawType": "object",
                  "type": "string"
                },
                {
                  "name": "ane",
                  "rawType": "object",
                  "type": "string"
                },
                {
                  "name": "class",
                  "rawType": "object",
                  "type": "string"
                }
              ],
              "ref": "f48f1673-bc19-424f-b3d3-16cb4aea0b27",
              "rows": [
                [
                  "0",
                  "48",
                  "80",
                  "1.02",
                  "1",
                  "0",
                  "?",
                  "normal",
                  "notpresent",
                  "notpresent",
                  "121",
                  "36",
                  "1.2",
                  "?",
                  "?",
                  "15.4",
                  "44",
                  "7800",
                  "5.2",
                  "yes",
                  "yes",
                  "no",
                  "good",
                  "no",
                  "no",
                  "ckd"
                ],
                [
                  "1",
                  "7",
                  "50",
                  "1.02",
                  "4",
                  "0",
                  "?",
                  "normal",
                  "notpresent",
                  "notpresent",
                  "?",
                  "18",
                  "0.8",
                  "?",
                  "?",
                  "11.3",
                  "38",
                  "6000",
                  "?",
                  "no",
                  "no",
                  "no",
                  "good",
                  "no",
                  "no",
                  "ckd"
                ],
                [
                  "2",
                  "62",
                  "80",
                  "1.01",
                  "2",
                  "3",
                  "normal",
                  "normal",
                  "notpresent",
                  "notpresent",
                  "423",
                  "53",
                  "1.8",
                  "?",
                  "?",
                  "9.6",
                  "31",
                  "7500",
                  "?",
                  "no",
                  "yes",
                  "no",
                  "poor",
                  "no",
                  "yes",
                  "ckd"
                ],
                [
                  "3",
                  "48",
                  "70",
                  "1.005",
                  "4",
                  "0",
                  "normal",
                  "abnormal",
                  "present",
                  "notpresent",
                  "117",
                  "56",
                  "3.8",
                  "111",
                  "2.5",
                  "11.2",
                  "32",
                  "6700",
                  "3.9",
                  "yes",
                  "no",
                  "no",
                  "poor",
                  "yes",
                  "yes",
                  "ckd"
                ],
                [
                  "4",
                  "51",
                  "80",
                  "1.01",
                  "2",
                  "0",
                  "normal",
                  "normal",
                  "notpresent",
                  "notpresent",
                  "106",
                  "26",
                  "1.4",
                  "?",
                  "?",
                  "11.6",
                  "35",
                  "7300",
                  "4.6",
                  "no",
                  "no",
                  "no",
                  "good",
                  "no",
                  "no",
                  "ckd"
                ]
              ],
              "shape": {
                "columns": 25,
                "rows": 5
              }
            },
            "text/html": [
              "<div>\n",
              "<style scoped>\n",
              "    .dataframe tbody tr th:only-of-type {\n",
              "        vertical-align: middle;\n",
              "    }\n",
              "\n",
              "    .dataframe tbody tr th {\n",
              "        vertical-align: top;\n",
              "    }\n",
              "\n",
              "    .dataframe thead th {\n",
              "        text-align: right;\n",
              "    }\n",
              "</style>\n",
              "<table border=\"1\" class=\"dataframe\">\n",
              "  <thead>\n",
              "    <tr style=\"text-align: right;\">\n",
              "      <th></th>\n",
              "      <th>age</th>\n",
              "      <th>bp</th>\n",
              "      <th>sg</th>\n",
              "      <th>al</th>\n",
              "      <th>su</th>\n",
              "      <th>rbc</th>\n",
              "      <th>pc</th>\n",
              "      <th>pcc</th>\n",
              "      <th>ba</th>\n",
              "      <th>bgr</th>\n",
              "      <th>...</th>\n",
              "      <th>pcv</th>\n",
              "      <th>wbcc</th>\n",
              "      <th>rbcc</th>\n",
              "      <th>htn</th>\n",
              "      <th>dm</th>\n",
              "      <th>cad</th>\n",
              "      <th>appet</th>\n",
              "      <th>pe</th>\n",
              "      <th>ane</th>\n",
              "      <th>class</th>\n",
              "    </tr>\n",
              "  </thead>\n",
              "  <tbody>\n",
              "    <tr>\n",
              "      <th>0</th>\n",
              "      <td>48</td>\n",
              "      <td>80</td>\n",
              "      <td>1.02</td>\n",
              "      <td>1</td>\n",
              "      <td>0</td>\n",
              "      <td>?</td>\n",
              "      <td>normal</td>\n",
              "      <td>notpresent</td>\n",
              "      <td>notpresent</td>\n",
              "      <td>121</td>\n",
              "      <td>...</td>\n",
              "      <td>44</td>\n",
              "      <td>7800</td>\n",
              "      <td>5.2</td>\n",
              "      <td>yes</td>\n",
              "      <td>yes</td>\n",
              "      <td>no</td>\n",
              "      <td>good</td>\n",
              "      <td>no</td>\n",
              "      <td>no</td>\n",
              "      <td>ckd</td>\n",
              "    </tr>\n",
              "    <tr>\n",
              "      <th>1</th>\n",
              "      <td>7</td>\n",
              "      <td>50</td>\n",
              "      <td>1.02</td>\n",
              "      <td>4</td>\n",
              "      <td>0</td>\n",
              "      <td>?</td>\n",
              "      <td>normal</td>\n",
              "      <td>notpresent</td>\n",
              "      <td>notpresent</td>\n",
              "      <td>?</td>\n",
              "      <td>...</td>\n",
              "      <td>38</td>\n",
              "      <td>6000</td>\n",
              "      <td>?</td>\n",
              "      <td>no</td>\n",
              "      <td>no</td>\n",
              "      <td>no</td>\n",
              "      <td>good</td>\n",
              "      <td>no</td>\n",
              "      <td>no</td>\n",
              "      <td>ckd</td>\n",
              "    </tr>\n",
              "    <tr>\n",
              "      <th>2</th>\n",
              "      <td>62</td>\n",
              "      <td>80</td>\n",
              "      <td>1.01</td>\n",
              "      <td>2</td>\n",
              "      <td>3</td>\n",
              "      <td>normal</td>\n",
              "      <td>normal</td>\n",
              "      <td>notpresent</td>\n",
              "      <td>notpresent</td>\n",
              "      <td>423</td>\n",
              "      <td>...</td>\n",
              "      <td>31</td>\n",
              "      <td>7500</td>\n",
              "      <td>?</td>\n",
              "      <td>no</td>\n",
              "      <td>yes</td>\n",
              "      <td>no</td>\n",
              "      <td>poor</td>\n",
              "      <td>no</td>\n",
              "      <td>yes</td>\n",
              "      <td>ckd</td>\n",
              "    </tr>\n",
              "    <tr>\n",
              "      <th>3</th>\n",
              "      <td>48</td>\n",
              "      <td>70</td>\n",
              "      <td>1.005</td>\n",
              "      <td>4</td>\n",
              "      <td>0</td>\n",
              "      <td>normal</td>\n",
              "      <td>abnormal</td>\n",
              "      <td>present</td>\n",
              "      <td>notpresent</td>\n",
              "      <td>117</td>\n",
              "      <td>...</td>\n",
              "      <td>32</td>\n",
              "      <td>6700</td>\n",
              "      <td>3.9</td>\n",
              "      <td>yes</td>\n",
              "      <td>no</td>\n",
              "      <td>no</td>\n",
              "      <td>poor</td>\n",
              "      <td>yes</td>\n",
              "      <td>yes</td>\n",
              "      <td>ckd</td>\n",
              "    </tr>\n",
              "    <tr>\n",
              "      <th>4</th>\n",
              "      <td>51</td>\n",
              "      <td>80</td>\n",
              "      <td>1.01</td>\n",
              "      <td>2</td>\n",
              "      <td>0</td>\n",
              "      <td>normal</td>\n",
              "      <td>normal</td>\n",
              "      <td>notpresent</td>\n",
              "      <td>notpresent</td>\n",
              "      <td>106</td>\n",
              "      <td>...</td>\n",
              "      <td>35</td>\n",
              "      <td>7300</td>\n",
              "      <td>4.6</td>\n",
              "      <td>no</td>\n",
              "      <td>no</td>\n",
              "      <td>no</td>\n",
              "      <td>good</td>\n",
              "      <td>no</td>\n",
              "      <td>no</td>\n",
              "      <td>ckd</td>\n",
              "    </tr>\n",
              "  </tbody>\n",
              "</table>\n",
              "<p>5 rows × 25 columns</p>\n",
              "</div>"
            ],
            "text/plain": [
              "  age  bp     sg al su     rbc        pc         pcc          ba  bgr  ...  \\\n",
              "0  48  80   1.02  1  0       ?    normal  notpresent  notpresent  121  ...   \n",
              "1   7  50   1.02  4  0       ?    normal  notpresent  notpresent    ?  ...   \n",
              "2  62  80   1.01  2  3  normal    normal  notpresent  notpresent  423  ...   \n",
              "3  48  70  1.005  4  0  normal  abnormal     present  notpresent  117  ...   \n",
              "4  51  80   1.01  2  0  normal    normal  notpresent  notpresent  106  ...   \n",
              "\n",
              "  pcv  wbcc rbcc  htn   dm cad appet   pe  ane class  \n",
              "0  44  7800  5.2  yes  yes  no  good   no   no   ckd  \n",
              "1  38  6000    ?   no   no  no  good   no   no   ckd  \n",
              "2  31  7500    ?   no  yes  no  poor   no  yes   ckd  \n",
              "3  32  6700  3.9  yes   no  no  poor  yes  yes   ckd  \n",
              "4  35  7300  4.6   no   no  no  good   no   no   ckd  \n",
              "\n",
              "[5 rows x 25 columns]"
            ]
          },
          "execution_count": 17,
          "metadata": {},
          "output_type": "execute_result"
        }
      ],
      "source": [
        "# Reading data from a CSV file\n",
        "url = 'https://raw.githubusercontent.com/ISSS623-AHA/ISSS623_2024/main/Lecture%202/chronic_kidney_disease_full_unclean.csv'\n",
        "ckd_data = pd.read_csv(url)\n",
        "\n",
        "# Basic data exploration\n",
        "ckd_data.head()\n"
      ]
    },
    {
      "cell_type": "code",
      "execution_count": 18,
      "metadata": {
        "colab": {
          "base_uri": "https://localhost:8080/"
        },
        "id": "5DigPSJY47ub",
        "outputId": "2a28d4f8-3996-4759-cd66-e32c5a81b2ca"
      },
      "outputs": [
        {
          "name": "stdout",
          "output_type": "stream",
          "text": [
            "<class 'pandas.core.frame.DataFrame'>\n",
            "RangeIndex: 408 entries, 0 to 407\n",
            "Data columns (total 25 columns):\n",
            " #   Column  Non-Null Count  Dtype \n",
            "---  ------  --------------  ----- \n",
            " 0   age     408 non-null    object\n",
            " 1   bp      408 non-null    object\n",
            " 2   sg      408 non-null    object\n",
            " 3   al      408 non-null    object\n",
            " 4   su      408 non-null    object\n",
            " 5   rbc     408 non-null    object\n",
            " 6   pc      408 non-null    object\n",
            " 7   pcc     408 non-null    object\n",
            " 8   ba      408 non-null    object\n",
            " 9   bgr     408 non-null    object\n",
            " 10  bu      408 non-null    object\n",
            " 11  sc      408 non-null    object\n",
            " 12  sod     408 non-null    object\n",
            " 13  pot     408 non-null    object\n",
            " 14  hemo    408 non-null    object\n",
            " 15  pcv     408 non-null    object\n",
            " 16  wbcc    408 non-null    object\n",
            " 17  rbcc    408 non-null    object\n",
            " 18  htn     408 non-null    object\n",
            " 19  dm      408 non-null    object\n",
            " 20  cad     408 non-null    object\n",
            " 21  appet   408 non-null    object\n",
            " 22  pe      408 non-null    object\n",
            " 23  ane     408 non-null    object\n",
            " 24  class   408 non-null    object\n",
            "dtypes: object(25)\n",
            "memory usage: 79.8+ KB\n"
          ]
        }
      ],
      "source": [
        "# provides a concise summary of the DataFrame, including the number of entries and the number of columns.\n",
        "ckd_data.info()\n"
      ]
    },
    {
      "cell_type": "markdown",
      "metadata": {
        "id": "zgewlfDY47ub"
      },
      "source": [
        "All the fields seems to be \"object\" type. 'age' should be numeric. We need to better understand the values in these datasets"
      ]
    },
    {
      "cell_type": "code",
      "execution_count": 19,
      "metadata": {
        "colab": {
          "base_uri": "https://localhost:8080/",
          "height": 204
        },
        "id": "5f-3ieMx47ub",
        "outputId": "ec47c899-e77c-45a4-8c3a-6f0dc5e4e5a1"
      },
      "outputs": [
        {
          "data": {
            "application/vnd.microsoft.datawrangler.viewer.v0+json": {
              "columns": [
                {
                  "name": "index",
                  "rawType": "object",
                  "type": "string"
                },
                {
                  "name": "age",
                  "rawType": "object",
                  "type": "unknown"
                },
                {
                  "name": "bp",
                  "rawType": "object",
                  "type": "unknown"
                },
                {
                  "name": "sg",
                  "rawType": "object",
                  "type": "unknown"
                },
                {
                  "name": "al",
                  "rawType": "object",
                  "type": "unknown"
                },
                {
                  "name": "su",
                  "rawType": "object",
                  "type": "unknown"
                },
                {
                  "name": "rbc",
                  "rawType": "object",
                  "type": "unknown"
                },
                {
                  "name": "pc",
                  "rawType": "object",
                  "type": "unknown"
                },
                {
                  "name": "pcc",
                  "rawType": "object",
                  "type": "unknown"
                },
                {
                  "name": "ba",
                  "rawType": "object",
                  "type": "unknown"
                },
                {
                  "name": "bgr",
                  "rawType": "object",
                  "type": "unknown"
                },
                {
                  "name": "bu",
                  "rawType": "object",
                  "type": "unknown"
                },
                {
                  "name": "sc",
                  "rawType": "object",
                  "type": "unknown"
                },
                {
                  "name": "sod",
                  "rawType": "object",
                  "type": "unknown"
                },
                {
                  "name": "pot",
                  "rawType": "object",
                  "type": "unknown"
                },
                {
                  "name": "hemo",
                  "rawType": "object",
                  "type": "unknown"
                },
                {
                  "name": "pcv",
                  "rawType": "object",
                  "type": "unknown"
                },
                {
                  "name": "wbcc",
                  "rawType": "object",
                  "type": "unknown"
                },
                {
                  "name": "rbcc",
                  "rawType": "object",
                  "type": "unknown"
                },
                {
                  "name": "htn",
                  "rawType": "object",
                  "type": "unknown"
                },
                {
                  "name": "dm",
                  "rawType": "object",
                  "type": "unknown"
                },
                {
                  "name": "cad",
                  "rawType": "object",
                  "type": "unknown"
                },
                {
                  "name": "appet",
                  "rawType": "object",
                  "type": "unknown"
                },
                {
                  "name": "pe",
                  "rawType": "object",
                  "type": "unknown"
                },
                {
                  "name": "ane",
                  "rawType": "object",
                  "type": "unknown"
                },
                {
                  "name": "class",
                  "rawType": "object",
                  "type": "unknown"
                }
              ],
              "ref": "f05fadbb-25ee-4057-bda0-c80394e8887c",
              "rows": [
                [
                  "count",
                  "408",
                  "408",
                  "408",
                  "408",
                  "408",
                  "408",
                  "408",
                  "408",
                  "408",
                  "408",
                  "408",
                  "408",
                  "408",
                  "408",
                  "408",
                  "408",
                  "408",
                  "408",
                  "408",
                  "408",
                  "408",
                  "408",
                  "408",
                  "408",
                  "408"
                ],
                [
                  "unique",
                  "77",
                  "11",
                  "6",
                  "7",
                  "7",
                  "3",
                  "3",
                  "3",
                  "3",
                  "147",
                  "119",
                  "85",
                  "35",
                  "41",
                  "116",
                  "43",
                  "90",
                  "46",
                  "3",
                  "3",
                  "3",
                  "3",
                  "3",
                  "3",
                  "2"
                ],
                [
                  "top",
                  "60",
                  "80",
                  "1.02",
                  "0",
                  "0",
                  "normal",
                  "normal",
                  "notpresent",
                  "notpresent",
                  "?",
                  "?",
                  "1.2",
                  "?",
                  "?",
                  "?",
                  "?",
                  "?",
                  "?",
                  "no",
                  "no",
                  "no",
                  "good",
                  "no",
                  "no",
                  "ckd"
                ],
                [
                  "freq",
                  "19",
                  "122",
                  "110",
                  "207",
                  "298",
                  "209",
                  "267",
                  "362",
                  "382",
                  "44",
                  "19",
                  "42",
                  "87",
                  "88",
                  "52",
                  "71",
                  "106",
                  "131",
                  "259",
                  "269",
                  "372",
                  "325",
                  "331",
                  "347",
                  "250"
                ]
              ],
              "shape": {
                "columns": 25,
                "rows": 4
              }
            },
            "text/html": [
              "<div>\n",
              "<style scoped>\n",
              "    .dataframe tbody tr th:only-of-type {\n",
              "        vertical-align: middle;\n",
              "    }\n",
              "\n",
              "    .dataframe tbody tr th {\n",
              "        vertical-align: top;\n",
              "    }\n",
              "\n",
              "    .dataframe thead th {\n",
              "        text-align: right;\n",
              "    }\n",
              "</style>\n",
              "<table border=\"1\" class=\"dataframe\">\n",
              "  <thead>\n",
              "    <tr style=\"text-align: right;\">\n",
              "      <th></th>\n",
              "      <th>age</th>\n",
              "      <th>bp</th>\n",
              "      <th>sg</th>\n",
              "      <th>al</th>\n",
              "      <th>su</th>\n",
              "      <th>rbc</th>\n",
              "      <th>pc</th>\n",
              "      <th>pcc</th>\n",
              "      <th>ba</th>\n",
              "      <th>bgr</th>\n",
              "      <th>...</th>\n",
              "      <th>pcv</th>\n",
              "      <th>wbcc</th>\n",
              "      <th>rbcc</th>\n",
              "      <th>htn</th>\n",
              "      <th>dm</th>\n",
              "      <th>cad</th>\n",
              "      <th>appet</th>\n",
              "      <th>pe</th>\n",
              "      <th>ane</th>\n",
              "      <th>class</th>\n",
              "    </tr>\n",
              "  </thead>\n",
              "  <tbody>\n",
              "    <tr>\n",
              "      <th>count</th>\n",
              "      <td>408</td>\n",
              "      <td>408</td>\n",
              "      <td>408</td>\n",
              "      <td>408</td>\n",
              "      <td>408</td>\n",
              "      <td>408</td>\n",
              "      <td>408</td>\n",
              "      <td>408</td>\n",
              "      <td>408</td>\n",
              "      <td>408</td>\n",
              "      <td>...</td>\n",
              "      <td>408</td>\n",
              "      <td>408</td>\n",
              "      <td>408</td>\n",
              "      <td>408</td>\n",
              "      <td>408</td>\n",
              "      <td>408</td>\n",
              "      <td>408</td>\n",
              "      <td>408</td>\n",
              "      <td>408</td>\n",
              "      <td>408</td>\n",
              "    </tr>\n",
              "    <tr>\n",
              "      <th>unique</th>\n",
              "      <td>77</td>\n",
              "      <td>11</td>\n",
              "      <td>6</td>\n",
              "      <td>7</td>\n",
              "      <td>7</td>\n",
              "      <td>3</td>\n",
              "      <td>3</td>\n",
              "      <td>3</td>\n",
              "      <td>3</td>\n",
              "      <td>147</td>\n",
              "      <td>...</td>\n",
              "      <td>43</td>\n",
              "      <td>90</td>\n",
              "      <td>46</td>\n",
              "      <td>3</td>\n",
              "      <td>3</td>\n",
              "      <td>3</td>\n",
              "      <td>3</td>\n",
              "      <td>3</td>\n",
              "      <td>3</td>\n",
              "      <td>2</td>\n",
              "    </tr>\n",
              "    <tr>\n",
              "      <th>top</th>\n",
              "      <td>60</td>\n",
              "      <td>80</td>\n",
              "      <td>1.02</td>\n",
              "      <td>0</td>\n",
              "      <td>0</td>\n",
              "      <td>normal</td>\n",
              "      <td>normal</td>\n",
              "      <td>notpresent</td>\n",
              "      <td>notpresent</td>\n",
              "      <td>?</td>\n",
              "      <td>...</td>\n",
              "      <td>?</td>\n",
              "      <td>?</td>\n",
              "      <td>?</td>\n",
              "      <td>no</td>\n",
              "      <td>no</td>\n",
              "      <td>no</td>\n",
              "      <td>good</td>\n",
              "      <td>no</td>\n",
              "      <td>no</td>\n",
              "      <td>ckd</td>\n",
              "    </tr>\n",
              "    <tr>\n",
              "      <th>freq</th>\n",
              "      <td>19</td>\n",
              "      <td>122</td>\n",
              "      <td>110</td>\n",
              "      <td>207</td>\n",
              "      <td>298</td>\n",
              "      <td>209</td>\n",
              "      <td>267</td>\n",
              "      <td>362</td>\n",
              "      <td>382</td>\n",
              "      <td>44</td>\n",
              "      <td>...</td>\n",
              "      <td>71</td>\n",
              "      <td>106</td>\n",
              "      <td>131</td>\n",
              "      <td>259</td>\n",
              "      <td>269</td>\n",
              "      <td>372</td>\n",
              "      <td>325</td>\n",
              "      <td>331</td>\n",
              "      <td>347</td>\n",
              "      <td>250</td>\n",
              "    </tr>\n",
              "  </tbody>\n",
              "</table>\n",
              "<p>4 rows × 25 columns</p>\n",
              "</div>"
            ],
            "text/plain": [
              "        age   bp    sg   al   su     rbc      pc         pcc          ba  bgr  \\\n",
              "count   408  408   408  408  408     408     408         408         408  408   \n",
              "unique   77   11     6    7    7       3       3           3           3  147   \n",
              "top      60   80  1.02    0    0  normal  normal  notpresent  notpresent    ?   \n",
              "freq     19  122   110  207  298     209     267         362         382   44   \n",
              "\n",
              "        ...  pcv wbcc rbcc  htn   dm  cad appet   pe  ane class  \n",
              "count   ...  408  408  408  408  408  408   408  408  408   408  \n",
              "unique  ...   43   90   46    3    3    3     3    3    3     2  \n",
              "top     ...    ?    ?    ?   no   no   no  good   no   no   ckd  \n",
              "freq    ...   71  106  131  259  269  372   325  331  347   250  \n",
              "\n",
              "[4 rows x 25 columns]"
            ]
          },
          "execution_count": 19,
          "metadata": {},
          "output_type": "execute_result"
        }
      ],
      "source": [
        "# provides a statistical summary of the DataFrame, specifically for numeric columns. particularly useful for getting a sense of the distribution of numerical data within your dataset.\n",
        "ckd_data.describe()"
      ]
    },
    {
      "cell_type": "code",
      "execution_count": 20,
      "metadata": {
        "colab": {
          "base_uri": "https://localhost:8080/"
        },
        "id": "FxjdF1AX47uc",
        "outputId": "93b9275a-b8d3-42a2-9566-c608060d3e2a"
      },
      "outputs": [
        {
          "name": "stdout",
          "output_type": "stream",
          "text": [
            "['48' '7' '62' '51' '60' '68' '24' '52' '53' '50' '63' '40' '47' '61' '21'\n",
            " '42' '75' '69' '?' '73' '70' '65' '76' '72' '82' '46' '45' '35' '54' '11'\n",
            " '59' '67' '15' '55' '44' '26' '64' '56' '5' '74' '38' '58' '71' '34' '17'\n",
            " '12' '43' '41' '57' '8' '39' '66' '81' '14' '27' '83' '30' '4' '3' '6'\n",
            " '32' '80' '49' '90' '78' '19' '2' '33' '36' '37' '23' '25' '20' '29' '28'\n",
            " '22' '79']\n"
          ]
        }
      ],
      "source": [
        "# find all the unique values\n",
        "unique_values = ckd_data['age'].unique()\n",
        "print(unique_values)"
      ]
    },
    {
      "cell_type": "code",
      "execution_count": 21,
      "metadata": {
        "id": "nJ3C3Ttm47uc"
      },
      "outputs": [],
      "source": [
        "# 'age' has '?' which is NaN value. We need to convert age to numeric for meaningful analysis.\n",
        "# To do so, we need to deal with '?' values"
      ]
    },
    {
      "cell_type": "code",
      "execution_count": 22,
      "metadata": {
        "colab": {
          "base_uri": "https://localhost:8080/"
        },
        "id": "iv8lUUL_47uc",
        "outputId": "2d490961-b331-4aa8-c40f-8e9b8a62dd2b"
      },
      "outputs": [
        {
          "name": "stdout",
          "output_type": "stream",
          "text": [
            "float64\n",
            "0    48.0\n",
            "1     7.0\n",
            "2    62.0\n",
            "3    48.0\n",
            "4    51.0\n",
            "Name: age, dtype: float64\n"
          ]
        }
      ],
      "source": [
        "# Convert 'age' to numeric, coercing errors to NaN\n",
        "ckd_data['age'] = pd.to_numeric(ckd_data['age'], errors='coerce')\n",
        "\n",
        "# Verify the conversion\n",
        "print(ckd_data['age'].dtype)\n",
        "print(ckd_data['age'].head())"
      ]
    },
    {
      "cell_type": "code",
      "execution_count": 23,
      "metadata": {
        "id": "p33RkKIw47uc"
      },
      "outputs": [],
      "source": [
        "# convert all relevant columns to numeric types by coercing text values to NaN\n",
        "numeric_columns = ['age', 'bp', 'bgr', 'bu', 'sc', 'sod', 'pot', 'hemo', 'pcv', 'wbcc', 'rbcc']\n",
        "ckd_data[numeric_columns] = ckd_data[numeric_columns].apply(pd.to_numeric, errors='coerce')\n"
      ]
    },
    {
      "cell_type": "code",
      "execution_count": 24,
      "metadata": {
        "colab": {
          "base_uri": "https://localhost:8080/",
          "height": 329
        },
        "id": "DnuZBQTH47uc",
        "outputId": "bf3909e0-2288-4347-df33-fcc99b978807"
      },
      "outputs": [
        {
          "data": {
            "application/vnd.microsoft.datawrangler.viewer.v0+json": {
              "columns": [
                {
                  "name": "index",
                  "rawType": "int64",
                  "type": "integer"
                },
                {
                  "name": "age",
                  "rawType": "float64",
                  "type": "float"
                },
                {
                  "name": "bp",
                  "rawType": "float64",
                  "type": "float"
                },
                {
                  "name": "sg",
                  "rawType": "object",
                  "type": "string"
                },
                {
                  "name": "al",
                  "rawType": "object",
                  "type": "string"
                },
                {
                  "name": "su",
                  "rawType": "object",
                  "type": "string"
                },
                {
                  "name": "rbc",
                  "rawType": "object",
                  "type": "string"
                },
                {
                  "name": "pc",
                  "rawType": "object",
                  "type": "string"
                },
                {
                  "name": "pcc",
                  "rawType": "object",
                  "type": "string"
                },
                {
                  "name": "ba",
                  "rawType": "object",
                  "type": "string"
                },
                {
                  "name": "bgr",
                  "rawType": "float64",
                  "type": "float"
                },
                {
                  "name": "bu",
                  "rawType": "float64",
                  "type": "float"
                },
                {
                  "name": "sc",
                  "rawType": "float64",
                  "type": "float"
                },
                {
                  "name": "sod",
                  "rawType": "float64",
                  "type": "float"
                },
                {
                  "name": "pot",
                  "rawType": "float64",
                  "type": "float"
                },
                {
                  "name": "hemo",
                  "rawType": "float64",
                  "type": "float"
                },
                {
                  "name": "pcv",
                  "rawType": "float64",
                  "type": "float"
                },
                {
                  "name": "wbcc",
                  "rawType": "float64",
                  "type": "float"
                },
                {
                  "name": "rbcc",
                  "rawType": "float64",
                  "type": "float"
                },
                {
                  "name": "htn",
                  "rawType": "object",
                  "type": "string"
                },
                {
                  "name": "dm",
                  "rawType": "object",
                  "type": "string"
                },
                {
                  "name": "cad",
                  "rawType": "object",
                  "type": "string"
                },
                {
                  "name": "appet",
                  "rawType": "object",
                  "type": "string"
                },
                {
                  "name": "pe",
                  "rawType": "object",
                  "type": "string"
                },
                {
                  "name": "ane",
                  "rawType": "object",
                  "type": "string"
                },
                {
                  "name": "class",
                  "rawType": "object",
                  "type": "string"
                }
              ],
              "ref": "cda568d5-ef54-44e4-907e-bd8fd533ecae",
              "rows": [
                [
                  "401",
                  "12.0",
                  "80.0",
                  "1.02",
                  "0",
                  "0",
                  "normal",
                  "normal",
                  "notpresent",
                  "notpresent",
                  "100.0",
                  "26.0",
                  "0.6",
                  "137.0",
                  "4.4",
                  "15.8",
                  "49.0",
                  "6600.0",
                  "5.4",
                  "no",
                  "no",
                  "no",
                  "good",
                  "no",
                  "no",
                  "notckd"
                ],
                [
                  "402",
                  "17.0",
                  "60.0",
                  "1.025",
                  "0",
                  "0",
                  "normal",
                  "normal",
                  "notpresent",
                  "notpresent",
                  "114.0",
                  "50.0",
                  "1.0",
                  "135.0",
                  "4.9",
                  "14.2",
                  "51.0",
                  "7200.0",
                  "5.9",
                  "no",
                  "no",
                  "no",
                  "good",
                  "no",
                  "no",
                  "notckd"
                ],
                [
                  "404",
                  "36.0",
                  "80.0",
                  "1.025",
                  "0",
                  "0",
                  "normal",
                  "normal",
                  "notpresent",
                  "notpresent",
                  "85.0",
                  "16.0",
                  "1.1",
                  "142.0",
                  "4.1",
                  "15.6",
                  "44.0",
                  "5800.0",
                  "6.3",
                  "no",
                  "no",
                  "no",
                  "good",
                  "no",
                  "no",
                  "notckd"
                ],
                [
                  "406",
                  "43.0",
                  "60.0",
                  "1.025",
                  "0",
                  "0",
                  "normal",
                  "normal",
                  "notpresent",
                  "notpresent",
                  "117.0",
                  "45.0",
                  "0.7",
                  "141.0",
                  "4.4",
                  "13.0",
                  "54.0",
                  "7400.0",
                  "5.4",
                  "no",
                  "no",
                  "no",
                  "good",
                  "no",
                  "no",
                  "notckd"
                ],
                [
                  "407",
                  "50.0",
                  "80.0",
                  "1.02",
                  "0",
                  "0",
                  "normal",
                  "normal",
                  "notpresent",
                  "notpresent",
                  "137.0",
                  "46.0",
                  "0.8",
                  "139.0",
                  "5.0",
                  "14.1",
                  "45.0",
                  "9500.0",
                  "4.6",
                  "no",
                  "no",
                  "no",
                  "good",
                  "no",
                  "no",
                  "notckd"
                ],
                [
                  "403",
                  "52.0",
                  "80.0",
                  "1.025",
                  "0",
                  "0",
                  "normal",
                  "normal",
                  "notpresent",
                  "notpresent",
                  "99.0",
                  "25.0",
                  "0.8",
                  "135.0",
                  "3.7",
                  "15.0",
                  "52.0",
                  "6300.0",
                  "5.3",
                  "no",
                  "no",
                  "no",
                  "good",
                  "no",
                  "no",
                  "notckd"
                ],
                [
                  "400",
                  "57.0",
                  "80.0",
                  "1.02",
                  "0",
                  "0",
                  "normal",
                  "normal",
                  "notpresent",
                  "notpresent",
                  "133.0",
                  "48.0",
                  "1.2",
                  "147.0",
                  "4.3",
                  "14.8",
                  "46.0",
                  "6600.0",
                  "5.5",
                  "no",
                  "no",
                  "no",
                  "good",
                  "no",
                  "no",
                  "notckd"
                ],
                [
                  "405",
                  "57.0",
                  "80.0",
                  "1.02",
                  "0",
                  "0",
                  "normal",
                  "normal",
                  "notpresent",
                  "notpresent",
                  "133.0",
                  "48.0",
                  "1.2",
                  "147.0",
                  "4.3",
                  "14.8",
                  "46.0",
                  "6600.0",
                  "5.5",
                  "no",
                  "no",
                  "no",
                  "good",
                  "no",
                  "no",
                  "notckd"
                ]
              ],
              "shape": {
                "columns": 25,
                "rows": 8
              }
            },
            "text/html": [
              "<div>\n",
              "<style scoped>\n",
              "    .dataframe tbody tr th:only-of-type {\n",
              "        vertical-align: middle;\n",
              "    }\n",
              "\n",
              "    .dataframe tbody tr th {\n",
              "        vertical-align: top;\n",
              "    }\n",
              "\n",
              "    .dataframe thead th {\n",
              "        text-align: right;\n",
              "    }\n",
              "</style>\n",
              "<table border=\"1\" class=\"dataframe\">\n",
              "  <thead>\n",
              "    <tr style=\"text-align: right;\">\n",
              "      <th></th>\n",
              "      <th>age</th>\n",
              "      <th>bp</th>\n",
              "      <th>sg</th>\n",
              "      <th>al</th>\n",
              "      <th>su</th>\n",
              "      <th>rbc</th>\n",
              "      <th>pc</th>\n",
              "      <th>pcc</th>\n",
              "      <th>ba</th>\n",
              "      <th>bgr</th>\n",
              "      <th>...</th>\n",
              "      <th>pcv</th>\n",
              "      <th>wbcc</th>\n",
              "      <th>rbcc</th>\n",
              "      <th>htn</th>\n",
              "      <th>dm</th>\n",
              "      <th>cad</th>\n",
              "      <th>appet</th>\n",
              "      <th>pe</th>\n",
              "      <th>ane</th>\n",
              "      <th>class</th>\n",
              "    </tr>\n",
              "  </thead>\n",
              "  <tbody>\n",
              "    <tr>\n",
              "      <th>401</th>\n",
              "      <td>12.0</td>\n",
              "      <td>80.0</td>\n",
              "      <td>1.02</td>\n",
              "      <td>0</td>\n",
              "      <td>0</td>\n",
              "      <td>normal</td>\n",
              "      <td>normal</td>\n",
              "      <td>notpresent</td>\n",
              "      <td>notpresent</td>\n",
              "      <td>100.0</td>\n",
              "      <td>...</td>\n",
              "      <td>49.0</td>\n",
              "      <td>6600.0</td>\n",
              "      <td>5.4</td>\n",
              "      <td>no</td>\n",
              "      <td>no</td>\n",
              "      <td>no</td>\n",
              "      <td>good</td>\n",
              "      <td>no</td>\n",
              "      <td>no</td>\n",
              "      <td>notckd</td>\n",
              "    </tr>\n",
              "    <tr>\n",
              "      <th>402</th>\n",
              "      <td>17.0</td>\n",
              "      <td>60.0</td>\n",
              "      <td>1.025</td>\n",
              "      <td>0</td>\n",
              "      <td>0</td>\n",
              "      <td>normal</td>\n",
              "      <td>normal</td>\n",
              "      <td>notpresent</td>\n",
              "      <td>notpresent</td>\n",
              "      <td>114.0</td>\n",
              "      <td>...</td>\n",
              "      <td>51.0</td>\n",
              "      <td>7200.0</td>\n",
              "      <td>5.9</td>\n",
              "      <td>no</td>\n",
              "      <td>no</td>\n",
              "      <td>no</td>\n",
              "      <td>good</td>\n",
              "      <td>no</td>\n",
              "      <td>no</td>\n",
              "      <td>notckd</td>\n",
              "    </tr>\n",
              "    <tr>\n",
              "      <th>404</th>\n",
              "      <td>36.0</td>\n",
              "      <td>80.0</td>\n",
              "      <td>1.025</td>\n",
              "      <td>0</td>\n",
              "      <td>0</td>\n",
              "      <td>normal</td>\n",
              "      <td>normal</td>\n",
              "      <td>notpresent</td>\n",
              "      <td>notpresent</td>\n",
              "      <td>85.0</td>\n",
              "      <td>...</td>\n",
              "      <td>44.0</td>\n",
              "      <td>5800.0</td>\n",
              "      <td>6.3</td>\n",
              "      <td>no</td>\n",
              "      <td>no</td>\n",
              "      <td>no</td>\n",
              "      <td>good</td>\n",
              "      <td>no</td>\n",
              "      <td>no</td>\n",
              "      <td>notckd</td>\n",
              "    </tr>\n",
              "    <tr>\n",
              "      <th>406</th>\n",
              "      <td>43.0</td>\n",
              "      <td>60.0</td>\n",
              "      <td>1.025</td>\n",
              "      <td>0</td>\n",
              "      <td>0</td>\n",
              "      <td>normal</td>\n",
              "      <td>normal</td>\n",
              "      <td>notpresent</td>\n",
              "      <td>notpresent</td>\n",
              "      <td>117.0</td>\n",
              "      <td>...</td>\n",
              "      <td>54.0</td>\n",
              "      <td>7400.0</td>\n",
              "      <td>5.4</td>\n",
              "      <td>no</td>\n",
              "      <td>no</td>\n",
              "      <td>no</td>\n",
              "      <td>good</td>\n",
              "      <td>no</td>\n",
              "      <td>no</td>\n",
              "      <td>notckd</td>\n",
              "    </tr>\n",
              "    <tr>\n",
              "      <th>407</th>\n",
              "      <td>50.0</td>\n",
              "      <td>80.0</td>\n",
              "      <td>1.02</td>\n",
              "      <td>0</td>\n",
              "      <td>0</td>\n",
              "      <td>normal</td>\n",
              "      <td>normal</td>\n",
              "      <td>notpresent</td>\n",
              "      <td>notpresent</td>\n",
              "      <td>137.0</td>\n",
              "      <td>...</td>\n",
              "      <td>45.0</td>\n",
              "      <td>9500.0</td>\n",
              "      <td>4.6</td>\n",
              "      <td>no</td>\n",
              "      <td>no</td>\n",
              "      <td>no</td>\n",
              "      <td>good</td>\n",
              "      <td>no</td>\n",
              "      <td>no</td>\n",
              "      <td>notckd</td>\n",
              "    </tr>\n",
              "    <tr>\n",
              "      <th>403</th>\n",
              "      <td>52.0</td>\n",
              "      <td>80.0</td>\n",
              "      <td>1.025</td>\n",
              "      <td>0</td>\n",
              "      <td>0</td>\n",
              "      <td>normal</td>\n",
              "      <td>normal</td>\n",
              "      <td>notpresent</td>\n",
              "      <td>notpresent</td>\n",
              "      <td>99.0</td>\n",
              "      <td>...</td>\n",
              "      <td>52.0</td>\n",
              "      <td>6300.0</td>\n",
              "      <td>5.3</td>\n",
              "      <td>no</td>\n",
              "      <td>no</td>\n",
              "      <td>no</td>\n",
              "      <td>good</td>\n",
              "      <td>no</td>\n",
              "      <td>no</td>\n",
              "      <td>notckd</td>\n",
              "    </tr>\n",
              "    <tr>\n",
              "      <th>400</th>\n",
              "      <td>57.0</td>\n",
              "      <td>80.0</td>\n",
              "      <td>1.02</td>\n",
              "      <td>0</td>\n",
              "      <td>0</td>\n",
              "      <td>normal</td>\n",
              "      <td>normal</td>\n",
              "      <td>notpresent</td>\n",
              "      <td>notpresent</td>\n",
              "      <td>133.0</td>\n",
              "      <td>...</td>\n",
              "      <td>46.0</td>\n",
              "      <td>6600.0</td>\n",
              "      <td>5.5</td>\n",
              "      <td>no</td>\n",
              "      <td>no</td>\n",
              "      <td>no</td>\n",
              "      <td>good</td>\n",
              "      <td>no</td>\n",
              "      <td>no</td>\n",
              "      <td>notckd</td>\n",
              "    </tr>\n",
              "    <tr>\n",
              "      <th>405</th>\n",
              "      <td>57.0</td>\n",
              "      <td>80.0</td>\n",
              "      <td>1.02</td>\n",
              "      <td>0</td>\n",
              "      <td>0</td>\n",
              "      <td>normal</td>\n",
              "      <td>normal</td>\n",
              "      <td>notpresent</td>\n",
              "      <td>notpresent</td>\n",
              "      <td>133.0</td>\n",
              "      <td>...</td>\n",
              "      <td>46.0</td>\n",
              "      <td>6600.0</td>\n",
              "      <td>5.5</td>\n",
              "      <td>no</td>\n",
              "      <td>no</td>\n",
              "      <td>no</td>\n",
              "      <td>good</td>\n",
              "      <td>no</td>\n",
              "      <td>no</td>\n",
              "      <td>notckd</td>\n",
              "    </tr>\n",
              "  </tbody>\n",
              "</table>\n",
              "<p>8 rows × 25 columns</p>\n",
              "</div>"
            ],
            "text/plain": [
              "      age    bp     sg al su     rbc      pc         pcc          ba    bgr  \\\n",
              "401  12.0  80.0   1.02  0  0  normal  normal  notpresent  notpresent  100.0   \n",
              "402  17.0  60.0  1.025  0  0  normal  normal  notpresent  notpresent  114.0   \n",
              "404  36.0  80.0  1.025  0  0  normal  normal  notpresent  notpresent   85.0   \n",
              "406  43.0  60.0  1.025  0  0  normal  normal  notpresent  notpresent  117.0   \n",
              "407  50.0  80.0   1.02  0  0  normal  normal  notpresent  notpresent  137.0   \n",
              "403  52.0  80.0  1.025  0  0  normal  normal  notpresent  notpresent   99.0   \n",
              "400  57.0  80.0   1.02  0  0  normal  normal  notpresent  notpresent  133.0   \n",
              "405  57.0  80.0   1.02  0  0  normal  normal  notpresent  notpresent  133.0   \n",
              "\n",
              "     ...   pcv    wbcc  rbcc  htn  dm  cad  appet  pe ane   class  \n",
              "401  ...  49.0  6600.0   5.4   no  no   no   good  no  no  notckd  \n",
              "402  ...  51.0  7200.0   5.9   no  no   no   good  no  no  notckd  \n",
              "404  ...  44.0  5800.0   6.3   no  no   no   good  no  no  notckd  \n",
              "406  ...  54.0  7400.0   5.4   no  no   no   good  no  no  notckd  \n",
              "407  ...  45.0  9500.0   4.6   no  no   no   good  no  no  notckd  \n",
              "403  ...  52.0  6300.0   5.3   no  no   no   good  no  no  notckd  \n",
              "400  ...  46.0  6600.0   5.5   no  no   no   good  no  no  notckd  \n",
              "405  ...  46.0  6600.0   5.5   no  no   no   good  no  no  notckd  \n",
              "\n",
              "[8 rows x 25 columns]"
            ]
          },
          "execution_count": 24,
          "metadata": {},
          "output_type": "execute_result"
        }
      ],
      "source": [
        "# check for duplicates\n",
        "ckd_data[ckd_data.duplicated].sort_values(by=['age'])"
      ]
    },
    {
      "cell_type": "code",
      "execution_count": 25,
      "metadata": {
        "id": "yS761viJ47uc"
      },
      "outputs": [],
      "source": [
        "# Drop duplicates\n",
        "ckd_data.drop_duplicates(inplace=True)"
      ]
    },
    {
      "cell_type": "code",
      "execution_count": 26,
      "metadata": {
        "colab": {
          "base_uri": "https://localhost:8080/"
        },
        "id": "McDpZjdT47uc",
        "outputId": "63d86edd-8068-4f70-c7e6-32fb629c502c"
      },
      "outputs": [
        {
          "name": "stdout",
          "output_type": "stream",
          "text": [
            "<class 'pandas.core.frame.DataFrame'>\n",
            "Index: 400 entries, 0 to 399\n",
            "Data columns (total 25 columns):\n",
            " #   Column  Non-Null Count  Dtype  \n",
            "---  ------  --------------  -----  \n",
            " 0   age     391 non-null    float64\n",
            " 1   bp      388 non-null    float64\n",
            " 2   sg      400 non-null    object \n",
            " 3   al      400 non-null    object \n",
            " 4   su      400 non-null    object \n",
            " 5   rbc     400 non-null    object \n",
            " 6   pc      400 non-null    object \n",
            " 7   pcc     400 non-null    object \n",
            " 8   ba      400 non-null    object \n",
            " 9   bgr     356 non-null    float64\n",
            " 10  bu      381 non-null    float64\n",
            " 11  sc      383 non-null    float64\n",
            " 12  sod     313 non-null    float64\n",
            " 13  pot     312 non-null    float64\n",
            " 14  hemo    348 non-null    float64\n",
            " 15  pcv     329 non-null    float64\n",
            " 16  wbcc    294 non-null    float64\n",
            " 17  rbcc    269 non-null    float64\n",
            " 18  htn     400 non-null    object \n",
            " 19  dm      400 non-null    object \n",
            " 20  cad     400 non-null    object \n",
            " 21  appet   400 non-null    object \n",
            " 22  pe      400 non-null    object \n",
            " 23  ane     400 non-null    object \n",
            " 24  class   400 non-null    object \n",
            "dtypes: float64(11), object(14)\n",
            "memory usage: 81.2+ KB\n"
          ]
        }
      ],
      "source": [
        "ckd_data.info()"
      ]
    },
    {
      "cell_type": "code",
      "execution_count": 27,
      "metadata": {
        "id": "Fc3744PO47uc"
      },
      "outputs": [],
      "source": [
        "# Saving the file\n",
        "ckd_data.to_csv('cleaned_ckd_data.csv', index=False)"
      ]
    },
    {
      "cell_type": "markdown",
      "metadata": {
        "id": "qfiI0gyK47ud"
      },
      "source": [
        "## 2.2 Read/Write Excel files"
      ]
    },
    {
      "cell_type": "markdown",
      "metadata": {
        "id": "4frSNxZ447ud"
      },
      "source": [
        "We will deal with more data wrangling functions in the next lecture."
      ]
    },
    {
      "cell_type": "code",
      "execution_count": 28,
      "metadata": {
        "colab": {
          "base_uri": "https://localhost:8080/"
        },
        "id": "M6nr5xqc47ud",
        "outputId": "d2e9166c-3421-4aa8-86ed-64f0249ba71b"
      },
      "outputs": [
        {
          "name": "stdout",
          "output_type": "stream",
          "text": [
            "Defaulting to user installation because normal site-packages is not writeable\n",
            "Requirement already satisfied: pandas in c:\\programdata\\anaconda3\\lib\\site-packages (2.2.2)\n",
            "Requirement already satisfied: openpyxl in c:\\programdata\\anaconda3\\lib\\site-packages (3.1.5)\n",
            "Requirement already satisfied: numpy>=1.26.0 in c:\\programdata\\anaconda3\\lib\\site-packages (from pandas) (1.26.4)\n",
            "Requirement already satisfied: python-dateutil>=2.8.2 in c:\\programdata\\anaconda3\\lib\\site-packages (from pandas) (2.9.0.post0)\n",
            "Requirement already satisfied: pytz>=2020.1 in c:\\programdata\\anaconda3\\lib\\site-packages (from pandas) (2024.1)\n",
            "Requirement already satisfied: tzdata>=2022.7 in c:\\programdata\\anaconda3\\lib\\site-packages (from pandas) (2023.3)\n",
            "Requirement already satisfied: et-xmlfile in c:\\programdata\\anaconda3\\lib\\site-packages (from openpyxl) (1.1.0)\n",
            "Requirement already satisfied: six>=1.5 in c:\\programdata\\anaconda3\\lib\\site-packages (from python-dateutil>=2.8.2->pandas) (1.16.0)\n"
          ]
        }
      ],
      "source": [
        "!pip install pandas openpyxl"
      ]
    },
    {
      "cell_type": "code",
      "execution_count": 29,
      "metadata": {
        "colab": {
          "base_uri": "https://localhost:8080/"
        },
        "id": "RW5rHlum47ud",
        "outputId": "aea031cc-e08e-4051-fc2c-831e5b3a5b24"
      },
      "outputs": [
        {
          "name": "stdout",
          "output_type": "stream",
          "text": [
            "  Indexno   AGE  GENDER  RCRI score Anemia category  PreopEGFRMDRD  \\\n",
            "0       2  48.0  FEMALE         NaN             NaN            NaN   \n",
            "1       5  36.0  FEMALE         NaN            none            NaN   \n",
            "2       6  64.0  FEMALE         NaN            mild     152.538570   \n",
            "3       9  73.0    MALE         NaN        moderate     117.231496   \n",
            "4      10  73.0    MALE         0.0            mild      98.651255   \n",
            "\n",
            "  GradeofKidneydisease  DaysbetweenDeathandoperation @30daymortality  \\\n",
            "0                BLANK                           NaN              NO   \n",
            "1                BLANK                           NaN              NO   \n",
            "2                   g1                           NaN              NO   \n",
            "3                   g1                           NaN              NO   \n",
            "4                   g1                          59.0              NO   \n",
            "\n",
            "   Preoptransfusionwithin30days  ...  CVARCRICategory  IHDRCRICategory  \\\n",
            "0                           0.0  ...           #NULL!           #NULL!   \n",
            "1                           0.0  ...           #NULL!           #NULL!   \n",
            "2                           0.0  ...           #NULL!           #NULL!   \n",
            "3                           0.0  ...           #NULL!           #NULL!   \n",
            "4                           0.0  ...               no               no   \n",
            "\n",
            "   CHFRCRICategory DMinsulinRCRICategory CreatinineRCRICategory  \\\n",
            "0           #NULL!                #NULL!                     no   \n",
            "1           #NULL!                #NULL!                 #NULL!   \n",
            "2           #NULL!                #NULL!                 #NULL!   \n",
            "3           #NULL!                #NULL!                     no   \n",
            "4               no                    no                     no   \n",
            "\n",
            "  GradeofKidneyCategory Anemiacategorybinned  RDW15.7 ASAcategorybinned  \\\n",
            "0                #NULL!               #NULL!   #NULL!                 I   \n",
            "1                #NULL!                  NaN  <= 15.7                 I   \n",
            "2                    G1                 Mild  <= 15.7                 I   \n",
            "3                    G1      Moderate/Severe  <= 15.7                 I   \n",
            "4                    G1                 Mild    >15.7                II   \n",
            "\n",
            "  ICUAdmgt24h  \n",
            "0          no  \n",
            "1          no  \n",
            "2          no  \n",
            "3          no  \n",
            "4          no  \n",
            "\n",
            "[5 rows x 32 columns]\n"
          ]
        }
      ],
      "source": [
        "# Read the Excel file\n",
        "url = 'https://raw.githubusercontent.com/ISSS623-AHA/ISSS623_2024/main/Group_Project/Group_Project-SGH/CARES_data.xlsx'\n",
        "# Reading the Excel file\n",
        "cares = pd.read_excel(url)\n",
        "\n",
        "# Displaying the first few rows of the DataFrame\n",
        "print(cares.head())"
      ]
    },
    {
      "cell_type": "code",
      "execution_count": 34,
      "metadata": {
        "colab": {
          "base_uri": "https://localhost:8080/"
        },
        "id": "mkYq-THn47ud",
        "outputId": "43f67c49-0dcf-4f77-e306-3cf039a4ed2a"
      },
      "outputs": [
        {
          "name": "stdout",
          "output_type": "stream",
          "text": [
            "Number of rows where 'RCRI score' is NaN: 27427\n"
          ]
        }
      ],
      "source": [
        "# Count number of rows where 'RCRI score' is NaN\n",
        "num_missing_rcri_score = cares['RCRI score'].isna().sum()\n",
        "print(f\"Number of rows where 'RCRI score' is NaN: {num_missing_rcri_score}\")\n",
        "\n",
        "# Extract rows where 'RCRI score' is NaN\n",
        "no_RCRI_cares = cares[cares['RCRI score'].isna()]\n",
        "\n",
        "# no_RCRI_cares.to_excel(output_file, index=False) saves the filtered DataFrame to an Excel file named 'no_RCRI_cares.xlsx'.\n",
        "# The index=False parameter is used to exclude the DataFrame index from being written to the file.\n",
        "no_RCRI_cares.to_excel('no_RCRI_cares.xlsx', index=False)"
      ]
    },
    {
      "cell_type": "code",
      "execution_count": 33,
      "metadata": {
        "colab": {
          "base_uri": "https://localhost:8080/"
        },
        "id": "Cz0E76vj47uj",
        "outputId": "a27b3ba0-a3ba-4ec3-bd05-6cdbe082b1f9"
      },
      "outputs": [
        {
          "name": "stdout",
          "output_type": "stream",
          "text": [
            "Number of rows where 'RCRI score' is not NaN: 63361\n",
            "Total number of rows: 90788\n",
            "Shape of cares: (90788, 32)\n"
          ]
        }
      ],
      "source": [
        "# 27427 were detected as NaN, but only 27424 were extracted in the Excel File 'no_RCRI_cares.xlsx'. Why?\n",
        "num_rcri_score = cares['RCRI score'].notna().sum()\n",
        "print(f\"Number of rows where 'RCRI score' is not NaN: {num_rcri_score}\")\n",
        "print(f\"Total number of rows: {num_missing_rcri_score+num_rcri_score}\")\n",
        "print(f'Shape of cares: {cares.shape}')\n",
        "\n",
        "# Nothing wrong with the dataframe. Upon checking the Excel File 'no_RCRI_cares.xlsx',\n",
        "# there are 3 additional rows with the last row having '? Duplicates' in the last row\n",
        "# BE CAREFUL WITH RAW DATASETS!"
      ]
    },
    {
      "cell_type": "markdown",
      "metadata": {
        "id": "vRNIJ73447uk"
      },
      "source": [
        "# 3. Basic Data Exploration\n",
        "\n",
        "# 3.1 Grouping and summarizing data"
      ]
    },
    {
      "cell_type": "code",
      "execution_count": 35,
      "metadata": {
        "colab": {
          "base_uri": "https://localhost:8080/",
          "height": 423
        },
        "id": "SUeDOinD47um",
        "outputId": "7d05b3ac-2c67-46b7-b66c-2e6575c85622"
      },
      "outputs": [
        {
          "data": {
            "application/vnd.microsoft.datawrangler.viewer.v0+json": {
              "columns": [
                {
                  "name": "index",
                  "rawType": "object",
                  "type": "string"
                },
                {
                  "name": "age",
                  "rawType": "float64",
                  "type": "float"
                },
                {
                  "name": "bp",
                  "rawType": "float64",
                  "type": "float"
                },
                {
                  "name": "sg",
                  "rawType": "object",
                  "type": "unknown"
                },
                {
                  "name": "al",
                  "rawType": "object",
                  "type": "unknown"
                },
                {
                  "name": "su",
                  "rawType": "object",
                  "type": "unknown"
                },
                {
                  "name": "rbc",
                  "rawType": "object",
                  "type": "unknown"
                },
                {
                  "name": "pc",
                  "rawType": "object",
                  "type": "unknown"
                },
                {
                  "name": "pcc",
                  "rawType": "object",
                  "type": "unknown"
                },
                {
                  "name": "ba",
                  "rawType": "object",
                  "type": "unknown"
                },
                {
                  "name": "bgr",
                  "rawType": "float64",
                  "type": "float"
                },
                {
                  "name": "bu",
                  "rawType": "float64",
                  "type": "float"
                },
                {
                  "name": "sc",
                  "rawType": "float64",
                  "type": "float"
                },
                {
                  "name": "sod",
                  "rawType": "float64",
                  "type": "float"
                },
                {
                  "name": "pot",
                  "rawType": "float64",
                  "type": "float"
                },
                {
                  "name": "hemo",
                  "rawType": "float64",
                  "type": "float"
                },
                {
                  "name": "pcv",
                  "rawType": "float64",
                  "type": "float"
                },
                {
                  "name": "wbcc",
                  "rawType": "float64",
                  "type": "float"
                },
                {
                  "name": "rbcc",
                  "rawType": "float64",
                  "type": "float"
                },
                {
                  "name": "htn",
                  "rawType": "object",
                  "type": "unknown"
                },
                {
                  "name": "dm",
                  "rawType": "object",
                  "type": "unknown"
                },
                {
                  "name": "cad",
                  "rawType": "object",
                  "type": "unknown"
                },
                {
                  "name": "appet",
                  "rawType": "object",
                  "type": "unknown"
                },
                {
                  "name": "pe",
                  "rawType": "object",
                  "type": "unknown"
                },
                {
                  "name": "ane",
                  "rawType": "object",
                  "type": "unknown"
                },
                {
                  "name": "class",
                  "rawType": "object",
                  "type": "unknown"
                }
              ],
              "ref": "fd189521-08a7-4be4-be2f-73b36b8c0d43",
              "rows": [
                [
                  "count",
                  "391.0",
                  "388.0",
                  "400",
                  "400",
                  "400",
                  "400",
                  "400",
                  "400",
                  "400",
                  "356.0",
                  "381.0",
                  "383.0",
                  "313.0",
                  "312.0",
                  "348.0",
                  "329.0",
                  "294.0",
                  "269.0",
                  "400",
                  "400",
                  "400",
                  "400",
                  "400",
                  "400",
                  "400"
                ],
                [
                  "unique",
                  null,
                  null,
                  "6",
                  "7",
                  "7",
                  "3",
                  "3",
                  "3",
                  "3",
                  null,
                  null,
                  null,
                  null,
                  null,
                  null,
                  null,
                  null,
                  null,
                  "3",
                  "3",
                  "3",
                  "3",
                  "3",
                  "3",
                  "2"
                ],
                [
                  "top",
                  null,
                  null,
                  "1.02",
                  "0",
                  "0",
                  "normal",
                  "normal",
                  "notpresent",
                  "notpresent",
                  null,
                  null,
                  null,
                  null,
                  null,
                  null,
                  null,
                  null,
                  null,
                  "no",
                  "no",
                  "no",
                  "good",
                  "no",
                  "no",
                  "ckd"
                ],
                [
                  "freq",
                  null,
                  null,
                  "106",
                  "199",
                  "290",
                  "201",
                  "259",
                  "354",
                  "374",
                  null,
                  null,
                  null,
                  null,
                  null,
                  null,
                  null,
                  null,
                  null,
                  "251",
                  "261",
                  "364",
                  "317",
                  "323",
                  "339",
                  "250"
                ],
                [
                  "mean",
                  "51.48337595907928",
                  "76.46907216494846",
                  null,
                  null,
                  null,
                  null,
                  null,
                  null,
                  null,
                  "148.0365168539326",
                  "57.425721784776904",
                  "3.072454308093995",
                  "137.52875399361022",
                  "4.62724358974359",
                  "12.526436781609195",
                  "38.88449848024316",
                  "8406.122448979591",
                  "4.707434944237917",
                  null,
                  null,
                  null,
                  null,
                  null,
                  null,
                  null
                ],
                [
                  "std",
                  "17.16971408926224",
                  "13.683637493525255",
                  null,
                  null,
                  null,
                  null,
                  null,
                  null,
                  null,
                  "79.28171423511776",
                  "50.5030058492225",
                  "5.741126066859781",
                  "10.408752051798789",
                  "3.1939041765566967",
                  "2.9125866088267647",
                  "8.990104814740938",
                  "2944.474190410339",
                  "1.0253232655721793",
                  null,
                  null,
                  null,
                  null,
                  null,
                  null,
                  null
                ],
                [
                  "min",
                  "2.0",
                  "50.0",
                  null,
                  null,
                  null,
                  null,
                  null,
                  null,
                  null,
                  "22.0",
                  "1.5",
                  "0.4",
                  "4.5",
                  "2.5",
                  "3.1",
                  "9.0",
                  "2200.0",
                  "2.1",
                  null,
                  null,
                  null,
                  null,
                  null,
                  null,
                  null
                ],
                [
                  "25%",
                  "42.0",
                  "70.0",
                  null,
                  null,
                  null,
                  null,
                  null,
                  null,
                  null,
                  "99.0",
                  "27.0",
                  "0.9",
                  "135.0",
                  "3.8",
                  "10.3",
                  "32.0",
                  "6500.0",
                  "3.9",
                  null,
                  null,
                  null,
                  null,
                  null,
                  null,
                  null
                ],
                [
                  "50%",
                  "55.0",
                  "80.0",
                  null,
                  null,
                  null,
                  null,
                  null,
                  null,
                  null,
                  "121.0",
                  "42.0",
                  "1.3",
                  "138.0",
                  "4.4",
                  "12.649999999999999",
                  "40.0",
                  "8000.0",
                  "4.8",
                  null,
                  null,
                  null,
                  null,
                  null,
                  null,
                  null
                ],
                [
                  "75%",
                  "64.5",
                  "80.0",
                  null,
                  null,
                  null,
                  null,
                  null,
                  null,
                  null,
                  "163.0",
                  "66.0",
                  "2.8",
                  "142.0",
                  "4.9",
                  "15.0",
                  "45.0",
                  "9800.0",
                  "5.4",
                  null,
                  null,
                  null,
                  null,
                  null,
                  null,
                  null
                ],
                [
                  "max",
                  "90.0",
                  "180.0",
                  null,
                  null,
                  null,
                  null,
                  null,
                  null,
                  null,
                  "490.0",
                  "391.0",
                  "76.0",
                  "163.0",
                  "47.0",
                  "17.8",
                  "54.0",
                  "26400.0",
                  "8.0",
                  null,
                  null,
                  null,
                  null,
                  null,
                  null,
                  null
                ]
              ],
              "shape": {
                "columns": 25,
                "rows": 11
              }
            },
            "text/html": [
              "<div>\n",
              "<style scoped>\n",
              "    .dataframe tbody tr th:only-of-type {\n",
              "        vertical-align: middle;\n",
              "    }\n",
              "\n",
              "    .dataframe tbody tr th {\n",
              "        vertical-align: top;\n",
              "    }\n",
              "\n",
              "    .dataframe thead th {\n",
              "        text-align: right;\n",
              "    }\n",
              "</style>\n",
              "<table border=\"1\" class=\"dataframe\">\n",
              "  <thead>\n",
              "    <tr style=\"text-align: right;\">\n",
              "      <th></th>\n",
              "      <th>age</th>\n",
              "      <th>bp</th>\n",
              "      <th>sg</th>\n",
              "      <th>al</th>\n",
              "      <th>su</th>\n",
              "      <th>rbc</th>\n",
              "      <th>pc</th>\n",
              "      <th>pcc</th>\n",
              "      <th>ba</th>\n",
              "      <th>bgr</th>\n",
              "      <th>...</th>\n",
              "      <th>pcv</th>\n",
              "      <th>wbcc</th>\n",
              "      <th>rbcc</th>\n",
              "      <th>htn</th>\n",
              "      <th>dm</th>\n",
              "      <th>cad</th>\n",
              "      <th>appet</th>\n",
              "      <th>pe</th>\n",
              "      <th>ane</th>\n",
              "      <th>class</th>\n",
              "    </tr>\n",
              "  </thead>\n",
              "  <tbody>\n",
              "    <tr>\n",
              "      <th>count</th>\n",
              "      <td>391.000000</td>\n",
              "      <td>388.000000</td>\n",
              "      <td>400</td>\n",
              "      <td>400</td>\n",
              "      <td>400</td>\n",
              "      <td>400</td>\n",
              "      <td>400</td>\n",
              "      <td>400</td>\n",
              "      <td>400</td>\n",
              "      <td>356.000000</td>\n",
              "      <td>...</td>\n",
              "      <td>329.000000</td>\n",
              "      <td>294.000000</td>\n",
              "      <td>269.000000</td>\n",
              "      <td>400</td>\n",
              "      <td>400</td>\n",
              "      <td>400</td>\n",
              "      <td>400</td>\n",
              "      <td>400</td>\n",
              "      <td>400</td>\n",
              "      <td>400</td>\n",
              "    </tr>\n",
              "    <tr>\n",
              "      <th>unique</th>\n",
              "      <td>NaN</td>\n",
              "      <td>NaN</td>\n",
              "      <td>6</td>\n",
              "      <td>7</td>\n",
              "      <td>7</td>\n",
              "      <td>3</td>\n",
              "      <td>3</td>\n",
              "      <td>3</td>\n",
              "      <td>3</td>\n",
              "      <td>NaN</td>\n",
              "      <td>...</td>\n",
              "      <td>NaN</td>\n",
              "      <td>NaN</td>\n",
              "      <td>NaN</td>\n",
              "      <td>3</td>\n",
              "      <td>3</td>\n",
              "      <td>3</td>\n",
              "      <td>3</td>\n",
              "      <td>3</td>\n",
              "      <td>3</td>\n",
              "      <td>2</td>\n",
              "    </tr>\n",
              "    <tr>\n",
              "      <th>top</th>\n",
              "      <td>NaN</td>\n",
              "      <td>NaN</td>\n",
              "      <td>1.02</td>\n",
              "      <td>0</td>\n",
              "      <td>0</td>\n",
              "      <td>normal</td>\n",
              "      <td>normal</td>\n",
              "      <td>notpresent</td>\n",
              "      <td>notpresent</td>\n",
              "      <td>NaN</td>\n",
              "      <td>...</td>\n",
              "      <td>NaN</td>\n",
              "      <td>NaN</td>\n",
              "      <td>NaN</td>\n",
              "      <td>no</td>\n",
              "      <td>no</td>\n",
              "      <td>no</td>\n",
              "      <td>good</td>\n",
              "      <td>no</td>\n",
              "      <td>no</td>\n",
              "      <td>ckd</td>\n",
              "    </tr>\n",
              "    <tr>\n",
              "      <th>freq</th>\n",
              "      <td>NaN</td>\n",
              "      <td>NaN</td>\n",
              "      <td>106</td>\n",
              "      <td>199</td>\n",
              "      <td>290</td>\n",
              "      <td>201</td>\n",
              "      <td>259</td>\n",
              "      <td>354</td>\n",
              "      <td>374</td>\n",
              "      <td>NaN</td>\n",
              "      <td>...</td>\n",
              "      <td>NaN</td>\n",
              "      <td>NaN</td>\n",
              "      <td>NaN</td>\n",
              "      <td>251</td>\n",
              "      <td>261</td>\n",
              "      <td>364</td>\n",
              "      <td>317</td>\n",
              "      <td>323</td>\n",
              "      <td>339</td>\n",
              "      <td>250</td>\n",
              "    </tr>\n",
              "    <tr>\n",
              "      <th>mean</th>\n",
              "      <td>51.483376</td>\n",
              "      <td>76.469072</td>\n",
              "      <td>NaN</td>\n",
              "      <td>NaN</td>\n",
              "      <td>NaN</td>\n",
              "      <td>NaN</td>\n",
              "      <td>NaN</td>\n",
              "      <td>NaN</td>\n",
              "      <td>NaN</td>\n",
              "      <td>148.036517</td>\n",
              "      <td>...</td>\n",
              "      <td>38.884498</td>\n",
              "      <td>8406.122449</td>\n",
              "      <td>4.707435</td>\n",
              "      <td>NaN</td>\n",
              "      <td>NaN</td>\n",
              "      <td>NaN</td>\n",
              "      <td>NaN</td>\n",
              "      <td>NaN</td>\n",
              "      <td>NaN</td>\n",
              "      <td>NaN</td>\n",
              "    </tr>\n",
              "    <tr>\n",
              "      <th>std</th>\n",
              "      <td>17.169714</td>\n",
              "      <td>13.683637</td>\n",
              "      <td>NaN</td>\n",
              "      <td>NaN</td>\n",
              "      <td>NaN</td>\n",
              "      <td>NaN</td>\n",
              "      <td>NaN</td>\n",
              "      <td>NaN</td>\n",
              "      <td>NaN</td>\n",
              "      <td>79.281714</td>\n",
              "      <td>...</td>\n",
              "      <td>8.990105</td>\n",
              "      <td>2944.474190</td>\n",
              "      <td>1.025323</td>\n",
              "      <td>NaN</td>\n",
              "      <td>NaN</td>\n",
              "      <td>NaN</td>\n",
              "      <td>NaN</td>\n",
              "      <td>NaN</td>\n",
              "      <td>NaN</td>\n",
              "      <td>NaN</td>\n",
              "    </tr>\n",
              "    <tr>\n",
              "      <th>min</th>\n",
              "      <td>2.000000</td>\n",
              "      <td>50.000000</td>\n",
              "      <td>NaN</td>\n",
              "      <td>NaN</td>\n",
              "      <td>NaN</td>\n",
              "      <td>NaN</td>\n",
              "      <td>NaN</td>\n",
              "      <td>NaN</td>\n",
              "      <td>NaN</td>\n",
              "      <td>22.000000</td>\n",
              "      <td>...</td>\n",
              "      <td>9.000000</td>\n",
              "      <td>2200.000000</td>\n",
              "      <td>2.100000</td>\n",
              "      <td>NaN</td>\n",
              "      <td>NaN</td>\n",
              "      <td>NaN</td>\n",
              "      <td>NaN</td>\n",
              "      <td>NaN</td>\n",
              "      <td>NaN</td>\n",
              "      <td>NaN</td>\n",
              "    </tr>\n",
              "    <tr>\n",
              "      <th>25%</th>\n",
              "      <td>42.000000</td>\n",
              "      <td>70.000000</td>\n",
              "      <td>NaN</td>\n",
              "      <td>NaN</td>\n",
              "      <td>NaN</td>\n",
              "      <td>NaN</td>\n",
              "      <td>NaN</td>\n",
              "      <td>NaN</td>\n",
              "      <td>NaN</td>\n",
              "      <td>99.000000</td>\n",
              "      <td>...</td>\n",
              "      <td>32.000000</td>\n",
              "      <td>6500.000000</td>\n",
              "      <td>3.900000</td>\n",
              "      <td>NaN</td>\n",
              "      <td>NaN</td>\n",
              "      <td>NaN</td>\n",
              "      <td>NaN</td>\n",
              "      <td>NaN</td>\n",
              "      <td>NaN</td>\n",
              "      <td>NaN</td>\n",
              "    </tr>\n",
              "    <tr>\n",
              "      <th>50%</th>\n",
              "      <td>55.000000</td>\n",
              "      <td>80.000000</td>\n",
              "      <td>NaN</td>\n",
              "      <td>NaN</td>\n",
              "      <td>NaN</td>\n",
              "      <td>NaN</td>\n",
              "      <td>NaN</td>\n",
              "      <td>NaN</td>\n",
              "      <td>NaN</td>\n",
              "      <td>121.000000</td>\n",
              "      <td>...</td>\n",
              "      <td>40.000000</td>\n",
              "      <td>8000.000000</td>\n",
              "      <td>4.800000</td>\n",
              "      <td>NaN</td>\n",
              "      <td>NaN</td>\n",
              "      <td>NaN</td>\n",
              "      <td>NaN</td>\n",
              "      <td>NaN</td>\n",
              "      <td>NaN</td>\n",
              "      <td>NaN</td>\n",
              "    </tr>\n",
              "    <tr>\n",
              "      <th>75%</th>\n",
              "      <td>64.500000</td>\n",
              "      <td>80.000000</td>\n",
              "      <td>NaN</td>\n",
              "      <td>NaN</td>\n",
              "      <td>NaN</td>\n",
              "      <td>NaN</td>\n",
              "      <td>NaN</td>\n",
              "      <td>NaN</td>\n",
              "      <td>NaN</td>\n",
              "      <td>163.000000</td>\n",
              "      <td>...</td>\n",
              "      <td>45.000000</td>\n",
              "      <td>9800.000000</td>\n",
              "      <td>5.400000</td>\n",
              "      <td>NaN</td>\n",
              "      <td>NaN</td>\n",
              "      <td>NaN</td>\n",
              "      <td>NaN</td>\n",
              "      <td>NaN</td>\n",
              "      <td>NaN</td>\n",
              "      <td>NaN</td>\n",
              "    </tr>\n",
              "    <tr>\n",
              "      <th>max</th>\n",
              "      <td>90.000000</td>\n",
              "      <td>180.000000</td>\n",
              "      <td>NaN</td>\n",
              "      <td>NaN</td>\n",
              "      <td>NaN</td>\n",
              "      <td>NaN</td>\n",
              "      <td>NaN</td>\n",
              "      <td>NaN</td>\n",
              "      <td>NaN</td>\n",
              "      <td>490.000000</td>\n",
              "      <td>...</td>\n",
              "      <td>54.000000</td>\n",
              "      <td>26400.000000</td>\n",
              "      <td>8.000000</td>\n",
              "      <td>NaN</td>\n",
              "      <td>NaN</td>\n",
              "      <td>NaN</td>\n",
              "      <td>NaN</td>\n",
              "      <td>NaN</td>\n",
              "      <td>NaN</td>\n",
              "      <td>NaN</td>\n",
              "    </tr>\n",
              "  </tbody>\n",
              "</table>\n",
              "<p>11 rows × 25 columns</p>\n",
              "</div>"
            ],
            "text/plain": [
              "               age          bp    sg   al   su     rbc      pc         pcc  \\\n",
              "count   391.000000  388.000000   400  400  400     400     400         400   \n",
              "unique         NaN         NaN     6    7    7       3       3           3   \n",
              "top            NaN         NaN  1.02    0    0  normal  normal  notpresent   \n",
              "freq           NaN         NaN   106  199  290     201     259         354   \n",
              "mean     51.483376   76.469072   NaN  NaN  NaN     NaN     NaN         NaN   \n",
              "std      17.169714   13.683637   NaN  NaN  NaN     NaN     NaN         NaN   \n",
              "min       2.000000   50.000000   NaN  NaN  NaN     NaN     NaN         NaN   \n",
              "25%      42.000000   70.000000   NaN  NaN  NaN     NaN     NaN         NaN   \n",
              "50%      55.000000   80.000000   NaN  NaN  NaN     NaN     NaN         NaN   \n",
              "75%      64.500000   80.000000   NaN  NaN  NaN     NaN     NaN         NaN   \n",
              "max      90.000000  180.000000   NaN  NaN  NaN     NaN     NaN         NaN   \n",
              "\n",
              "                ba         bgr  ...         pcv          wbcc        rbcc  \\\n",
              "count          400  356.000000  ...  329.000000    294.000000  269.000000   \n",
              "unique           3         NaN  ...         NaN           NaN         NaN   \n",
              "top     notpresent         NaN  ...         NaN           NaN         NaN   \n",
              "freq           374         NaN  ...         NaN           NaN         NaN   \n",
              "mean           NaN  148.036517  ...   38.884498   8406.122449    4.707435   \n",
              "std            NaN   79.281714  ...    8.990105   2944.474190    1.025323   \n",
              "min            NaN   22.000000  ...    9.000000   2200.000000    2.100000   \n",
              "25%            NaN   99.000000  ...   32.000000   6500.000000    3.900000   \n",
              "50%            NaN  121.000000  ...   40.000000   8000.000000    4.800000   \n",
              "75%            NaN  163.000000  ...   45.000000   9800.000000    5.400000   \n",
              "max            NaN  490.000000  ...   54.000000  26400.000000    8.000000   \n",
              "\n",
              "        htn   dm  cad  appet   pe  ane class  \n",
              "count   400  400  400    400  400  400   400  \n",
              "unique    3    3    3      3    3    3     2  \n",
              "top      no   no   no   good   no   no   ckd  \n",
              "freq    251  261  364    317  323  339   250  \n",
              "mean    NaN  NaN  NaN    NaN  NaN  NaN   NaN  \n",
              "std     NaN  NaN  NaN    NaN  NaN  NaN   NaN  \n",
              "min     NaN  NaN  NaN    NaN  NaN  NaN   NaN  \n",
              "25%     NaN  NaN  NaN    NaN  NaN  NaN   NaN  \n",
              "50%     NaN  NaN  NaN    NaN  NaN  NaN   NaN  \n",
              "75%     NaN  NaN  NaN    NaN  NaN  NaN   NaN  \n",
              "max     NaN  NaN  NaN    NaN  NaN  NaN   NaN  \n",
              "\n",
              "[11 rows x 25 columns]"
            ]
          },
          "execution_count": 35,
          "metadata": {},
          "output_type": "execute_result"
        }
      ],
      "source": [
        "# We use back the ckd_data demo dataset for this section\n",
        "# Describe this dataset across all columns\n",
        "ckd_data.describe(include='all')"
      ]
    },
    {
      "cell_type": "code",
      "execution_count": 36,
      "metadata": {
        "colab": {
          "base_uri": "https://localhost:8080/"
        },
        "id": "jLm1Z2vn47um",
        "outputId": "6bb5c29d-231d-47fb-d537-5bfffc0d8397"
      },
      "outputs": [
        {
          "name": "stdout",
          "output_type": "stream",
          "text": [
            "age_binned\n",
            "0-10      10\n",
            "11-20     11\n",
            "21-30     23\n",
            "31-40     43\n",
            "41-50     71\n",
            "51-60     91\n",
            "61-70     96\n",
            "71-80     47\n",
            "81-90      7\n",
            "91-100     1\n",
            "Name: count, dtype: int64\n"
          ]
        },
        {
          "name": "stderr",
          "output_type": "stream",
          "text": [
            "C:\\Users\\gmslasws\\AppData\\Local\\Temp\\ipykernel_21480\\1295151039.py:3: FutureWarning: A value is trying to be set on a copy of a DataFrame or Series through chained assignment using an inplace method.\n",
            "The behavior will change in pandas 3.0. This inplace method will never work because the intermediate object on which we are setting values always behaves as a copy.\n",
            "\n",
            "For example, when doing 'df[col].method(value, inplace=True)', try using 'df.method({col: value}, inplace=True)' or df[col] = df[col].method(value) instead, to perform the operation inplace on the original object.\n",
            "\n",
            "\n",
            "  ckd_data['age'].fillna(median_age, inplace=True)\n"
          ]
        }
      ],
      "source": [
        "# Handle non-numeric 'age' values (e.g., fill with median age)\n",
        "median_age = ckd_data['age'].median()\n",
        "ckd_data['age'].fillna(median_age, inplace=True)\n",
        "\n",
        "# Define age bins\n",
        "age_bins = [0, 10, 20, 30, 40, 50, 60, 70, 80, 90, 100]\n",
        "age_labels = ['0-10', '11-20', '21-30', '31-40', '41-50', '51-60', '61-70', '71-80', '81-90', '91-100']\n",
        "\n",
        "# Bin the 'age' column\n",
        "ckd_data['age_binned'] = pd.cut(ckd_data['age'], bins=age_bins, labels=age_labels, right=False)\n",
        "\n",
        "# Summarize frequency counts\n",
        "age_bin_counts = ckd_data['age_binned'].value_counts().sort_index()\n",
        "print(age_bin_counts)"
      ]
    },
    {
      "cell_type": "code",
      "execution_count": 37,
      "metadata": {
        "colab": {
          "base_uri": "https://localhost:8080/",
          "height": 595
        },
        "id": "Nd4Pyin147um",
        "outputId": "a1fe8337-e06c-45ce-c39d-20606d7969c2"
      },
      "outputs": [
        {
          "data": {
            "image/png": "[encoded data removed]",
            "text/plain": [
              "<Figure size 1000x600 with 1 Axes>"
            ]
          },
          "metadata": {},
          "output_type": "display_data"
        }
      ],
      "source": [
        "import matplotlib.pyplot as plt\n",
        "# Plot histogram\n",
        "plt.figure(figsize=(10, 6))\n",
        "age_bin_counts.plot(kind='bar')\n",
        "plt.xlabel('Age Bins')\n",
        "plt.ylabel('Frequency')\n",
        "plt.title('Age Distribution in Bins')\n",
        "plt.xticks(rotation=45)\n",
        "plt.show()\n"
      ]
    },
    {
      "cell_type": "markdown",
      "metadata": {
        "id": "Eo1LwzGW47um"
      },
      "source": [
        "# 3.2 Use of GroupBy function for Data Summarization"
      ]
    },
    {
      "cell_type": "code",
      "execution_count": 38,
      "metadata": {
        "colab": {
          "base_uri": "https://localhost:8080/"
        },
        "id": "ybVEDJwd47um",
        "outputId": "8223dd84-2493-4ff1-ea67-79fc66e2c9ee"
      },
      "outputs": [
        {
          "data": {
            "text/plain": [
              "Index(['index', 'age', 'bp', 'sg', 'al', 'su', 'rbc', 'pc', 'pcc', 'ba', 'bgr',\n",
              "       'bu', 'sc', 'sod', 'pot', 'hemo', 'pcv', 'wbcc', 'rbcc', 'htn', 'dm',\n",
              "       'cad', 'appet', 'pe', 'ane', 'class', 'age_binned'],\n",
              "      dtype='object')"
            ]
          },
          "execution_count": 38,
          "metadata": {},
          "output_type": "execute_result"
        }
      ],
      "source": [
        "# add additional \"Index\" column in the dataframe to represent a unique row index\n",
        "ckd_data.reset_index(inplace=True)\n",
        "ckd_data.columns"
      ]
    },
    {
      "cell_type": "code",
      "execution_count": 39,
      "metadata": {
        "colab": {
          "base_uri": "https://localhost:8080/",
          "height": 235
        },
        "id": "BfQ-rMKb47um",
        "outputId": "90521089-5528-4a41-d904-e79ceec1e475"
      },
      "outputs": [
        {
          "data": {
            "application/vnd.microsoft.datawrangler.viewer.v0+json": {
              "columns": [
                {
                  "name": "index",
                  "rawType": "int64",
                  "type": "integer"
                },
                {
                  "name": "index",
                  "rawType": "int64",
                  "type": "integer"
                },
                {
                  "name": "age",
                  "rawType": "float64",
                  "type": "float"
                },
                {
                  "name": "bp",
                  "rawType": "float64",
                  "type": "float"
                },
                {
                  "name": "sg",
                  "rawType": "object",
                  "type": "string"
                },
                {
                  "name": "al",
                  "rawType": "object",
                  "type": "string"
                },
                {
                  "name": "su",
                  "rawType": "object",
                  "type": "string"
                },
                {
                  "name": "rbc",
                  "rawType": "object",
                  "type": "string"
                },
                {
                  "name": "pc",
                  "rawType": "object",
                  "type": "string"
                },
                {
                  "name": "pcc",
                  "rawType": "object",
                  "type": "string"
                },
                {
                  "name": "ba",
                  "rawType": "object",
                  "type": "string"
                },
                {
                  "name": "bgr",
                  "rawType": "float64",
                  "type": "float"
                },
                {
                  "name": "bu",
                  "rawType": "float64",
                  "type": "float"
                },
                {
                  "name": "sc",
                  "rawType": "float64",
                  "type": "float"
                },
                {
                  "name": "sod",
                  "rawType": "float64",
                  "type": "float"
                },
                {
                  "name": "pot",
                  "rawType": "float64",
                  "type": "float"
                },
                {
                  "name": "hemo",
                  "rawType": "float64",
                  "type": "float"
                },
                {
                  "name": "pcv",
                  "rawType": "float64",
                  "type": "float"
                },
                {
                  "name": "wbcc",
                  "rawType": "float64",
                  "type": "float"
                },
                {
                  "name": "rbcc",
                  "rawType": "float64",
                  "type": "float"
                },
                {
                  "name": "htn",
                  "rawType": "object",
                  "type": "string"
                },
                {
                  "name": "dm",
                  "rawType": "object",
                  "type": "string"
                },
                {
                  "name": "cad",
                  "rawType": "object",
                  "type": "string"
                },
                {
                  "name": "appet",
                  "rawType": "object",
                  "type": "string"
                },
                {
                  "name": "pe",
                  "rawType": "object",
                  "type": "string"
                },
                {
                  "name": "ane",
                  "rawType": "object",
                  "type": "string"
                },
                {
                  "name": "class",
                  "rawType": "object",
                  "type": "string"
                },
                {
                  "name": "age_binned",
                  "rawType": "category",
                  "type": "unknown"
                }
              ],
              "ref": "6085ca4b-56d6-46a9-86da-0b0c837f80a1",
              "rows": [
                [
                  "0",
                  "0",
                  "48.0",
                  "80.0",
                  "1.02",
                  "1",
                  "0",
                  "?",
                  "normal",
                  "notpresent",
                  "notpresent",
                  "121.0",
                  "36.0",
                  "1.2",
                  null,
                  null,
                  "15.4",
                  "44.0",
                  "7800.0",
                  "5.2",
                  "yes",
                  "yes",
                  "no",
                  "good",
                  "no",
                  "no",
                  "ckd",
                  "41-50"
                ],
                [
                  "1",
                  "1",
                  "7.0",
                  "50.0",
                  "1.02",
                  "4",
                  "0",
                  "?",
                  "normal",
                  "notpresent",
                  "notpresent",
                  null,
                  "18.0",
                  "0.8",
                  null,
                  null,
                  "11.3",
                  "38.0",
                  "6000.0",
                  null,
                  "no",
                  "no",
                  "no",
                  "good",
                  "no",
                  "no",
                  "ckd",
                  "0-10"
                ],
                [
                  "2",
                  "2",
                  "62.0",
                  "80.0",
                  "1.01",
                  "2",
                  "3",
                  "normal",
                  "normal",
                  "notpresent",
                  "notpresent",
                  "423.0",
                  "53.0",
                  "1.8",
                  null,
                  null,
                  "9.6",
                  "31.0",
                  "7500.0",
                  null,
                  "no",
                  "yes",
                  "no",
                  "poor",
                  "no",
                  "yes",
                  "ckd",
                  "61-70"
                ],
                [
                  "3",
                  "3",
                  "48.0",
                  "70.0",
                  "1.005",
                  "4",
                  "0",
                  "normal",
                  "abnormal",
                  "present",
                  "notpresent",
                  "117.0",
                  "56.0",
                  "3.8",
                  "111.0",
                  "2.5",
                  "11.2",
                  "32.0",
                  "6700.0",
                  "3.9",
                  "yes",
                  "no",
                  "no",
                  "poor",
                  "yes",
                  "yes",
                  "ckd",
                  "41-50"
                ],
                [
                  "4",
                  "4",
                  "51.0",
                  "80.0",
                  "1.01",
                  "2",
                  "0",
                  "normal",
                  "normal",
                  "notpresent",
                  "notpresent",
                  "106.0",
                  "26.0",
                  "1.4",
                  null,
                  null,
                  "11.6",
                  "35.0",
                  "7300.0",
                  "4.6",
                  "no",
                  "no",
                  "no",
                  "good",
                  "no",
                  "no",
                  "ckd",
                  "51-60"
                ]
              ],
              "shape": {
                "columns": 27,
                "rows": 5
              }
            },
            "text/html": [
              "<div>\n",
              "<style scoped>\n",
              "    .dataframe tbody tr th:only-of-type {\n",
              "        vertical-align: middle;\n",
              "    }\n",
              "\n",
              "    .dataframe tbody tr th {\n",
              "        vertical-align: top;\n",
              "    }\n",
              "\n",
              "    .dataframe thead th {\n",
              "        text-align: right;\n",
              "    }\n",
              "</style>\n",
              "<table border=\"1\" class=\"dataframe\">\n",
              "  <thead>\n",
              "    <tr style=\"text-align: right;\">\n",
              "      <th></th>\n",
              "      <th>index</th>\n",
              "      <th>age</th>\n",
              "      <th>bp</th>\n",
              "      <th>sg</th>\n",
              "      <th>al</th>\n",
              "      <th>su</th>\n",
              "      <th>rbc</th>\n",
              "      <th>pc</th>\n",
              "      <th>pcc</th>\n",
              "      <th>ba</th>\n",
              "      <th>...</th>\n",
              "      <th>wbcc</th>\n",
              "      <th>rbcc</th>\n",
              "      <th>htn</th>\n",
              "      <th>dm</th>\n",
              "      <th>cad</th>\n",
              "      <th>appet</th>\n",
              "      <th>pe</th>\n",
              "      <th>ane</th>\n",
              "      <th>class</th>\n",
              "      <th>age_binned</th>\n",
              "    </tr>\n",
              "  </thead>\n",
              "  <tbody>\n",
              "    <tr>\n",
              "      <th>0</th>\n",
              "      <td>0</td>\n",
              "      <td>48.0</td>\n",
              "      <td>80.0</td>\n",
              "      <td>1.02</td>\n",
              "      <td>1</td>\n",
              "      <td>0</td>\n",
              "      <td>?</td>\n",
              "      <td>normal</td>\n",
              "      <td>notpresent</td>\n",
              "      <td>notpresent</td>\n",
              "      <td>...</td>\n",
              "      <td>7800.0</td>\n",
              "      <td>5.2</td>\n",
              "      <td>yes</td>\n",
              "      <td>yes</td>\n",
              "      <td>no</td>\n",
              "      <td>good</td>\n",
              "      <td>no</td>\n",
              "      <td>no</td>\n",
              "      <td>ckd</td>\n",
              "      <td>41-50</td>\n",
              "    </tr>\n",
              "    <tr>\n",
              "      <th>1</th>\n",
              "      <td>1</td>\n",
              "      <td>7.0</td>\n",
              "      <td>50.0</td>\n",
              "      <td>1.02</td>\n",
              "      <td>4</td>\n",
              "      <td>0</td>\n",
              "      <td>?</td>\n",
              "      <td>normal</td>\n",
              "      <td>notpresent</td>\n",
              "      <td>notpresent</td>\n",
              "      <td>...</td>\n",
              "      <td>6000.0</td>\n",
              "      <td>NaN</td>\n",
              "      <td>no</td>\n",
              "      <td>no</td>\n",
              "      <td>no</td>\n",
              "      <td>good</td>\n",
              "      <td>no</td>\n",
              "      <td>no</td>\n",
              "      <td>ckd</td>\n",
              "      <td>0-10</td>\n",
              "    </tr>\n",
              "    <tr>\n",
              "      <th>2</th>\n",
              "      <td>2</td>\n",
              "      <td>62.0</td>\n",
              "      <td>80.0</td>\n",
              "      <td>1.01</td>\n",
              "      <td>2</td>\n",
              "      <td>3</td>\n",
              "      <td>normal</td>\n",
              "      <td>normal</td>\n",
              "      <td>notpresent</td>\n",
              "      <td>notpresent</td>\n",
              "      <td>...</td>\n",
              "      <td>7500.0</td>\n",
              "      <td>NaN</td>\n",
              "      <td>no</td>\n",
              "      <td>yes</td>\n",
              "      <td>no</td>\n",
              "      <td>poor</td>\n",
              "      <td>no</td>\n",
              "      <td>yes</td>\n",
              "      <td>ckd</td>\n",
              "      <td>61-70</td>\n",
              "    </tr>\n",
              "    <tr>\n",
              "      <th>3</th>\n",
              "      <td>3</td>\n",
              "      <td>48.0</td>\n",
              "      <td>70.0</td>\n",
              "      <td>1.005</td>\n",
              "      <td>4</td>\n",
              "      <td>0</td>\n",
              "      <td>normal</td>\n",
              "      <td>abnormal</td>\n",
              "      <td>present</td>\n",
              "      <td>notpresent</td>\n",
              "      <td>...</td>\n",
              "      <td>6700.0</td>\n",
              "      <td>3.9</td>\n",
              "      <td>yes</td>\n",
              "      <td>no</td>\n",
              "      <td>no</td>\n",
              "      <td>poor</td>\n",
              "      <td>yes</td>\n",
              "      <td>yes</td>\n",
              "      <td>ckd</td>\n",
              "      <td>41-50</td>\n",
              "    </tr>\n",
              "    <tr>\n",
              "      <th>4</th>\n",
              "      <td>4</td>\n",
              "      <td>51.0</td>\n",
              "      <td>80.0</td>\n",
              "      <td>1.01</td>\n",
              "      <td>2</td>\n",
              "      <td>0</td>\n",
              "      <td>normal</td>\n",
              "      <td>normal</td>\n",
              "      <td>notpresent</td>\n",
              "      <td>notpresent</td>\n",
              "      <td>...</td>\n",
              "      <td>7300.0</td>\n",
              "      <td>4.6</td>\n",
              "      <td>no</td>\n",
              "      <td>no</td>\n",
              "      <td>no</td>\n",
              "      <td>good</td>\n",
              "      <td>no</td>\n",
              "      <td>no</td>\n",
              "      <td>ckd</td>\n",
              "      <td>51-60</td>\n",
              "    </tr>\n",
              "  </tbody>\n",
              "</table>\n",
              "<p>5 rows × 27 columns</p>\n",
              "</div>"
            ],
            "text/plain": [
              "   index   age    bp     sg al su     rbc        pc         pcc          ba  \\\n",
              "0      0  48.0  80.0   1.02  1  0       ?    normal  notpresent  notpresent   \n",
              "1      1   7.0  50.0   1.02  4  0       ?    normal  notpresent  notpresent   \n",
              "2      2  62.0  80.0   1.01  2  3  normal    normal  notpresent  notpresent   \n",
              "3      3  48.0  70.0  1.005  4  0  normal  abnormal     present  notpresent   \n",
              "4      4  51.0  80.0   1.01  2  0  normal    normal  notpresent  notpresent   \n",
              "\n",
              "   ...    wbcc  rbcc  htn   dm  cad  appet   pe  ane  class age_binned  \n",
              "0  ...  7800.0   5.2  yes  yes   no   good   no   no    ckd      41-50  \n",
              "1  ...  6000.0   NaN   no   no   no   good   no   no    ckd       0-10  \n",
              "2  ...  7500.0   NaN   no  yes   no   poor   no  yes    ckd      61-70  \n",
              "3  ...  6700.0   3.9  yes   no   no   poor  yes  yes    ckd      41-50  \n",
              "4  ...  7300.0   4.6   no   no   no   good   no   no    ckd      51-60  \n",
              "\n",
              "[5 rows x 27 columns]"
            ]
          },
          "execution_count": 39,
          "metadata": {},
          "output_type": "execute_result"
        }
      ],
      "source": [
        "ckd_data.head()"
      ]
    },
    {
      "cell_type": "code",
      "execution_count": 40,
      "metadata": {
        "colab": {
          "base_uri": "https://localhost:8080/"
        },
        "id": "V6C3WH7v47um",
        "outputId": "59594782-6fcc-4df3-da3d-a63192d0c9f8"
      },
      "outputs": [
        {
          "name": "stdout",
          "output_type": "stream",
          "text": [
            "\n",
            "Data type of grouped:\n",
            "<class 'pandas.core.groupby.generic.DataFrameGroupBy'>\n",
            "\n",
            "Group: 0-10\n",
            "     index  age    bp     sg al su     rbc      pc         pcc          ba  \\\n",
            "1        1  7.0  50.0   1.02  4  0       ?  normal  notpresent  notpresent   \n",
            "75      75  5.0   NaN  1.015  1  0       ?  normal  notpresent  notpresent   \n",
            "131    131  5.0  50.0   1.01  0  0       ?  normal  notpresent  notpresent   \n",
            "150    150  8.0  60.0  1.025  3  0  normal  normal  notpresent  notpresent   \n",
            "185    185  4.0   NaN   1.02  1  0       ?  normal  notpresent  notpresent   \n",
            "\n",
            "     ...     wbcc  rbcc  htn  dm  cad  appet   pe  ane  class age_binned  \n",
            "1    ...   6000.0   NaN   no  no   no   good   no   no    ckd       0-10  \n",
            "75   ...      NaN   NaN   no  no   no   good   no  yes    ckd       0-10  \n",
            "131  ...  12400.0   NaN   no  no   no   good   no   no    ckd       0-10  \n",
            "150  ...   6700.0   NaN   no  no   no   poor  yes   no    ckd       0-10  \n",
            "185  ...      NaN   NaN   no  no   no   good   no   no    ckd       0-10  \n",
            "\n",
            "[5 rows x 27 columns]\n",
            "\n",
            "Group: 11-20\n",
            "     index   age    bp     sg al su       rbc        pc         pcc  \\\n",
            "47      47  11.0  80.0   1.01  3  0         ?    normal  notpresent   \n",
            "62      62  15.0  60.0   1.02  3  0         ?    normal  notpresent   \n",
            "102    102  17.0  60.0   1.01  0  0         ?    normal  notpresent   \n",
            "114    114  12.0  60.0  1.015  3  0  abnormal  abnormal     present   \n",
            "164    164  14.0   NaN  1.015  0  0         ?         ?  notpresent   \n",
            "\n",
            "             ba  ...     wbcc  rbcc  htn   dm  cad  appet   pe  ane  class  \\\n",
            "47   notpresent  ...   8600.0   NaN   no   no   no   good   no   no    ckd   \n",
            "62   notpresent  ...   7700.0   3.8  yes  yes   no   good   no   no    ckd   \n",
            "102  notpresent  ...   7000.0   NaN   no   no   no   good   no   no    ckd   \n",
            "114  notpresent  ...  10300.0   NaN   no   no   no   good   no   no    ckd   \n",
            "164  notpresent  ...   9500.0   5.4   no  yes   no   poor  yes   no    ckd   \n",
            "\n",
            "    age_binned  \n",
            "47       11-20  \n",
            "62       11-20  \n",
            "102      11-20  \n",
            "114      11-20  \n",
            "164      11-20  \n",
            "\n",
            "[5 rows x 27 columns]\n",
            "\n",
            "Group: 21-30\n",
            "     index   age    bp     sg al su     rbc        pc         pcc          ba  \\\n",
            "7        7  24.0   NaN  1.015  2  4  normal  abnormal  notpresent  notpresent   \n",
            "23      23  21.0  70.0   1.01  0  0       ?    normal  notpresent  notpresent   \n",
            "69      69  26.0  70.0  1.015  0  4       ?    normal  notpresent  notpresent   \n",
            "166    166  27.0  60.0      ?  ?  ?       ?         ?  notpresent  notpresent   \n",
            "176    176  21.0  90.0   1.01  4  0  normal  abnormal     present     present   \n",
            "\n",
            "     ...     wbcc  rbcc  htn   dm  cad  appet   pe  ane  class age_binned  \n",
            "7    ...   6900.0   5.0   no  yes   no   good  yes   no    ckd      21-30  \n",
            "23   ...      NaN   NaN   no   no   no   poor   no  yes    ckd      21-30  \n",
            "69   ...   6900.0   6.0   no  yes   no   good   no   no    ckd      21-30  \n",
            "166  ...      NaN   NaN   no   no   no   poor  yes  yes    ckd      21-30  \n",
            "176  ...  12400.0   3.9   no   no   no   good   no  yes    ckd      21-30  \n",
            "\n",
            "[5 rows x 27 columns]\n",
            "\n",
            "Group: 31-40\n",
            "     index   age    bp     sg al su       rbc        pc         pcc  \\\n",
            "43      43  35.0  80.0   1.01  1  0  abnormal         ?  notpresent   \n",
            "55      55  35.0  80.0  1.005  3  0  abnormal    normal  notpresent   \n",
            "82      82  38.0  70.0      ?  ?  ?         ?         ?  notpresent   \n",
            "100    100  34.0  70.0  1.015  4  0  abnormal  abnormal  notpresent   \n",
            "122    122  34.0  70.0      ?  ?  ?         ?         ?  notpresent   \n",
            "\n",
            "             ba  ...    wbcc  rbcc  htn   dm  cad  appet   pe  ane  class  \\\n",
            "43   notpresent  ...  7900.0   3.1   no  yes   no   good   no   no    ckd   \n",
            "55   notpresent  ...     NaN   NaN   no   no   no   good  yes   no    ckd   \n",
            "82   notpresent  ...     NaN   NaN  yes   no   no   poor  yes   no    ckd   \n",
            "100  notpresent  ...     NaN   NaN   no   no   no   good  yes   no    ckd   \n",
            "122  notpresent  ...     NaN   NaN  yes   no   no   good   no  yes    ckd   \n",
            "\n",
            "    age_binned  \n",
            "43       31-40  \n",
            "55       31-40  \n",
            "82       31-40  \n",
            "100      31-40  \n",
            "122      31-40  \n",
            "\n",
            "[5 rows x 27 columns]\n",
            "\n",
            "Group: 41-50\n",
            "    index   age    bp     sg al su     rbc        pc         pcc          ba  \\\n",
            "0       0  48.0  80.0   1.02  1  0       ?    normal  notpresent  notpresent   \n",
            "3       3  48.0  70.0  1.005  4  0  normal  abnormal     present  notpresent   \n",
            "15     15  40.0  80.0  1.015  3  0       ?    normal  notpresent  notpresent   \n",
            "16     16  47.0  70.0  1.015  2  0       ?    normal  notpresent  notpresent   \n",
            "17     17  47.0  80.0      ?  ?  ?       ?         ?  notpresent  notpresent   \n",
            "\n",
            "    ...    wbcc  rbcc  htn   dm  cad  appet   pe  ane  class age_binned  \n",
            "0   ...  7800.0   5.2  yes  yes   no   good   no   no    ckd      41-50  \n",
            "3   ...  6700.0   3.9  yes   no   no   poor  yes  yes    ckd      41-50  \n",
            "15  ...  3800.0   2.8  yes   no   no   good   no  yes    ckd      41-50  \n",
            "16  ...     NaN   NaN   no   no   no   good   no   no    ckd      41-50  \n",
            "17  ...     NaN   NaN  yes   no   no   poor   no   no    ckd      41-50  \n",
            "\n",
            "[5 rows x 27 columns]\n",
            "\n",
            "Group: 51-60\n",
            "    index   age     bp     sg al su       rbc        pc         pcc  \\\n",
            "4       4  51.0   80.0   1.01  2  0    normal    normal  notpresent   \n",
            "8       8  52.0  100.0  1.015  3  0    normal  abnormal     present   \n",
            "9       9  53.0   90.0   1.02  2  0  abnormal  abnormal     present   \n",
            "10     10  50.0   60.0   1.01  2  4         ?  abnormal     present   \n",
            "30     30  55.0   70.0      ?  ?  ?         ?         ?  notpresent   \n",
            "\n",
            "            ba  ...     wbcc  rbcc  htn   dm  cad  appet  pe  ane  class  \\\n",
            "4   notpresent  ...   7300.0   4.6   no   no   no   good  no   no    ckd   \n",
            "8   notpresent  ...   9600.0   4.0  yes  yes   no   good  no  yes    ckd   \n",
            "9   notpresent  ...  12100.0   3.7  yes  yes   no   poor  no  yes    ckd   \n",
            "10  notpresent  ...      NaN   NaN  yes  yes   no   good  no  yes    ckd   \n",
            "30  notpresent  ...      NaN   NaN  yes  yes   no   good  no   no    ckd   \n",
            "\n",
            "   age_binned  \n",
            "4       51-60  \n",
            "8       51-60  \n",
            "9       51-60  \n",
            "10      51-60  \n",
            "30      51-60  \n",
            "\n",
            "[5 rows x 27 columns]\n",
            "\n",
            "Group: 61-70\n",
            "    index   age    bp     sg al su       rbc        pc         pcc  \\\n",
            "2       2  62.0  80.0   1.01  2  3    normal    normal  notpresent   \n",
            "5       5  60.0  90.0  1.015  3  0         ?         ?  notpresent   \n",
            "6       6  68.0  70.0   1.01  0  0         ?    normal  notpresent   \n",
            "11     11  63.0  70.0   1.01  3  0  abnormal  abnormal     present   \n",
            "12     12  68.0  70.0  1.015  3  1         ?    normal     present   \n",
            "\n",
            "            ba  ...     wbcc  rbcc  htn   dm  cad  appet   pe  ane  class  \\\n",
            "2   notpresent  ...   7500.0   NaN   no  yes   no   poor   no  yes    ckd   \n",
            "5   notpresent  ...   7800.0   4.4  yes  yes   no   good  yes   no    ckd   \n",
            "6   notpresent  ...      NaN   NaN   no   no   no   good   no   no    ckd   \n",
            "11  notpresent  ...   4500.0   3.8  yes  yes   no   poor  yes   no    ckd   \n",
            "12  notpresent  ...  12200.0   3.4  yes  yes  yes   poor  yes   no    ckd   \n",
            "\n",
            "   age_binned  \n",
            "2       61-70  \n",
            "5       61-70  \n",
            "6       61-70  \n",
            "11      61-70  \n",
            "12      61-70  \n",
            "\n",
            "[5 rows x 27 columns]\n",
            "\n",
            "Group: 71-80\n",
            "    index   age    bp     sg al su     rbc        pc         pcc          ba  \\\n",
            "26     26  75.0  80.0  1.015  0  0       ?    normal  notpresent  notpresent   \n",
            "28     28  75.0  70.0      ?  1  3       ?         ?  notpresent  notpresent   \n",
            "31     31  73.0  90.0  1.015  3  0       ?  abnormal     present  notpresent   \n",
            "34     34  70.0  70.0   1.01  1  0  normal         ?     present     present   \n",
            "36     36  76.0  70.0  1.015  1  0  normal    normal  notpresent  notpresent   \n",
            "\n",
            "    ...     wbcc  rbcc  htn   dm  cad  appet  pe  ane  class age_binned  \n",
            "26  ...  10300.0   4.0  yes  yes   no   poor  no   no    ckd      71-80  \n",
            "28  ...      NaN   NaN   no  yes   no   good  no   no    ckd      71-80  \n",
            "31  ...   7800.0   4.0   no   no   no   poor  no   no    ckd      71-80  \n",
            "34  ...      NaN   NaN   no  yes   no   poor  no   no    ckd      71-80  \n",
            "36  ...      NaN   NaN  yes   no   no   good  no   no    ckd      71-80  \n",
            "\n",
            "[5 rows x 27 columns]\n",
            "\n",
            "Group: 81-90\n",
            "     index   age    bp     sg al su     rbc        pc         pcc          ba  \\\n",
            "39      39  82.0  80.0   1.01  2  2  normal         ?  notpresent  notpresent   \n",
            "160    160  81.0  60.0      ?  ?  ?       ?         ?  notpresent  notpresent   \n",
            "171    171  83.0  70.0   1.02  3  0  normal    normal  notpresent  notpresent   \n",
            "194    194  80.0  70.0   1.01  2  ?       ?  abnormal  notpresent  notpresent   \n",
            "237    237  80.0  70.0  1.015  2  2       ?    normal  notpresent  notpresent   \n",
            "\n",
            "     ...     wbcc  rbcc  htn   dm  cad  appet   pe  ane  class age_binned  \n",
            "39   ...   9800.0   4.2  yes  yes   no   good   no   no    ckd      81-90  \n",
            "160  ...   9400.0   2.4  yes  yes  yes   poor  yes   no    ckd      81-90  \n",
            "171  ...  12800.0   3.1  yes   no   no   poor   no  yes    ckd      81-90  \n",
            "194  ...      NaN   NaN  yes  yes   no   good   no   no    ckd      81-90  \n",
            "237  ...   9600.0   NaN  yes  yes   no   poor  yes   no    ckd      81-90  \n",
            "\n",
            "[5 rows x 27 columns]\n",
            "\n",
            "Group: 91-100\n",
            "     index   age    bp     sg al su rbc      pc         pcc          ba  ...  \\\n",
            "200    200  90.0  90.0  1.025  1  0   ?  normal  notpresent  notpresent  ...   \n",
            "\n",
            "       wbcc  rbcc  htn   dm  cad  appet  pe  ane  class age_binned  \n",
            "200  7900.0   3.9  yes  yes   no   good  no   no    ckd     91-100  \n",
            "\n",
            "[1 rows x 27 columns]\n"
          ]
        },
        {
          "name": "stderr",
          "output_type": "stream",
          "text": [
            "C:\\Users\\gmslasws\\AppData\\Local\\Temp\\ipykernel_21480\\2959414671.py:3: FutureWarning: The default of observed=False is deprecated and will be changed to True in a future version of pandas. Pass observed=False to retain current behavior or observed=True to adopt the future default and silence this warning.\n",
            "  grouped = ckd_data.groupby('age_binned')\n"
          ]
        }
      ],
      "source": [
        "# When you perform a groupby operation on a DataFrame, it creates a DataFrameGroupBy object.\n",
        "# This object is essentially a collection of DataFrames, where each DataFrame corresponds to a group defined by the values in the specified column.\n",
        "grouped = ckd_data.groupby('age_binned')\n",
        "# Display the data type of the grouped object\n",
        "print(\"\\nData type of grouped:\")\n",
        "print(type(grouped))\n",
        "\n",
        "# Iterate over the groups\n",
        "for name, group in grouped:\n",
        "    print(f\"\\nGroup: {name}\")\n",
        "    print(group.head())  # Display the first few rows of each group\n"
      ]
    },
    {
      "cell_type": "code",
      "execution_count": 41,
      "metadata": {
        "colab": {
          "base_uri": "https://localhost:8080/"
        },
        "id": "PoQA8l_N47um",
        "outputId": "30c6f064-37ec-46bd-f726-b5c33221841a"
      },
      "outputs": [
        {
          "name": "stdout",
          "output_type": "stream",
          "text": [
            "\n",
            "Number of unique patients by age bins:\n",
            "age_binned\n",
            "0-10      10\n",
            "11-20     11\n",
            "21-30     23\n",
            "31-40     43\n",
            "41-50     71\n",
            "51-60     91\n",
            "61-70     96\n",
            "71-80     47\n",
            "81-90      7\n",
            "91-100     1\n",
            "dtype: int64\n"
          ]
        },
        {
          "name": "stderr",
          "output_type": "stream",
          "text": [
            "C:\\Users\\gmslasws\\AppData\\Local\\Temp\\ipykernel_21480\\2181612896.py:2: FutureWarning: The default of observed=False is deprecated and will be changed to True in a future version of pandas. Pass observed=False to retain current behavior or observed=True to adopt the future default and silence this warning.\n",
            "  age_group_counts = ckd_data.groupby('age_binned').size()\n"
          ]
        }
      ],
      "source": [
        "# Function size() is performed on the collection of Dataframes in the DataFrameGroupBy object to find the number of rows in each group\n",
        "age_group_counts = ckd_data.groupby('age_binned').size()\n",
        "\n",
        "# Display the summary statistics\n",
        "print(\"\\nNumber of unique patients by age bins:\")\n",
        "print(age_group_counts)\n",
        "\n"
      ]
    },
    {
      "cell_type": "code",
      "execution_count": 42,
      "metadata": {
        "colab": {
          "base_uri": "https://localhost:8080/"
        },
        "id": "93DFjrn347un",
        "outputId": "b04a5069-64c1-45ad-cf9e-a1a2af595636"
      },
      "outputs": [
        {
          "name": "stdout",
          "output_type": "stream",
          "text": [
            "\n",
            "Summary statistics by age bins:\n",
            "               mean_wbcc  normal_pc_count  abnormal_pc_count  unknown_pc_count\n",
            "age_binned                                                                    \n",
            "0-10        10820.000000                7                  2                 1\n",
            "11-20        8120.000000                9                  1                 1\n",
            "21-30        7365.000000               20                  2                 1\n",
            "31-40        7278.787879               37                  2                 4\n",
            "41-50        8128.571429               51                 14                 6\n",
            "51-60        8548.529412               49                 23                19\n",
            "61-70        8891.044776               59                 20                17\n",
            "71-80        9125.000000               22                 11                14\n",
            "81-90        8833.333333                4                  1                 2\n",
            "91-100       7900.000000                1                  0                 0\n"
          ]
        },
        {
          "name": "stderr",
          "output_type": "stream",
          "text": [
            "C:\\Users\\gmslasws\\AppData\\Local\\Temp\\ipykernel_21480\\1672090990.py:5: FutureWarning: The default of observed=False is deprecated and will be changed to True in a future version of pandas. Pass observed=False to retain current behavior or observed=True to adopt the future default and silence this warning.\n",
            "  age_group_full_summary = ckd_data.groupby('age_binned').agg(\n"
          ]
        }
      ],
      "source": [
        "# You can also get other summary statistics like count, min, max, etc for individual categorical and continuous columns\n",
        "# Aggregate by the mean of wbcc and the count of pc across its categories ('normal', 'abnormal', and '?'):\n",
        "# you can use the agg method with custom aggregation functions. Here’s how you can do it: Group by age_binned -> Aggregate Mean of wbcc -> Count pc Categories:\n",
        "# Use the value_counts method within a custom aggregation function to count the occurrences of each category in pc.\n",
        "age_group_full_summary = ckd_data.groupby('age_binned').agg(\n",
        "    mean_wbcc=('wbcc', 'mean'),\n",
        "    # (x == 'normal').sum() counts the number of True values in the boolean Series.\n",
        "    # Since True is treated as 1 and False as 0 in numeric operations, summing the boolean Series gives the count of 'normal' values.\n",
        "    normal_pc_count=('pc', lambda x: (x == 'normal').sum()),\n",
        "    abnormal_pc_count=('pc', lambda x: (x == 'abnormal').sum()),\n",
        "    unknown_pc_count=('pc', lambda x: (x == '?').sum())\n",
        ")\n",
        "\n",
        "# Display the summary statistics\n",
        "print(\"\\nSummary statistics by age bins:\")\n",
        "print(age_group_full_summary)"
      ]
    },
    {
      "cell_type": "markdown",
      "metadata": {
        "id": "_lBe3H3T47un"
      },
      "source": [
        "# Final Remarks:\n",
        "## This is just a collection of important Python concepts that are found useful.\n",
        "- They are by no means complete!\n",
        "- This is not meant to be a Python course. We are just using Python as a tool\n",
        "- Take the initiative to learn yourself using the sample codes provided in Lectures and the Project Objective"
      ]
    }
  ],
  "metadata": {
    "colab": {
      "provenance": [],
      "toc_visible": true
    },
    "kernelspec": {
      "display_name": "base",
      "language": "python",
      "name": "python3"
    },
    "language_info": {
      "codemirror_mode": {
        "name": "ipython",
        "version": 3
      },
      "file_extension": ".py",
      "mimetype": "text/x-python",
      "name": "python",
      "nbconvert_exporter": "python",
      "pygments_lexer": "ipython3",
      "version": "3.12.7"
    }
  },
  "nbformat": 4,
  "nbformat_minor": 0
}
